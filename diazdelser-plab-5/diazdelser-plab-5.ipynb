{
 "cells": [
  {
   "cell_type": "markdown",
   "source": [
    "# Handout 05\n",
    "#### Sara Díaz del Ser"
   ],
   "metadata": {
    "collapsed": false
   }
  },
  {
   "cell_type": "code",
   "execution_count": 62,
   "outputs": [],
   "source": [
    "import numpy as np\n",
    "import matplotlib.pyplot as plt\n",
    "from termcolor import colored"
   ],
   "metadata": {
    "collapsed": false,
    "pycharm": {
     "name": "#%%\n"
    }
   }
  },
  {
   "cell_type": "code",
   "execution_count": 63,
   "outputs": [],
   "source": [
    "# Data\n",
    "ecoli_proteome = './data/ecoli-proteome.faa'\n",
    "ecoli_orfs_sample = './data/ecoli-orfs-sample.ffn'\n",
    "ecoli_orfs = './data/ecoli-orfs.ffn'\n",
    "ecoli_genome = './data/ecoli-genome.fna'\n",
    "ecoli_genome_sample = './data/ecoli-genome-sample.fna'\n",
    "ecoli_genes_std= './data/ecoli-genes-standard.ffn'\n",
    "ecoli_genes = './data/ecoli-genes.ffn'"
   ],
   "metadata": {
    "collapsed": false,
    "pycharm": {
     "name": "#%%\n"
    }
   }
  },
  {
   "cell_type": "markdown",
   "source": [
    "### Ex. 1 _(6 pts)_ Reading and writing sequences in FASTA format"
   ],
   "metadata": {
    "collapsed": false
   }
  },
  {
   "cell_type": "markdown",
   "source": [
    "In previous exercises you were already tasked with reading (at least a single) sequence(s)\n",
    "from FASTA files. Having a collection of functions available for reading and writing sequence\n",
    "data is quite handy. There are a wide variety of formats available. However, the FASTA\n",
    "format is both popular and simple. Thus, it is well suited for writing a set of functions for\n",
    "dealing with sequences in this format. It does not matter whether the sequence(s) repesented\n",
    "consist of DNA, RNA or amino acids; however, there might be some conventions on file name\n",
    "extensions when dealing with one or the other type of sequence. More importantly, a file\n",
    "may contain a single sequence or more than one sequence and functions for reading and\n",
    "writing sequences in FASTA format should be able to deal with both cases:"
   ],
   "metadata": {
    "collapsed": false
   }
  },
  {
   "cell_type": "markdown",
   "source": [
    "#### (a) Reading multiple sequences from a file\n",
    "\n",
    "A FASTA file can contain more than one sequence. Write a function ```fasta_list(filename)```\n",
    "that reads all sequences from a FASTA file and returns a list of tuples, each tuple con-\n",
    "taining the header as the first and the sequence as the second element.\n",
    "Note, that a function written this way would normally first read the complete data\n",
    "contained in the FASTA file and return all the data in a single data structure, i.e., a\n",
    "list of tuples.\n"
   ],
   "metadata": {
    "collapsed": false,
    "pycharm": {
     "name": "#%% md\n"
    }
   }
  },
  {
   "cell_type": "code",
   "source": [
    "def fasta_list(filename:str) -> list:\n",
    "\t\"\"\"Reads all sequences from fasta file and returns a list of tuples containing of header and sequence\"\"\"\n",
    "\twith open(filename, 'r') as f:\n",
    "\t\t# Read all lines\n",
    "\t\tall_records = \"\".join(f.readlines()).split('>')\n",
    "\n",
    "\t\t# Split into headers and sequences\n",
    "\t\tfasta_list = [ (record.split('\\n',1)[0], record.split('\\n',1)[1].replace('\\n','')) \\\n",
    "\t\t\t\t\t   for record in all_records if record !='']\n",
    "\n",
    "\t\tprint(colored(f'Found a total of {len(fasta_list)} sequences in {filename}', 'green'))\n",
    "\treturn fasta_list"
   ],
   "metadata": {
    "collapsed": false,
    "pycharm": {
     "name": "#%%\n"
    }
   },
   "execution_count": 64,
   "outputs": []
  },
  {
   "cell_type": "code",
   "execution_count": 65,
   "outputs": [
    {
     "name": "stdout",
     "output_type": "stream",
     "text": [
      "\u001B[32mFound a total of 4141 sequences in ./data/ecoli-proteome.faa\u001B[0m\n"
     ]
    }
   ],
   "source": [
    "# Test function\n",
    "a = fasta_list(ecoli_proteome)"
   ],
   "metadata": {
    "collapsed": false,
    "pycharm": {
     "name": "#%%\n"
    }
   }
  },
  {
   "cell_type": "code",
   "execution_count": 66,
   "outputs": [
    {
     "name": "stdout",
     "output_type": "stream",
     "text": [
      "\u001B[32mFound a total of 4321 sequences in ./data/ecoli-genes.ffn\u001B[0m\n"
     ]
    }
   ],
   "source": [
    "# Test function\n",
    "b = fasta_list(ecoli_genes)"
   ],
   "metadata": {
    "collapsed": false,
    "pycharm": {
     "name": "#%%\n"
    }
   }
  },
  {
   "cell_type": "markdown",
   "source": [
    "####  (b) Using generators to read entries from FASTA files\n",
    "\n",
    "FASTA files can be very large and calling the function fasta_list could end up using a\n",
    "lot of memory. However, if you have a FASTA file (e.g. ```ecoli-genes.ffn```) containing a\n",
    "number of sequences, often you just want to perform some operation for each sequence\n",
    "separately (maybe something a simple as determine its length). In this case, it is not\n",
    "really necessary to first store all the elements in memory, rather it is preferable to have\n",
    "a mechanism that would yield one element (consisting of the header information and\n",
    "the sequence) at a time without reading all the data first.\n"
   ],
   "metadata": {
    "collapsed": false
   }
  },
  {
   "cell_type": "code",
   "execution_count": 67,
   "outputs": [],
   "source": [
    "def fasta_generator(filename:str):\n",
    "\t\"\"\"Reads all sequences from fasta file and returns a list of tuples containing of header and sequence\"\"\"\n",
    "\twith open(filename, \"r\") as f:\n",
    "\t\tline = f.readline()\n",
    "\t\twhile True:\n",
    "\t\t\tif line.startswith('>'):\n",
    "\t\t\t\theader = line.replace('\\n','')\n",
    "\t\t\t\t# Read the rest of the lines as long as they're not headers\n",
    "\t\t\t\tseq = ''\n",
    "\t\t\t\tnew_line = ''\n",
    "\t\t\t\twhile not new_line.startswith('>'):\n",
    "\t\t\t\t\tseq = seq + str(new_line)\n",
    "\t\t\t\t\ttry:\n",
    "\t\t\t\t\t\tnew_line = next(f)\n",
    "\t\t\t\t\texcept StopIteration:\n",
    "\t\t\t\t\t\treturn\n",
    "\t\t\t\t\tline = new_line\n",
    "\t\t\t\tyield (header, seq.replace('\\n',''))"
   ],
   "metadata": {
    "collapsed": false,
    "pycharm": {
     "name": "#%%\n"
    }
   }
  },
  {
   "cell_type": "code",
   "execution_count": 68,
   "outputs": [],
   "source": [
    "# Try it out\n",
    "g = fasta_generator(ecoli_genes)"
   ],
   "metadata": {
    "collapsed": false,
    "pycharm": {
     "name": "#%%\n"
    }
   }
  },
  {
   "cell_type": "code",
   "execution_count": 69,
   "outputs": [
    {
     "name": "stdout",
     "output_type": "stream",
     "text": [
      "('>gi|556503834|ref|NC_000913.3|:190-255 Escherichia coli str. K-12 substr. MG1655, complete genome', 'ATGAAACGCATTAGCACCACCATTACCACCACCATCACCATTACCACAGGTAACGGTGCGGGCTGA')\n",
      "('>gi|556503834|ref|NC_000913.3|:337-2799 Escherichia coli str. K-12 substr. MG1655, complete genome', 'ATGCGAGTGTTGAAGTTCGGCGGTACATCAGTGGCAAATGCAGAACGTTTTCTGCGTGTTGCCGATATTCTGGAAAGCAATGCCAGGCAGGGGCAGGTGGCCACCGTCCTCTCTGCCCCCGCCAAAATCACCAACCACCTGGTGGCGATGATTGAAAAAACCATTAGCGGCCAGGATGCTTTACCCAATATCAGCGATGCCGAACGTATTTTTGCCGAACTTTTGACGGGACTCGCCGCCGCCCAGCCGGGGTTCCCGCTGGCGCAATTGAAAACTTTCGTCGATCAGGAATTTGCCCAAATAAAACATGTCCTGCATGGCATTAGTTTGTTGGGGCAGTGCCCGGATAGCATCAACGCTGCGCTGATTTGCCGTGGCGAGAAAATGTCGATCGCCATTATGGCCGGCGTATTAGAAGCGCGCGGTCACAACGTTACTGTTATCGATCCGGTCGAAAAACTGCTGGCAGTGGGGCATTACCTCGAATCTACCGTCGATATTGCTGAGTCCACCCGCCGTATTGCGGCAAGCCGCATTCCGGCTGATCACATGGTGCTGATGGCAGGTTTCACCGCCGGTAATGAAAAAGGCGAACTGGTGGTGCTTGGACGCAACGGTTCCGACTACTCTGCTGCGGTGCTGGCTGCCTGTTTACGCGCCGATTGTTGCGAGATTTGGACGGACGTTGACGGGGTCTATACCTGCGACCCGCGTCAGGTGCCCGATGCGAGGTTGTTGAAGTCGATGTCCTACCAGGAAGCGATGGAGCTTTCCTACTTCGGCGCTAAAGTTCTTCACCCCCGCACCATTACCCCCATCGCCCAGTTCCAGATCCCTTGCCTGATTAAAAATACCGGAAATCCTCAAGCACCAGGTACGCTCATTGGTGCCAGCCGTGATGAAGACGAATTACCGGTCAAGGGCATTTCCAATCTGAATAACATGGCAATGTTCAGCGTTTCTGGTCCGGGGATGAAAGGGATGGTCGGCATGGCGGCGCGCGTCTTTGCAGCGATGTCACGCGCCCGTATTTCCGTGGTGCTGATTACGCAATCATCTTCCGAATACAGCATCAGTTTCTGCGTTCCACAAAGCGACTGTGTGCGAGCTGAACGGGCAATGCAGGAAGAGTTCTACCTGGAACTGAAAGAAGGCTTACTGGAGCCGCTGGCAGTGACGGAACGGCTGGCCATTATCTCGGTGGTAGGTGATGGTATGCGCACCTTGCGTGGGATCTCGGCGAAATTCTTTGCCGCACTGGCCCGCGCCAATATCAACATTGTCGCCATTGCTCAGGGATCTTCTGAACGCTCAATCTCTGTCGTGGTAAATAACGATGATGCGACCACTGGCGTGCGCGTTACTCATCAGATGCTGTTCAATACCGATCAGGTTATCGAAGTGTTTGTGATTGGCGTCGGTGGCGTTGGCGGTGCGCTGCTGGAGCAACTGAAGCGTCAGCAAAGCTGGCTGAAGAATAAACATATCGACTTACGTGTCTGCGGTGTTGCCAACTCGAAGGCTCTGCTCACCAATGTACATGGCCTTAATCTGGAAAACTGGCAGGAAGAACTGGCGCAAGCCAAAGAGCCGTTTAATCTCGGGCGCTTAATTCGCCTCGTGAAAGAATATCATCTGCTGAACCCGGTCATTGTTGACTGCACTTCCAGCCAGGCAGTGGCGGATCAATATGCCGACTTCCTGCGCGAAGGTTTCCACGTTGTCACGCCGAACAAAAAGGCCAACACCTCGTCGATGGATTACTACCATCAGTTGCGTTATGCGGCGGAAAAATCGCGGCGTAAATTCCTCTATGACACCAACGTTGGGGCTGGATTACCGGTTATTGAGAACCTGCAAAATCTGCTCAATGCAGGTGATGAATTGATGAAGTTCTCCGGCATTCTTTCTGGTTCGCTTTCTTATATCTTCGGCAAGTTAGACGAAGGCATGAGTTTCTCCGAGGCGACCACGCTGGCGCGGGAAATGGGTTATACCGAACCGGACCCGCGAGATGATCTTTCTGGTATGGATGTGGCGCGTAAACTATTGATTCTCGCTCGTGAAACGGGACGTGAACTGGAGCTGGCGGATATTGAAATTGAACCTGTGCTGCCCGCAGAGTTTAACGCCGAGGGTGATGTTGCCGCTTTTATGGCGAATCTGTCACAACTCGACGATCTCTTTGCCGCGCGCGTGGCGAAGGCCCGTGATGAAGGAAAAGTTTTGCGCTATGTTGGCAATATTGATGAAGATGGCGTCTGCCGCGTGAAGATTGCCGAAGTGGATGGTAATGATCCGCTGTTCAAAGTGAAAAATGGCGAAAACGCCCTGGCCTTCTATAGCCACTATTATCAGCCGCTGCCGTTGGTACTGCGCGGATATGGTGCGGGCAATGACGTTACAGCTGCCGGTGTCTTTGCTGATCTGCTACGTACCCTCTCATGGAAGTTAGGAGTCTGA')\n",
      "('>gi|556503834|ref|NC_000913.3|:2801-3733 Escherichia coli str. K-12 substr. MG1655, complete genome', 'ATGGTTAAAGTTTATGCCCCGGCTTCCAGTGCCAATATGAGCGTCGGGTTTGATGTGCTCGGGGCGGCGGTGACACCTGTTGATGGTGCATTGCTCGGAGATGTAGTCACGGTTGAGGCGGCAGAGACATTCAGTCTCAACAACCTCGGACGCTTTGCCGATAAGCTGCCGTCAGAACCACGGGAAAATATCGTTTATCAGTGCTGGGAGCGTTTTTGCCAGGAACTGGGTAAGCAAATTCCAGTGGCGATGACCCTGGAAAAGAATATGCCGATCGGTTCGGGCTTAGGCTCCAGTGCCTGTTCGGTGGTCGCGGCGCTGATGGCGATGAATGAACACTGCGGCAAGCCGCTTAATGACACTCGTTTGCTGGCTTTGATGGGCGAGCTGGAAGGCCGTATCTCCGGCAGCATTCATTACGACAACGTGGCACCGTGTTTTCTCGGTGGTATGCAGTTGATGATCGAAGAAAACGACATCATCAGCCAGCAAGTGCCAGGGTTTGATGAGTGGCTGTGGGTGCTGGCGTATCCGGGGATTAAAGTCTCGACGGCAGAAGCCAGGGCTATTTTACCGGCGCAGTATCGCCGCCAGGATTGCATTGCGCACGGGCGACATCTGGCAGGCTTCATTCACGCCTGCTATTCCCGTCAGCCTGAGCTTGCCGCGAAGCTGATGAAAGATGTTATCGCTGAACCCTACCGTGAACGGTTACTGCCAGGCTTCCGGCAGGCGCGGCAGGCGGTCGCGGAAATCGGCGCGGTAGCGAGCGGTATCTCCGGCTCCGGCCCGACCTTGTTCGCTCTGTGTGACAAGCCGGAAACCGCCCAGCGCGTTGCCGACTGGTTGGGTAAGAACTACCTGCAAAATCAGGAAGGTTTTGTTCATATTTGCCGGCTGGATACGGCGGGCGCACGAGTACTGGAAAACTAA')\n"
     ]
    }
   ],
   "source": [
    "print(next(g))\n",
    "print(next(g))\n",
    "print(next(g))"
   ],
   "metadata": {
    "collapsed": false,
    "pycharm": {
     "name": "#%%\n"
    }
   }
  },
  {
   "cell_type": "code",
   "execution_count": 70,
   "outputs": [
    {
     "name": "stdout",
     "output_type": "stream",
     "text": [
      "The longest gene is >gi|556503834|ref|NC_000913.3|:2044938-2052014 Escherichia coli str. K-12 substr. MG1655, complete genome and contains 7077 nucleobases.\n"
     ]
    }
   ],
   "source": [
    "# Now attempt to run this code:\n",
    "name,seq = max(fasta_generator(ecoli_genes),key= lambda x: len(x[1]))\n",
    "max_length = len(seq)\n",
    "print(\"The longest gene is\",name,\"and contains\",max_length,\"nucleobases.\")\n"
   ],
   "metadata": {
    "collapsed": false,
    "pycharm": {
     "name": "#%%\n"
    }
   }
  },
  {
   "cell_type": "markdown",
   "source": [
    "#### (c) Testing\n",
    "Test the functions written in (a) and (b) on ```ecoli-proteome.faa```: How many amino\n",
    "acid sequences are contained in the file? Determine the header and length of the shortest\n",
    "and longest amino acid sequence of the file."
   ],
   "metadata": {
    "collapsed": false,
    "pycharm": {
     "name": "#%% md\n"
    }
   }
  },
  {
   "cell_type": "code",
   "execution_count": 71,
   "outputs": [
    {
     "name": "stdout",
     "output_type": "stream",
     "text": [
      "\u001B[32mFound a total of 4141 sequences in ./data/ecoli-proteome.faa\u001B[0m\n",
      "Shortest sequence found was:\n",
      "\tgi|16129226|ref|NP_415781.1| trp operon leader peptide [Escherichia coli str. K-12 substr. MG1655]\n",
      "\t(Size: 14 aminoacids)\n",
      "Longest sequence found was:\n",
      "\tgi|145698281|ref|NP_416485.4| putative adhesin [Escherichia coli str. K-12 substr. MG1655]\n",
      "\t(Size: 2358 aminoacids)\n"
     ]
    }
   ],
   "source": [
    "# a) Read as list\n",
    "records_list = fasta_list(ecoli_proteome)\n",
    "\n",
    "# Get longest and shortest\n",
    "name_longest,seq_longest = max(records_list,key= lambda x: len(x[1]))\n",
    "name_shortest,seq_shortest = min(records_list,key= lambda x: len(x[1]))\n",
    "\n",
    "print(f\"Shortest sequence found was:\\n\\t{name_shortest}\\n\\t(Size: {len(seq_shortest)} aminoacids)\")\n",
    "print(f\"Longest sequence found was:\\n\\t{name_longest}\\n\\t(Size: {len(seq_longest)} aminoacids)\")"
   ],
   "metadata": {
    "collapsed": false,
    "pycharm": {
     "name": "#%%\n"
    }
   }
  },
  {
   "cell_type": "code",
   "execution_count": 72,
   "outputs": [
    {
     "name": "stdout",
     "output_type": "stream",
     "text": [
      "\u001B[32mFound a total of 4140 sequences in ./data/ecoli-proteome.faa\u001B[0m\n",
      "Shortest sequence found was:\n",
      "\t>gi|16129226|ref|NP_415781.1| trp operon leader peptide [Escherichia coli str. K-12 substr. MG1655]\n",
      "\t(Size: 14 aminoacids)\n",
      "Longest sequence found was:\n",
      "\t>gi|145698281|ref|NP_416485.4| putative adhesin [Escherichia coli str. K-12 substr. MG1655]\n",
      "\t(Size: 2358 aminoacids)\n"
     ]
    }
   ],
   "source": [
    "# b) Read as generator\n",
    "print(colored(f'Found a total of {sum(1 for _ in fasta_generator(ecoli_proteome))} sequences in {ecoli_proteome}', 'green'))\n",
    "\n",
    "name_longest,seq_longest = max(fasta_generator(ecoli_proteome),key= lambda x: len(x[1]))\n",
    "name_shortest,seq_shortest = min(fasta_generator(ecoli_proteome),key= lambda x: len(x[1]))\n",
    "\n",
    "print(f\"Shortest sequence found was:\\n\\t{name_shortest}\\n\\t(Size: {len(seq_shortest)} aminoacids)\")\n",
    "print(f\"Longest sequence found was:\\n\\t{name_longest}\\n\\t(Size: {len(seq_longest)} aminoacids)\")"
   ],
   "metadata": {
    "collapsed": false,
    "pycharm": {
     "name": "#%%\n"
    }
   }
  },
  {
   "cell_type": "markdown",
   "source": [
    "#### (d) Writing FASTA sequences\n",
    "Now write a function  ```write_fasta(outfile,header,sequence)`` that writes the sequence\n",
    "with header to the opened file outfile in FASTA format. Make sure the the written\n",
    "header line starts with > and that the sequence is split into lines containing exactly 70\n",
    "symbols (the final line may contain less than 70 symbols but should not be empty).\n",
    "\n",
    "If written this way, the function can also be used to write multiple sequences to a single\n",
    "file. E.g., the following piece of code writes short amino acid sequences of an albatross,\n",
    "a lumberjack, and a dead parrot to the file nudgenudge.faa.\n",
    "```\n",
    "with open(\"nudgenudge.faa\",\"w\") as f:\n",
    "\t\twrite_fasta(f,\"albatross\",\"WHATFLAVQRISIT\")\n",
    "\t\twrite_fasta(f,\"lumberjack\",\"ISLEEPALLNIGHTANDIWQRKALLDAY\")\n",
    "\t\twrite_fasta(f,\"deadparrot\",\"NQRWEGIANPLVE\")\n",
    "```"
   ],
   "metadata": {
    "collapsed": false,
    "pycharm": {
     "name": "#%% md\n"
    }
   }
  },
  {
   "cell_type": "code",
   "execution_count": 81,
   "outputs": [],
   "source": [
    "def write_fasta(outfile:str, header:str, sequence:str):\n",
    "\t\"\"\"Writes the given sequence and its header to the output file in FASTA format\"\"\"\n",
    "\tprint(f'>{header}', file=outfile)\n",
    "\tfor i in range(0, len(sequence), 70):\n",
    "\t\tif sequence[i:i+70] != '':\n",
    "\t\t\tprint(sequence[i:i+70], file=outfile)"
   ],
   "metadata": {
    "collapsed": false,
    "pycharm": {
     "name": "#%%\n"
    }
   }
  },
  {
   "cell_type": "code",
   "execution_count": 82,
   "outputs": [],
   "source": [
    "# Test it\n",
    "with open(\"nudgenudge.faa\",\"w\") as f:\n",
    "\t\twrite_fasta(f,\"albatross\",\"WHATFLAVQRISIT\")\n",
    "\t\twrite_fasta(f,\"lumberjack\",\"ISLEEPALLNIGHTANDIWQRKALLDAY\")\n",
    "\t\twrite_fasta(f,\"deadparrot\",\"NQRWEGIANPLVE\")"
   ],
   "metadata": {
    "collapsed": false,
    "pycharm": {
     "name": "#%%\n"
    }
   }
  },
  {
   "cell_type": "markdown",
   "source": [
    "### (e) Complementary DNA\n",
    "Write a function cdna(seq) that takes a DNA sequence as argument and returns the\n",
    "complementary DNA sequence. Note that nucleotide sequences are written in 5' to 3'\n",
    "direction. Your output should also give the sequence in the 5' to 3' direction! Note: You\n",
    "can test your function on the small DNA sequence given in ```ecoli-genome-sample.fna```."
   ],
   "metadata": {
    "collapsed": false,
    "pycharm": {
     "name": "#%% md\n"
    }
   }
  },
  {
   "cell_type": "code",
   "execution_count": 97,
   "outputs": [],
   "source": [
    "def cdna(seq:str) -> str:\n",
    "\t\"\"\"Takes DNA sequence and returns complementary\"\"\"\n",
    "\tswitch = { 'A' : 'T', 'T': 'A', 'C' : 'G', 'G': 'C'}\n",
    "\t# Use reverse to output it in 5' -> 3'\n",
    "\treturn \"\".join(reversed([switch[nt] for nt in seq]))"
   ],
   "metadata": {
    "collapsed": false,
    "pycharm": {
     "name": "#%%\n"
    }
   }
  },
  {
   "cell_type": "code",
   "execution_count": 99,
   "outputs": [
    {
     "data": {
      "text/plain": "'GCTGCTATCAGACACTCTTTTTTTAATCCACACAGAGACATATTGCCCGTTGCAGTCAGAATGAAAAGCT'"
     },
     "execution_count": 99,
     "metadata": {},
     "output_type": "execute_result"
    }
   ],
   "source": [
    "# Test it\n",
    "seq = 'AGCTTTTCATTCTGACTGCAACGGGCAATATGTCTCTGTGTGGATTAAAAAAAGAGTGTCTGATAGCAGC'\n",
    "cdna(seq)"
   ],
   "metadata": {
    "collapsed": false,
    "pycharm": {
     "name": "#%%\n"
    }
   }
  },
  {
   "cell_type": "markdown",
   "source": [
    "### (f) Creating a module: Putting things together.\n",
    "Put the definitions of the previous functions in a single file named fastatools.py.\n",
    "If you would run this script by itself you would observe no effect because all it does\n",
    "is define the functions. However, these functions might be actually useful as part of\n",
    "another script. Or, if you run import it in the notebook the functions can be used from\n",
    "within the notebook. You can use the import statement, which you already know from\n",
    "Python standard modules such as math:\n",
    "```\n",
    "from fastatools import single_fasta_sequence\n",
    "f = open(\"ecoli-genome.fna\")\n",
    "species,genome = single_fasta_sequence(f)\n",
    "f.close()\n",
    "print(\"The genome of\",species,\"contains\",len(genome),\"nucleotides.\")\n",
    "```\n",
    "or\n",
    "```\n",
    "import fastatools\n",
    "f=open(\"truth.faa\",\"w\")\n",
    "fastatools.write_fasta(f,\"theking\",\"ELVISISALIVE\")\n",
    "fastatools.write_fasta(f,\"liverpoolfour\",\"PAVLISDEAD\")\n",
    "f.close()\n",
    "```\n",
    "Python will find and import fastatools.py if it is in the current directory. You may\n",
    "want to use the functions defined here in the following exercise by importing them."
   ],
   "metadata": {
    "collapsed": false,
    "pycharm": {
     "name": "#%% md\n"
    }
   }
  },
  {
   "cell_type": "code",
   "execution_count": 102,
   "outputs": [
    {
     "ename": "ImportError",
     "evalue": "cannot import name 'single_fasta_sequence' from 'fastatools' (/Users/sara/PycharmProjects/plab-assigments/diazdelser-plab-5/fastatools.py)",
     "output_type": "error",
     "traceback": [
      "\u001B[0;31m---------------------------------------------------------------------------\u001B[0m",
      "\u001B[0;31mImportError\u001B[0m                               Traceback (most recent call last)",
      "Input \u001B[0;32mIn [102]\u001B[0m, in \u001B[0;36m<cell line: 1>\u001B[0;34m()\u001B[0m\n\u001B[0;32m----> 1\u001B[0m \u001B[38;5;28;01mfrom\u001B[39;00m \u001B[38;5;21;01mfastatools\u001B[39;00m \u001B[38;5;28;01mimport\u001B[39;00m single_fasta_sequence, complementary, write_to_fasta, all_fasta_sequences\n\u001B[1;32m      3\u001B[0m \u001B[38;5;28;01mwith\u001B[39;00m \u001B[38;5;28mopen\u001B[39m(ecoli_genome, \u001B[38;5;124m'\u001B[39m\u001B[38;5;124mr\u001B[39m\u001B[38;5;124m'\u001B[39m) \u001B[38;5;28;01mas\u001B[39;00m f:\n\u001B[1;32m      4\u001B[0m \tspecies,genome \u001B[38;5;241m=\u001B[39m single_fasta_sequence(f)\n",
      "\u001B[0;31mImportError\u001B[0m: cannot import name 'single_fasta_sequence' from 'fastatools' (/Users/sara/PycharmProjects/plab-assigments/diazdelser-plab-5/fastatools.py)"
     ]
    }
   ],
   "source": [
    "from fastatools import single_fasta_sequence, complementary, write_to_fasta, all_fasta_sequences\n",
    "\n",
    "with open(ecoli_genome, 'r') as f:\n",
    "\tspecies,genome = single_fasta_sequence(f)\n",
    "\n",
    "print(\"The genome of\",species,\"contains\",len(genome),\"nucleotides.\")"
   ],
   "metadata": {
    "collapsed": false,
    "pycharm": {
     "name": "#%%\n"
    }
   }
  },
  {
   "cell_type": "code",
   "execution_count": null,
   "outputs": [],
   "source": [],
   "metadata": {
    "collapsed": false,
    "pycharm": {
     "name": "#%%\n"
    }
   }
  }
 ],
 "metadata": {
  "kernelspec": {
   "display_name": "Python 3",
   "language": "python",
   "name": "python3"
  },
  "language_info": {
   "codemirror_mode": {
    "name": "ipython",
    "version": 2
   },
   "file_extension": ".py",
   "mimetype": "text/x-python",
   "name": "python",
   "nbconvert_exporter": "python",
   "pygments_lexer": "ipython2",
   "version": "2.7.6"
  }
 },
 "nbformat": 4,
 "nbformat_minor": 0
}