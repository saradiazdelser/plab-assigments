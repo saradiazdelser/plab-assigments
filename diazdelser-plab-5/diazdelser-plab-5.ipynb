{
 "cells": [
  {
   "cell_type": "markdown",
   "source": [
    "# Handout 05\n",
    "#### Sara Díaz del Ser"
   ],
   "metadata": {
    "collapsed": false
   }
  },
  {
   "cell_type": "code",
   "execution_count": null,
   "outputs": [],
   "source": [
    "import pathlib\n",
    "\n",
    "import numpy as np\n",
    "import matplotlib.pyplot as plt\n",
    "from termcolor import colored\n",
    "plt.style.use('dark_background')\n",
    "import pandas as pd\n"
   ],
   "metadata": {
    "collapsed": false,
    "pycharm": {
     "name": "#%%\n"
    }
   }
  },
  {
   "cell_type": "code",
   "execution_count": null,
   "outputs": [],
   "source": [
    "# Data\n",
    "ecoli_proteome = './data/ecoli-proteome.faa'\n",
    "ecoli_orfs_sample = './data/ecoli-orfs-sample.ffn'\n",
    "ecoli_orfs = './data/ecoli-orfs.ffn'\n",
    "ecoli_genome = './data/ecoli-genome.fna'\n",
    "ecoli_genome_sample = './data/ecoli-genome-sample.fna'\n",
    "ecoli_genes_std= './data/ecoli-genes-standard.ffn'\n",
    "ecoli_genes = './data/ecoli-genes.ffn'"
   ],
   "metadata": {
    "collapsed": false,
    "pycharm": {
     "name": "#%%\n"
    }
   }
  },
  {
   "cell_type": "markdown",
   "source": [
    "### Ex. 1 _(6 pts)_ Reading and writing sequences in FASTA format"
   ],
   "metadata": {
    "collapsed": false
   }
  },
  {
   "cell_type": "markdown",
   "source": [
    "In previous exercises you were already tasked with reading (at least a single) sequence(s)\n",
    "from FASTA files. Having a collection of functions available for reading and writing sequence\n",
    "data is quite handy. There are a wide variety of formats available. However, the FASTA\n",
    "format is both popular and simple. Thus, it is well suited for writing a set of functions for\n",
    "dealing with sequences in this format. It does not matter whether the sequence(s) repesented\n",
    "consist of DNA, RNA or amino acids; however, there might be some conventions on file name\n",
    "extensions when dealing with one or the other type of sequence. More importantly, a file\n",
    "may contain a single sequence or more than one sequence and functions for reading and\n",
    "writing sequences in FASTA format should be able to deal with both cases:"
   ],
   "metadata": {
    "collapsed": false
   }
  },
  {
   "cell_type": "markdown",
   "source": [
    "#### (a) Reading multiple sequences from a file\n",
    "\n",
    "A FASTA file can contain more than one sequence. Write a function ```fasta_list(filename)```\n",
    "that reads all sequences from a FASTA file and returns a list of tuples, each tuple con-\n",
    "taining the header as the first and the sequence as the second element.\n",
    "Note, that a function written this way would normally first read the complete data\n",
    "contained in the FASTA file and return all the data in a single data structure, i.e., a\n",
    "list of tuples.\n"
   ],
   "metadata": {
    "collapsed": false,
    "pycharm": {
     "name": "#%% md\n"
    }
   }
  },
  {
   "cell_type": "code",
   "source": [
    "def fasta_list(filename:str) -> list:\n",
    "\t\"\"\"Reads all sequences from fasta file and returns a list of tuples containing of header and sequence\"\"\"\n",
    "\twith open(filename, 'r') as f:\n",
    "\t\t# Read all lines\n",
    "\t\tall_records = \"\".join(f.readlines()).split('>')\n",
    "\n",
    "\t\t# Split into headers and sequences\n",
    "\t\tfasta_list = [ (record.split('\\n',1)[0], record.split('\\n',1)[1].replace('\\n','')) \\\n",
    "\t\t\t\t\t   for record in all_records if record !='']\n",
    "\n",
    "\t\tprint(colored(f'Found a total of {len(fasta_list)} sequences in {filename}', 'green'))\n",
    "\treturn fasta_list"
   ],
   "metadata": {
    "collapsed": false,
    "pycharm": {
     "name": "#%%\n"
    }
   },
   "execution_count": null,
   "outputs": []
  },
  {
   "cell_type": "code",
   "execution_count": null,
   "outputs": [],
   "source": [
    "# Test function\n",
    "a = fasta_list(ecoli_proteome)"
   ],
   "metadata": {
    "collapsed": false,
    "pycharm": {
     "name": "#%%\n"
    }
   }
  },
  {
   "cell_type": "code",
   "execution_count": null,
   "outputs": [],
   "source": [
    "# Test function\n",
    "b = fasta_list(ecoli_genes)"
   ],
   "metadata": {
    "collapsed": false,
    "pycharm": {
     "name": "#%%\n"
    }
   }
  },
  {
   "cell_type": "markdown",
   "source": [
    "####  (b) Using generators to read entries from FASTA files\n",
    "\n",
    "FASTA files can be very large and calling the function fasta_list could end up using a\n",
    "lot of memory. However, if you have a FASTA file (e.g. ```ecoli-genes.ffn```) containing a\n",
    "number of sequences, often you just want to perform some operation for each sequence\n",
    "separately (maybe something a simple as determine its length). In this case, it is not\n",
    "really necessary to first store all the elements in memory, rather it is preferable to have\n",
    "a mechanism that would yield one element (consisting of the header information and\n",
    "the sequence) at a time without reading all the data first.\n"
   ],
   "metadata": {
    "collapsed": false
   }
  },
  {
   "cell_type": "code",
   "execution_count": null,
   "outputs": [],
   "source": [
    "def fasta_generator(filename:str):\n",
    "\t\"\"\"Reads all sequences from fasta file and returns a list of tuples containing of header and sequence\"\"\"\n",
    "\twith open(filename, \"r\") as f:\n",
    "\t\tline = f.readline()\n",
    "\t\twhile True:\n",
    "\t\t\tif line.startswith('>'):\n",
    "\t\t\t\theader = line.replace('\\n','')\n",
    "\t\t\t\t# Read the rest of the lines as long as they're not headers\n",
    "\t\t\t\tseq = ''\n",
    "\t\t\t\tnew_line = ''\n",
    "\t\t\t\twhile not new_line.startswith('>'):\n",
    "\t\t\t\t\tseq = seq + str(new_line)\n",
    "\t\t\t\t\ttry:\n",
    "\t\t\t\t\t\tnew_line = next(f)\n",
    "\t\t\t\t\texcept StopIteration:\n",
    "\t\t\t\t\t\treturn\n",
    "\t\t\t\t\tline = new_line\n",
    "\t\t\t\tyield (header, seq.replace('\\n',''))"
   ],
   "metadata": {
    "collapsed": false,
    "pycharm": {
     "name": "#%%\n"
    }
   }
  },
  {
   "cell_type": "code",
   "execution_count": null,
   "outputs": [],
   "source": [
    "# Try it out\n",
    "g = fasta_generator(ecoli_genes)"
   ],
   "metadata": {
    "collapsed": false,
    "pycharm": {
     "name": "#%%\n"
    }
   }
  },
  {
   "cell_type": "code",
   "execution_count": null,
   "outputs": [],
   "source": [
    "print(next(g))\n",
    "print(next(g))\n",
    "print(next(g))"
   ],
   "metadata": {
    "collapsed": false,
    "pycharm": {
     "name": "#%%\n"
    }
   }
  },
  {
   "cell_type": "code",
   "execution_count": null,
   "outputs": [],
   "source": [
    "# Now attempt to run this code:\n",
    "name,seq = max(fasta_generator(ecoli_genes),key= lambda x: len(x[1]))\n",
    "max_length = len(seq)\n",
    "print(\"The longest gene is\",name,\"and contains\",max_length,\"nucleobases.\")"
   ],
   "metadata": {
    "collapsed": false,
    "pycharm": {
     "name": "#%%\n"
    }
   }
  },
  {
   "cell_type": "markdown",
   "source": [
    "#### (c) Testing\n",
    "Test the functions written in (a) and (b) on ```ecoli-proteome.faa```: How many amino\n",
    "acid sequences are contained in the file? Determine the header and length of the shortest\n",
    "and longest amino acid sequence of the file."
   ],
   "metadata": {
    "collapsed": false,
    "pycharm": {
     "name": "#%% md\n"
    }
   }
  },
  {
   "cell_type": "code",
   "execution_count": null,
   "outputs": [],
   "source": [
    "# a) Read as list\n",
    "records_list = fasta_list(ecoli_proteome)\n",
    "\n",
    "# Get longest and shortest\n",
    "name_longest,seq_longest = max(records_list,key= lambda x: len(x[1]))\n",
    "name_shortest,seq_shortest = min(records_list,key= lambda x: len(x[1]))\n",
    "\n",
    "print(f\"Shortest sequence found was:\\n\\t{name_shortest}\\n\\t(Size: {len(seq_shortest)} aminoacids)\")\n",
    "print(f\"Longest sequence found was:\\n\\t{name_longest}\\n\\t(Size: {len(seq_longest)} aminoacids)\")"
   ],
   "metadata": {
    "collapsed": false,
    "pycharm": {
     "name": "#%%\n"
    }
   }
  },
  {
   "cell_type": "code",
   "execution_count": null,
   "outputs": [],
   "source": [
    "# b) Read as generator\n",
    "print(colored(f'Found a total of {sum(1 for _ in fasta_generator(ecoli_proteome))} sequences in {ecoli_proteome}', 'green'))\n",
    "\n",
    "name_longest,seq_longest = max(fasta_generator(ecoli_proteome),key= lambda x: len(x[1]))\n",
    "name_shortest,seq_shortest = min(fasta_generator(ecoli_proteome),key= lambda x: len(x[1]))\n",
    "\n",
    "print(f\"Shortest sequence found was:\\n\\t{name_shortest}\\n\\t(Size: {len(seq_shortest)} aminoacids)\")\n",
    "print(f\"Longest sequence found was:\\n\\t{name_longest}\\n\\t(Size: {len(seq_longest)} aminoacids)\")"
   ],
   "metadata": {
    "collapsed": false,
    "pycharm": {
     "name": "#%%\n"
    }
   }
  },
  {
   "cell_type": "markdown",
   "source": [
    "#### (d) Writing FASTA sequences\n",
    "Now write a function  ```write_fasta(outfile,header,sequence)`` that writes the sequence\n",
    "with header to the opened file outfile in FASTA format. Make sure the the written\n",
    "header line starts with > and that the sequence is split into lines containing exactly 70\n",
    "symbols (the final line may contain less than 70 symbols but should not be empty).\n",
    "\n",
    "If written this way, the function can also be used to write multiple sequences to a single\n",
    "file. E.g., the following piece of code writes short amino acid sequences of an albatross,\n",
    "a lumberjack, and a dead parrot to the file nudgenudge.faa.\n",
    "```\n",
    "with open(\"nudgenudge.faa\",\"w\") as f:\n",
    "\t\twrite_fasta(f,\"albatross\",\"WHATFLAVQRISIT\")\n",
    "\t\twrite_fasta(f,\"lumberjack\",\"ISLEEPALLNIGHTANDIWQRKALLDAY\")\n",
    "\t\twrite_fasta(f,\"deadparrot\",\"NQRWEGIANPLVE\")\n",
    "```"
   ],
   "metadata": {
    "collapsed": false,
    "pycharm": {
     "name": "#%% md\n"
    }
   }
  },
  {
   "cell_type": "code",
   "execution_count": null,
   "outputs": [],
   "source": [
    "def write_fasta(outfile:str, header:str, sequence:str):\n",
    "\t\"\"\"Writes the given sequence and its header to the output file in FASTA format\"\"\"\n",
    "\tprint(f'>{header}', file=outfile)\n",
    "\tfor i in range(0, len(sequence), 70):\n",
    "\t\tif sequence[i:i+70] != '':\n",
    "\t\t\tprint(sequence[i:i+70], file=outfile)"
   ],
   "metadata": {
    "collapsed": false,
    "pycharm": {
     "name": "#%%\n"
    }
   }
  },
  {
   "cell_type": "code",
   "execution_count": null,
   "outputs": [],
   "source": [
    "# Test it\n",
    "with open(\"nudgenudge.faa\",\"w\") as f:\n",
    "\t\twrite_fasta(f,\"albatross\",\"WHATFLAVQRISIT\")\n",
    "\t\twrite_fasta(f,\"lumberjack\",\"ISLEEPALLNIGHTANDIWQRKALLDAY\")\n",
    "\t\twrite_fasta(f,\"deadparrot\",\"NQRWEGIANPLVE\")"
   ],
   "metadata": {
    "collapsed": false,
    "pycharm": {
     "name": "#%%\n"
    }
   }
  },
  {
   "cell_type": "markdown",
   "source": [
    "### (e) Complementary DNA\n",
    "Write a function cdna(seq) that takes a DNA sequence as argument and returns the\n",
    "complementary DNA sequence. Note that nucleotide sequences are written in 5' to 3'\n",
    "direction. Your output should also give the sequence in the 5' to 3' direction! Note: You\n",
    "can test your function on the small DNA sequence given in ```ecoli-genome-sample.fna```."
   ],
   "metadata": {
    "collapsed": false,
    "pycharm": {
     "name": "#%% md\n"
    }
   }
  },
  {
   "cell_type": "code",
   "execution_count": null,
   "outputs": [],
   "source": [
    "def cdna(seq:str) -> str:\n",
    "\t\"\"\"Takes DNA sequence and returns complementary\"\"\"\n",
    "\tswitch = { 'A' : 'T', 'T': 'A', 'C' : 'G', 'G': 'C'}\n",
    "\t# Use reverse to output it in 5' -> 3'\n",
    "\treturn \"\".join(reversed([switch[nt] for nt in seq]))"
   ],
   "metadata": {
    "collapsed": false,
    "pycharm": {
     "name": "#%%\n"
    }
   }
  },
  {
   "cell_type": "code",
   "execution_count": null,
   "outputs": [],
   "source": [
    "# Test it\n",
    "seq = 'AGCTTTTCATTCTGACTGCAACGGGCAATATGTCTCTGTGTGGATTAAAAAAAGAGTGTCTGATAGCAGC'\n",
    "cdna(seq)"
   ],
   "metadata": {
    "collapsed": false,
    "pycharm": {
     "name": "#%%\n"
    }
   }
  },
  {
   "cell_type": "markdown",
   "source": [
    "### (f) Creating a module: Putting things together.\n",
    "Put the definitions of the previous functions in a single file named fastatools.py.\n",
    "If you would run this script by itself you would observe no effect because all it does\n",
    "is define the functions. However, these functions might be actually useful as part of\n",
    "another script. Or, if you run import it in the notebook the functions can be used from\n",
    "within the notebook. You can use the import statement, which you already know from\n",
    "Python standard modules such as math:\n",
    "```\n",
    "from fastatools import single_fasta_sequence\n",
    "f = open(\"ecoli-genome.fna\")\n",
    "species,genome = single_fasta_sequence(f)\n",
    "f.close()\n",
    "print(\"The genome of\",species,\"contains\",len(genome),\"nucleotides.\")\n",
    "```\n",
    "or\n",
    "```\n",
    "import fastatools\n",
    "f=open(\"truth.faa\",\"w\")\n",
    "fastatools.write_fasta(f,\"theking\",\"ELVISISALIVE\")\n",
    "fastatools.write_fasta(f,\"liverpoolfour\",\"PAVLISDEAD\")\n",
    "f.close()\n",
    "```\n",
    "Python will find and import fastatools.py if it is in the current directory. You may\n",
    "want to use the functions defined here in the following exercise by importing them.\n"
   ],
   "metadata": {
    "collapsed": false,
    "pycharm": {
     "name": "#%% md\n"
    }
   }
  },
  {
   "cell_type": "markdown",
   "source": [
    "Note: fastatools is a python module I had already installed,\n",
    "so mine is called ```diazdelser_fastatools```  to avoid import errors\n",
    "\n",
    "Also, I modified the functions to work with an inputed open file\n",
    "and changed the names"
   ],
   "metadata": {
    "collapsed": false,
    "pycharm": {
     "name": "#%% md\n"
    }
   },
   "outputs": [
    {
     "name": "stdout",
     "output_type": "stream",
     "text": [
      "^C\r\n",
      "\u001B[31mERROR: Operation cancelled by user\u001B[0m\u001B[31m\r\n",
      "\u001B[0mFound existing installation: fastatools 1.2.0\r\n",
      "Uninstalling fastatools-1.2.0:\r\n",
      "  Would remove:\r\n",
      "    /Users/sara/PycharmProjects/plab-assigments/venv/bin/fastatools\r\n",
      "    /Users/sara/PycharmProjects/plab-assigments/venv/lib/python3.9/site-packages/fastatools-1.2.0.dist-info/*\r\n",
      "    /Users/sara/PycharmProjects/plab-assigments/venv/lib/python3.9/site-packages/fastatools/*\r\n",
      "Proceed (Y/n)? ^C\r\n",
      "\u001B[31mERROR: Operation cancelled by user\u001B[0m\u001B[31m\r\n",
      "\u001B[0m"
     ]
    }
   ],
   "execution_count": 118
  },
  {
   "cell_type": "code",
   "execution_count": null,
   "outputs": [],
   "source": [
    "# Import modules\n",
    "from diazdelser_fastatools import single_fasta_sequence, complementary, write_to_fasta, all_fasta_sequences"
   ],
   "metadata": {
    "collapsed": false,
    "pycharm": {
     "name": "#%%\n"
    }
   }
  },
  {
   "cell_type": "code",
   "execution_count": null,
   "outputs": [],
   "source": [
    "# Testing fasta generator\n",
    "with open(ecoli_genes, 'r') as f:\n",
    "\tg = single_fasta_sequence(f)\n",
    "\tspecies, genome = next(g)\n",
    "\tprint(\"The genome of\",species,\"contains\",len(genome),\"nucleotides.\")"
   ],
   "metadata": {
    "collapsed": false,
    "pycharm": {
     "name": "#%%\n"
    }
   }
  },
  {
   "cell_type": "code",
   "execution_count": null,
   "outputs": [],
   "source": [
    "# Testing fasta writer\n",
    "with open (\"truth.faa\",\"w\") as f:\n",
    "\twrite_to_fasta(f,\"theking\",\"ELVISISALIVE\")\n",
    "\twrite_to_fasta(f,\"liverpoolfour\",\"PAVLISDEAD\")"
   ],
   "metadata": {
    "collapsed": false,
    "pycharm": {
     "name": "#%%\n"
    }
   }
  },
  {
   "cell_type": "markdown",
   "source": [
    "## Open reading frames\n",
    "### Ex.1 _(9 pts)_ Finding genes in prokaryotes: Open Reading Frames\n",
    "#### ORF finder\n",
    "\n",
    "Write a script ```orf_finder.py``` that takes two command line parameters. The first is an input\n",
    "file containing a DNA sequence. The second is an output file that should contain all the\n",
    "(longest) open reading frames found in DNA (from both strands). Note that for each stop\n",
    "codon you should only write one open reading frame: use the longest open reading frame\n",
    "ending at the stop codon.\n",
    "\n",
    "In the output FASTA file, each open reading frame should have a header that identifies\n",
    "the genome and its position in the genome by giving the start and end position. The first\n",
    "word in a header of a FASTA sequence is an identifier. Take the identifier from the genome\n",
    "sequence and append a sequence identifier in the format :123-455 for an ORF on the given\n",
    "strand from positon 123 (First nucleotide of the start codon) to 455 (last nucleotide of the\n",
    "stop codon) and :c455-123 for an ORF on the complementary strand from 455 to 123. Use\n",
    "this as a new header for each ORF. (Start counting nucleotides from 1 and not from 0.)\n",
    "\n",
    "Write the open reading frames in the order they appear on the genome of ```ecoli-genome.fna```\n",
    "and store them in a file ```ecoli-orf.ffn```.\n",
    "\n",
    "Note: While writing your program and before using it on the whole genome ecoli-genome.fna\n",
    "you should try it on the small sample file ```ecoli-genome-sample.fna``` and compare the out-\n",
    "put to the file sample orf file ```ecoli-orf-sample.ffn```.\n",
    "\n",
    "Note: Try to make sure your program is not only effective but also eficient, i.e., it should\n",
    "be fast and not use unnecessary (implicit or explicit) nested loops.\n"
   ],
   "metadata": {
    "collapsed": false,
    "pycharm": {
     "name": "#%% md\n"
    }
   }
  },
  {
   "cell_type": "code",
   "execution_count": null,
   "outputs": [],
   "source": [
    "%run diazdelser-orf_finder.py './data/ecoli-genome.fna' 'ecoli-orf-results.ffn'\n"
   ],
   "metadata": {
    "collapsed": false,
    "pycharm": {
     "name": "#%%\n"
    }
   }
  },
  {
   "cell_type": "code",
   "execution_count": null,
   "outputs": [],
   "source": [
    "%run diazdelser-orf_finder.py './data/ecoli-genome-sample.fna' 'ecoli-orf-sample-results.ffn'\n"
   ],
   "metadata": {
    "collapsed": false,
    "pycharm": {
     "name": "#%%\n"
    }
   }
  },
  {
   "cell_type": "markdown",
   "source": [
    "### Ex.2 _(5 pts)_ Assessing the quality of the ORF approach\n",
    "Just looking for open reading frames is a very simple method for trying to identify new genes.\n",
    "The proteome of Escherichia coli is known and the gene coding regions are available in\n",
    "FASTA format. The gene coding regions can be found in the file ```ecoli-genes-standard.ffn```.\n",
    "This file contains those genes from the file ```ecoli-genes.ffn``` that correspond to a single\n",
    "continuous DNA region ending in one of the standard stop codons. Note, that this file also\n",
    "contains some genes (ca. 12%) with alternative start codons.\n",
    "\n",
    "If you compare the lengths of the files from the previous exercise ```ecoli-orf.ffn``` and\n",
    "```ecoli-genes-standard.ffn``` you should notice that the ORF file is much larger so probably\n",
    "a lot of non-coding ORFs were identified by our program. The following scripts will allow\n",
    "you to investigate how successful the program was.\n",
    "\n",
    "First, we would like to find out how many gene-coding ORFs were identified and how many\n",
    "we missed. The header for each ORF in our output file contains the start and end position\n",
    "of each ORF. Likewise, these positions are given in the file ```ecoli-genes-standard.ffn```."
   ],
   "metadata": {
    "collapsed": false,
    "pycharm": {
     "name": "#%% md\n"
    }
   }
  },
  {
   "cell_type": "markdown",
   "source": [
    "#### (a) _(1 pt)_ Get gene sequence positions from headers\n",
    "Write a function get_sequence_positions(fasta_file) that can retrieve the se-\n",
    "quence positions from the headers of the sequences in ```ecoli-orf.ffn``` and ```ecoli-genes-standard.ffn```.\n",
    "In both files, sequence positons should have been stored basically in the same manner\n",
    "at the end of the identifier, in ```ecoli-genes.ffn```:\n",
    "\n",
    "\t>gi|556503834|ref|NC_000913.3|:190-255 Escherichia coli str. K-12 substr. MG1655\n",
    "\n",
    "and in ```ecoli-orf.ffn```:\n",
    "\n",
    "\t>gi|556503834|ref|NC_000913.3|:190-255\n",
    "\n",
    "The results should be stored in a dictionary where the key is the end position and the\n",
    "value is the start positon. The end position is used as key because a gene-coding ORF\n",
    "has to end at the stop codon but the start of the real gene might be one of several\n",
    "methionine codons ATG found inside the ORF."
   ],
   "metadata": {
    "collapsed": false,
    "pycharm": {
     "name": "#%% md\n"
    }
   }
  },
  {
   "cell_type": "code",
   "execution_count": null,
   "outputs": [],
   "source": [
    "import re\n",
    "def get_sequence_positions(f) -> dict:\n",
    "\t\"\"\"Get positions of ORF from open fasta file\"\"\"\n",
    "\tresults = {}\n",
    "\tfor gen in all_fasta_sequences(f):\n",
    "\t\theader, seq = gen\n",
    "\t\tm = re.search(r'(\\d+)-(\\d+)', header)\n",
    "\t\tstart = m.group(1)\n",
    "\t\tend = m.group(2)\n",
    "\t\tresults.update({end : start})\n",
    "\treturn results"
   ],
   "metadata": {
    "collapsed": false,
    "pycharm": {
     "name": "#%%\n"
    }
   }
  },
  {
   "cell_type": "code",
   "execution_count": null,
   "outputs": [],
   "source": [
    "with open(ecoli_orfs_sample, 'r') as f:\n",
    "\tresults = get_sequence_positions(f)\n",
    "results"
   ],
   "metadata": {
    "collapsed": false,
    "pycharm": {
     "name": "#%%\n"
    }
   }
  },
  {
   "cell_type": "markdown",
   "source": [
    "#### (b) _(2 pts)_ Correctly predicted ORFs\n",
    "Write a script correct_orfs.py taking two command line parameters, the  first should\n",
    "be a FASTA  file of open reading frames and the second a  file of genes. It should calculate\n",
    "and print the following things:\n",
    " * total number of open reading frames\n",
    " * total number of genes\n",
    " * total number and ratio of open reading frames correctly predicting a gene (with\n",
    "correct start codon)\n",
    " * total number and ratio of open reading frames correctly predicting at least the stop\n",
    "codon of a gene (i.e. the ORF might be longer because the real start of transcription\n",
    "is determined by another start codon in the ORF.)\n",
    " * number of missed genes, i.e., genes of ```ecoli-genes-standard.ffn``` whose stop\n",
    "codon does not correspond to any ORF stop codon.\n"
   ],
   "metadata": {
    "collapsed": false,
    "pycharm": {
     "name": "#%% md\n"
    }
   }
  },
  {
   "cell_type": "code",
   "execution_count": null,
   "outputs": [],
   "source": [
    "%run diazdelser-correct_orfs.py main 'ecoli-orf-sample-results.ffn' 'data/ecoli-orfs-sample.ffn' 0"
   ],
   "metadata": {
    "collapsed": false,
    "pycharm": {
     "name": "#%%\n"
    }
   }
  },
  {
   "cell_type": "code",
   "execution_count": null,
   "outputs": [],
   "source": [
    "%run diazdelser-correct_orfs.py main 'ecoli-orf-results.ffn' 'data/ecoli-genes-standard.ffn' 0\n"
   ],
   "metadata": {
    "collapsed": false,
    "pycharm": {
     "name": "#%%\n"
    }
   }
  },
  {
   "cell_type": "markdown",
   "source": [
    "#### (c) _(2 pts)_ Taking ORF length into account\n",
    "These results might seem pretty disappointing. However, one simple aspect of open\n",
    "reading frames that has not been taken into account is their length. The average length\n",
    "of a bacterial protein is around 250 amino acids (corresponding to 750 nucleotides).\n",
    "Modify your previous script so that you can give an additional parameter determining\n",
    "the minimum length of an ORF/gene as a parameter. All ORFs smaller than the given\n",
    "parameter should not be considered genes.\n"
   ],
   "metadata": {
    "collapsed": false,
    "pycharm": {
     "name": "#%% md\n"
    }
   }
  },
  {
   "cell_type": "code",
   "execution_count": null,
   "outputs": [],
   "source": [
    "# Add input: minimum length of an ORF/gene\n",
    "# If ORF is smaller, should not be considered\n",
    "def delimit_size(pos_dict:dict, limit:int) -> dict:\n",
    "\t\"\"\"Remove positions that dont make the min size limit\"\"\"\n",
    "\treturn { end: start for end,start in pos_dict.items() \\\n",
    "\t\t\t if (int(end)-int(start) >=limit or int(start)-int(end) >=limit) }\n"
   ],
   "metadata": {
    "collapsed": false,
    "pycharm": {
     "name": "#%%\n"
    }
   }
  },
  {
   "cell_type": "markdown",
   "source": [
    "Check your results for minimum sizes of 50,\n",
    "100, 150, 200, 250, 300, and 350 amino acids. (Remember that you need to multiply\n",
    "the number of amino acids by 3 to get the number of nucleotides.)"
   ],
   "metadata": {
    "collapsed": false,
    "pycharm": {
     "name": "#%% md\n"
    }
   }
  },
  {
   "cell_type": "code",
   "execution_count": null,
   "outputs": [],
   "source": [
    "%run diazdelser-correct_orfs.py compare 'ecoli-orf-results.ffn' 'data/ecoli-genes-standard.ffn'"
   ],
   "metadata": {
    "collapsed": false,
    "pycharm": {
     "name": "#%%\n"
    }
   }
  },
  {
   "cell_type": "markdown",
   "source": [
    "### Ex.3 _(Optional 3 pts)_ Optimizing the classification performance\n",
    "Write a modified version of the script that is able to determine the minimum ORF length\n",
    "that gives the best balanced accuracy."
   ],
   "metadata": {
    "collapsed": false
   }
  },
  {
   "cell_type": "code",
   "execution_count": null,
   "outputs": [],
   "source": [
    "%run diazdelser-acc.py main 'ecoli-orf-results.ffn' 'data/ecoli-genes-standard.ffn' 50"
   ],
   "metadata": {
    "collapsed": false,
    "pycharm": {
     "name": "#%%\n"
    }
   }
  },
  {
   "cell_type": "code",
   "execution_count": null,
   "outputs": [],
   "source": [
    "%run diazdelser-acc.py compare 'ecoli-orf-results.ffn' 'data/ecoli-genes-standard.ffn' --acc"
   ],
   "metadata": {
    "collapsed": false,
    "pycharm": {
     "name": "#%%\n"
    }
   }
  },
  {
   "cell_type": "markdown",
   "source": [
    "According to the generated graph, the minimum ORF length that gives the best balanced accuracy\n",
    "is 100 nt, which is roughly 33 aminoacids.\n"
   ],
   "metadata": {
    "collapsed": false,
    "pycharm": {
     "name": "#%% md\n"
    }
   }
  }
 ],
 "metadata": {
  "kernelspec": {
   "name": "python3",
   "language": "python",
   "display_name": "Python 3 (ipykernel)"
  },
  "language_info": {
   "codemirror_mode": {
    "name": "ipython",
    "version": 2
   },
   "file_extension": ".py",
   "mimetype": "text/x-python",
   "name": "python",
   "nbconvert_exporter": "python",
   "pygments_lexer": "ipython2",
   "version": "2.7.6"
  }
 },
 "nbformat": 4,
 "nbformat_minor": 0
}