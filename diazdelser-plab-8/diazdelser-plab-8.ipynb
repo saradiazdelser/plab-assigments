{
 "cells": [
  {
   "cell_type": "markdown",
   "source": [
    "# Handout 08\n",
    "#### Sara Díaz del Ser\n"
   ],
   "metadata": {
    "collapsed": false
   }
  },
  {
   "cell_type": "code",
   "execution_count": 69,
   "outputs": [],
   "source": [
    "import matplotlib.pyplot as plt\n",
    "import numpy as np\n",
    "import pandas as pd\n",
    "from termcolor import colored\n",
    "import itertools as it\n",
    "import numpy as np\n",
    "from collections import Counter\n",
    "import diazdelser_fastatools as fa\n",
    "\n",
    "\n",
    "plt.style.use('dark_background')"
   ],
   "metadata": {
    "collapsed": false,
    "pycharm": {
     "name": "#%%\n"
    }
   }
  },
  {
   "cell_type": "code",
   "execution_count": 3,
   "outputs": [],
   "source": [
    "# Files\n",
    "insensitive_file = './data/exosome-insensitive.fa'\n",
    "sensitive_file= './data/exosome-sensitive.fa'"
   ],
   "metadata": {
    "collapsed": false,
    "pycharm": {
     "name": "#%%\n"
    }
   }
  },
  {
   "cell_type": "markdown",
   "source": [
    "### Ex. 1 _(20 pts)_ K-Mer Distributions"
   ],
   "metadata": {
    "collapsed": false
   }
  },
  {
   "cell_type": "markdown",
   "source": [
    "#### (a) _(5 pts)_ Write a function ```kmer_frequencies(seqs,k)```\n",
    "that takes a set of $m$ RNA sequences seqs and a parameter k as input and returns the relative frequencies for all\n",
    "k-mers contained in the sequences as a dictionary. Note, that each sequence of length $n$ contains $n$ - $k$ + 1 k-mers.\n",
    "\n",
    "For the calculation of relative frequencies use pseudocounts. That is, the frequency of\n",
    "each k-mer is increased by 1, regardless whether it occurs in the sequences or not."
   ],
   "metadata": {
    "collapsed": false
   }
  },
  {
   "cell_type": "code",
   "execution_count": 70,
   "outputs": [],
   "source": [
    "def kmer_frequencies(seq:str,k:int) -> dict:\n",
    "\t\"\"\"Takes a sequence and a parameter k and returns the relative frequencies for all k-mers\"\"\"\n",
    "\t# Generate dict of possible kmers\n",
    "\tkmers = { \"\".join(kmer) : 1 for kmer in it.product(['A','G','T','C'], repeat=k) }\n",
    "\n",
    "\t# Count each kmer\n",
    "\tfor i in range(0,len(seq)-k+1):\n",
    "\t\tkmers[seq[i:i+k]] = kmers.get(seq[i:i+k], 1) + 1\n",
    "\n",
    "\t# Observed relative freq\n",
    "\treturn { key: round(val/(sum(kmers.values())),2) for key, val in kmers.items()}\n",
    "\n",
    "\n",
    "def kmer_freq_wrapper(seqs:list, k:int) -> dict:\n",
    "\t\"\"\"Takes a set of RNA sequences and a parameter k and returns the relative frequencies for all k-mers\"\"\"\n",
    "\treturn { seq : kmer_frequencies(seq,k) for seq in seqs }"
   ],
   "metadata": {
    "collapsed": false,
    "pycharm": {
     "name": "#%%\n"
    }
   }
  },
  {
   "cell_type": "code",
   "execution_count": 71,
   "outputs": [
    {
     "data": {
      "text/plain": "{'GATGCGTAATGGATTCGATGCATGCGGCGTGAACTAGTCTAACG': {'AA': 0.07,\n  'AG': 0.03,\n  'AT': 0.1,\n  'AC': 0.05,\n  'GA': 0.08,\n  'GG': 0.05,\n  'GT': 0.07,\n  'GC': 0.08,\n  'TA': 0.07,\n  'TG': 0.1,\n  'TT': 0.03,\n  'TC': 0.05,\n  'CA': 0.03,\n  'CG': 0.1,\n  'CT': 0.05,\n  'CC': 0.02}}"
     },
     "execution_count": 71,
     "metadata": {},
     "output_type": "execute_result"
    }
   ],
   "source": [
    "# Example\n",
    "kmer_freq_wrapper(['GATGCGTAATGGATTCGATGCATGCGGCGTGAACTAGTCTAACG'],2)"
   ],
   "metadata": {
    "collapsed": false,
    "pycharm": {
     "name": "#%%\n"
    }
   }
  },
  {
   "cell_type": "markdown",
   "source": [
    "#### (b) _(6 pts)_\n",
    "To determine whether a certain k-mer is over- or under-represented one needs\n",
    "to determine the background frequencies of individual nucleotides. If you solved the\n",
    "previous exercise properly, the background frequencies for a set of sequences seqs can\n",
    "be obtained form the call ```kmer_frequencies(seqs,1)```.\n",
    "\n",
    "Similar to the calculations of the BLOSUM scoring matrix odds-ratios can be calculated\n",
    "for the k-mers."
   ],
   "metadata": {
    "collapsed": false
   }
  },
  {
   "cell_type": "code",
   "execution_count": 74,
   "outputs": [],
   "source": [
    "def expected_relative_frequency(seq:str, kmers:dict) -> dict:\n",
    "\t\"\"\"Takes a sequence and returns the expected relative frequency for all k-mers\"\"\"\n",
    "\t# Observed relative freq of each nucleotide\n",
    "\tobserved = { key : round(val/sum(Counter(seq).values()),2) for key,val in Counter(seq).items() }\n",
    "\treturn { kmer : np.product([ observed[nt] for nt in kmer ]) for kmer in kmers.keys() }"
   ],
   "metadata": {
    "collapsed": false,
    "pycharm": {
     "name": "#%%\n"
    }
   }
  },
  {
   "cell_type": "code",
   "execution_count": 101,
   "outputs": [
    {
     "data": {
      "text/plain": "{'AA': 0.0625,\n 'AG': 0.08,\n 'AT': 0.0625,\n 'AC': 0.045,\n 'GA': 0.08,\n 'GG': 0.1024,\n 'GT': 0.08,\n 'GC': 0.0576,\n 'TA': 0.0625,\n 'TG': 0.08,\n 'TT': 0.0625,\n 'TC': 0.045,\n 'CA': 0.045,\n 'CG': 0.0576,\n 'CT': 0.045,\n 'CC': 0.0324}"
     },
     "execution_count": 101,
     "metadata": {},
     "output_type": "execute_result"
    }
   ],
   "source": [
    "# Example\n",
    "seq = 'GATGCGTAATGGATTCGATGCATGCGGCGTGAACTAGTCTAACG'\n",
    "kmers = kmer_frequencies(seq,2)\n",
    "expected_relative_frequency(seq, kmers)"
   ],
   "metadata": {
    "collapsed": false,
    "pycharm": {
     "name": "#%%\n"
    }
   }
  },
  {
   "cell_type": "markdown",
   "source": [
    "Write a function ```log_odds_ratio(observed,background)``` that takes as argument a\n",
    "dictionary of observed frequencies of k-mers and a dictionary containing the background\n",
    "frequencies of the individual nucleotides and calculates the log-odds ratio."
   ],
   "metadata": {
    "collapsed": false,
    "pycharm": {
     "name": "#%% md\n"
    }
   }
  },
  {
   "cell_type": "code",
   "execution_count": 94,
   "outputs": [],
   "source": [
    "def log_odds_ratio(observed:dict, background:dict) -> dict:\n",
    "\t\"\"\"Takes a sequence and returns the log_odd_ratio for all k-mers\"\"\"\n",
    "\treturn { key : np.log2(observed[key]/background[key]) for key in observed.keys() }"
   ],
   "metadata": {
    "collapsed": false,
    "pycharm": {
     "name": "#%%\n"
    }
   }
  },
  {
   "cell_type": "code",
   "execution_count": 103,
   "outputs": [
    {
     "data": {
      "text/plain": "{'AA': 0.16349873228287956,\n 'AG': -1.415037499278844,\n 'AT': 0.6780719051126377,\n 'AC': 0.15200309344505006,\n 'GA': 0.0,\n 'GG': -1.034215715337913,\n 'GT': -0.19264507794239571,\n 'GC': 0.4739311883324125,\n 'TA': 0.16349873228287956,\n 'TG': 0.32192809488736235,\n 'TT': -1.0588936890535685,\n 'TC': 0.15200309344505006,\n 'CA': -0.5849625007211563,\n 'CG': 0.7958592832197747,\n 'CT': 0.15200309344505006,\n 'CC': -0.6959938131098998}"
     },
     "execution_count": 103,
     "metadata": {},
     "output_type": "execute_result"
    }
   ],
   "source": [
    "# Example\n",
    "seq = 'GATGCGTAATGGATTCGATGCATGCGGCGTGAACTAGTCTAACG'\n",
    "observed = kmer_frequencies(seq,2)\n",
    "background = expected_relative_frequency(seq, observed)\n",
    "log_odds_ratio(observed, background)"
   ],
   "metadata": {
    "collapsed": false,
    "pycharm": {
     "name": "#%%\n"
    }
   }
  },
  {
   "cell_type": "code",
   "execution_count": 80,
   "outputs": [],
   "source": [
    "def log_odds_wrapper(seqs:list, k:int) -> dict:\n",
    "\t\"\"\"Takes a set of RNA sequences and a parameter k and returns the log_odds_ratio for all k-mers\"\"\"\n",
    "\tresults = {}\n",
    "\tfor seq in seqs:\n",
    "\t\tobserved = kmer_frequencies(seq,k)\n",
    "\t\tbackground = expected_relative_frequency(seq, kmers)\n",
    "\t\tresults[seq] = log_odds_ratio(observed, background)\n",
    "\n",
    "\treturn results"
   ],
   "metadata": {
    "collapsed": false,
    "pycharm": {
     "name": "#%%\n"
    }
   }
  },
  {
   "cell_type": "code",
   "execution_count": null,
   "outputs": [],
   "source": [
    "# Example\n",
    "log_odds_wrapper([seq],2)"
   ],
   "metadata": {
    "collapsed": false,
    "pycharm": {
     "name": "#%%\n"
    }
   }
  },
  {
   "cell_type": "markdown",
   "source": [
    "#### (c) _(3 pts)_ For the given data exosome-sensitive.fa and exosome-insensitive.fa calculate:\n",
    "Perform these calculations for k = 2; 3; and 4.\n",
    "\n",
    "i. The background frequencies of the nucleotides using the combined set of sequences."
   ],
   "metadata": {
    "collapsed": false,
    "pycharm": {
     "name": "#%% md\n"
    }
   }
  },
  {
   "cell_type": "code",
   "execution_count": 118,
   "outputs": [],
   "source": [
    "# In case it means all the sequences combined:\n",
    "def background_from_all(list_of_files:list, k_list:list):\n",
    "\t\"\"\"Calculate expected relative frequencies in given files for given list of K\"\"\"\n",
    "\n",
    "\tresults = {}\n",
    "\tall_sequences = []\n",
    "\n",
    "\t# Open all files and get lists of sequences\n",
    "\tfor file in list_of_files:\n",
    "\t\twith open(file) as f:\n",
    "\t\t\t_ ,sequences  = zip(*fa.all_fasta_sequences(f))\n",
    "\t\t\tall_sequences.extend(sequences)\n",
    "\n",
    "\t# Combine sequences\n",
    "\tall_sequences = \"\".join(sequences)\n",
    "\t# Calculate freq for each k\n",
    "\tfor k in k_list:\n",
    "\t\tobserved = kmer_frequencies(all_sequences,k)\n",
    "\t\tbackground = expected_relative_frequency(all_sequences, observed)\n",
    "\t\tresults[k] = background\n",
    "\n",
    "\treturn results"
   ],
   "metadata": {
    "collapsed": false,
    "pycharm": {
     "name": "#%%\n"
    }
   }
  },
  {
   "cell_type": "code",
   "execution_count": 120,
   "outputs": [],
   "source": [
    "results = background_from_all([sensitive_file, insensitive_file], [2,3,4])"
   ],
   "metadata": {
    "collapsed": false,
    "pycharm": {
     "name": "#%%\n"
    }
   }
  },
  {
   "cell_type": "code",
   "execution_count": 121,
   "outputs": [
    {
     "name": "stdout",
     "output_type": "stream",
     "text": [
      "K: 2\n",
      "{'AA': 0.0361, 'AG': 0.0589, 'AT': 0.0399, 'AC': 0.053200000000000004, 'GA': 0.0589, 'GG': 0.0961, 'GT': 0.06509999999999999, 'GC': 0.0868, 'TA': 0.0399, 'TG': 0.06509999999999999, 'TT': 0.04409999999999999, 'TC': 0.058800000000000005, 'CA': 0.053200000000000004, 'CG': 0.0868, 'CT': 0.058800000000000005, 'CC': 0.07840000000000001}\n",
      "K: 3\n",
      "{'AAA': 0.0068590000000000005, 'AAG': 0.011191, 'AAT': 0.007581, 'AAC': 0.010108, 'AGA': 0.011191, 'AGG': 0.018259, 'AGT': 0.012369, 'AGC': 0.016492000000000003, 'ATA': 0.007581, 'ATG': 0.012369, 'ATT': 0.008379, 'ATC': 0.011172, 'ACA': 0.010108, 'ACG': 0.016492, 'ACT': 0.011172, 'ACC': 0.014896000000000003, 'GAA': 0.011191, 'GAG': 0.018259, 'GAT': 0.012369, 'GAC': 0.016492000000000003, 'GGA': 0.018259, 'GGG': 0.029791, 'GGT': 0.020181, 'GGC': 0.026908000000000005, 'GTA': 0.012368999999999998, 'GTG': 0.020180999999999998, 'GTT': 0.013670999999999997, 'GTC': 0.018227999999999998, 'GCA': 0.016492, 'GCG': 0.026908, 'GCT': 0.018228, 'GCC': 0.024304000000000003, 'TAA': 0.007581, 'TAG': 0.012369, 'TAT': 0.008379, 'TAC': 0.011172, 'TGA': 0.012368999999999998, 'TGG': 0.020180999999999998, 'TGT': 0.013670999999999997, 'TGC': 0.018227999999999998, 'TTA': 0.008379, 'TTG': 0.013670999999999997, 'TTT': 0.009260999999999998, 'TTC': 0.012348, 'TCA': 0.011172000000000001, 'TCG': 0.018228, 'TCT': 0.012348000000000001, 'TCC': 0.016464000000000003, 'CAA': 0.010108, 'CAG': 0.016492, 'CAT': 0.011172, 'CAC': 0.014896000000000003, 'CGA': 0.016492, 'CGG': 0.026908, 'CGT': 0.018228, 'CGC': 0.024304000000000003, 'CTA': 0.011172000000000001, 'CTG': 0.018228, 'CTT': 0.012348000000000001, 'CTC': 0.016464000000000003, 'CCA': 0.014896000000000003, 'CCG': 0.024304000000000003, 'CCT': 0.016464000000000003, 'CCC': 0.021952000000000006}\n",
      "K: 4\n",
      "{'AAAA': 0.0013032100000000002, 'AAAG': 0.0021262900000000003, 'AAAT': 0.0014403900000000002, 'AAAC': 0.0019205200000000004, 'AAGA': 0.00212629, 'AAGG': 0.00346921, 'AAGT': 0.00235011, 'AAGC': 0.00313348, 'AATA': 0.00144039, 'AATG': 0.00235011, 'AATT': 0.00159201, 'AATC': 0.00212268, 'AACA': 0.0019205200000000002, 'AACG': 0.00313348, 'AACT': 0.00212268, 'AACC': 0.0028302400000000004, 'AGAA': 0.00212629, 'AGAG': 0.00346921, 'AGAT': 0.00235011, 'AGAC': 0.00313348, 'AGGA': 0.0034692100000000003, 'AGGG': 0.00566029, 'AGGT': 0.00383439, 'AGGC': 0.005112520000000001, 'AGTA': 0.00235011, 'AGTG': 0.00383439, 'AGTT': 0.00259749, 'AGTC': 0.00346332, 'AGCA': 0.0031334800000000006, 'AGCG': 0.005112520000000001, 'AGCT': 0.0034633200000000006, 'AGCC': 0.004617760000000001, 'ATAA': 0.00144039, 'ATAG': 0.00235011, 'ATAT': 0.00159201, 'ATAC': 0.00212268, 'ATGA': 0.00235011, 'ATGG': 0.00383439, 'ATGT': 0.00259749, 'ATGC': 0.00346332, 'ATTA': 0.0015920099999999998, 'ATTG': 0.0025974899999999996, 'ATTT': 0.0017595899999999997, 'ATTC': 0.00234612, 'ATCA': 0.00212268, 'ATCG': 0.0034633199999999998, 'ATCT': 0.0023461199999999997, 'ATCC': 0.00312816, 'ACAA': 0.0019205200000000002, 'ACAG': 0.00313348, 'ACAT': 0.00212268, 'ACAC': 0.0028302400000000004, 'ACGA': 0.00313348, 'ACGG': 0.00511252, 'ACGT': 0.0034633199999999998, 'ACGC': 0.00461776, 'ACTA': 0.00212268, 'ACTG': 0.0034633199999999998, 'ACTT': 0.0023461199999999997, 'ACTC': 0.00312816, 'ACCA': 0.002830240000000001, 'ACCG': 0.004617760000000001, 'ACCT': 0.0031281600000000005, 'ACCC': 0.004170880000000001, 'GAAA': 0.00212629, 'GAAG': 0.00346921, 'GAAT': 0.00235011, 'GAAC': 0.00313348, 'GAGA': 0.0034692100000000003, 'GAGG': 0.00566029, 'GAGT': 0.00383439, 'GAGC': 0.005112520000000001, 'GATA': 0.00235011, 'GATG': 0.00383439, 'GATT': 0.00259749, 'GATC': 0.00346332, 'GACA': 0.0031334800000000006, 'GACG': 0.005112520000000001, 'GACT': 0.0034633200000000006, 'GACC': 0.004617760000000001, 'GGAA': 0.0034692100000000003, 'GGAG': 0.00566029, 'GGAT': 0.00383439, 'GGAC': 0.005112520000000001, 'GGGA': 0.00566029, 'GGGG': 0.00923521, 'GGGT': 0.0062561100000000005, 'GGGC': 0.008341480000000002, 'GGTA': 0.0038343900000000005, 'GGTG': 0.0062561100000000005, 'GGTT': 0.00423801, 'GGTC': 0.005650680000000001, 'GGCA': 0.005112520000000001, 'GGCG': 0.008341480000000002, 'GGCT': 0.005650680000000001, 'GGCC': 0.007534240000000002, 'GTAA': 0.00235011, 'GTAG': 0.003834389999999999, 'GTAT': 0.0025974899999999996, 'GTAC': 0.0034633199999999998, 'GTGA': 0.0038343899999999996, 'GTGG': 0.00625611, 'GTGT': 0.0042380099999999995, 'GTGC': 0.00565068, 'GTTA': 0.0025974899999999996, 'GTTG': 0.0042380099999999995, 'GTTT': 0.0028709099999999995, 'GTTC': 0.0038278799999999997, 'GTCA': 0.0034633199999999998, 'GTCG': 0.005650679999999999, 'GTCT': 0.0038278799999999992, 'GTCC': 0.00510384, 'GCAA': 0.00313348, 'GCAG': 0.00511252, 'GCAT': 0.0034633199999999998, 'GCAC': 0.00461776, 'GCGA': 0.005112520000000001, 'GCGG': 0.00834148, 'GCGT': 0.00565068, 'GCGC': 0.007534240000000001, 'GCTA': 0.00346332, 'GCTG': 0.00565068, 'GCTT': 0.00382788, 'GCTC': 0.005103840000000001, 'GCCA': 0.00461776, 'GCCG': 0.007534240000000001, 'GCCT': 0.00510384, 'GCCC': 0.006805120000000001, 'TAAA': 0.00144039, 'TAAG': 0.00235011, 'TAAT': 0.00159201, 'TAAC': 0.00212268, 'TAGA': 0.00235011, 'TAGG': 0.00383439, 'TAGT': 0.00259749, 'TAGC': 0.00346332, 'TATA': 0.0015920099999999998, 'TATG': 0.0025974899999999996, 'TATT': 0.0017595899999999997, 'TATC': 0.00234612, 'TACA': 0.00212268, 'TACG': 0.0034633199999999998, 'TACT': 0.0023461199999999997, 'TACC': 0.00312816, 'TGAA': 0.00235011, 'TGAG': 0.003834389999999999, 'TGAT': 0.0025974899999999996, 'TGAC': 0.0034633199999999998, 'TGGA': 0.0038343899999999996, 'TGGG': 0.00625611, 'TGGT': 0.0042380099999999995, 'TGGC': 0.00565068, 'TGTA': 0.0025974899999999996, 'TGTG': 0.0042380099999999995, 'TGTT': 0.0028709099999999995, 'TGTC': 0.0038278799999999997, 'TGCA': 0.0034633199999999998, 'TGCG': 0.005650679999999999, 'TGCT': 0.0038278799999999992, 'TGCC': 0.00510384, 'TTAA': 0.0015920099999999998, 'TTAG': 0.0025974899999999996, 'TTAT': 0.0017595899999999997, 'TTAC': 0.00234612, 'TTGA': 0.0025974899999999996, 'TTGG': 0.0042380099999999995, 'TTGT': 0.0028709099999999995, 'TTGC': 0.0038278799999999997, 'TTTA': 0.0017595899999999997, 'TTTG': 0.0028709099999999995, 'TTTT': 0.0019448099999999995, 'TTTC': 0.0025930799999999998, 'TTCA': 0.00234612, 'TTCG': 0.0038278799999999997, 'TTCT': 0.0025930799999999998, 'TTCC': 0.0034574400000000004, 'TCAA': 0.0021226800000000005, 'TCAG': 0.00346332, 'TCAT': 0.00234612, 'TCAC': 0.0031281600000000005, 'TCGA': 0.00346332, 'TCGG': 0.00565068, 'TCGT': 0.00382788, 'TCGC': 0.005103840000000001, 'TCTA': 0.00234612, 'TCTG': 0.0038278800000000005, 'TCTT': 0.00259308, 'TCTC': 0.003457440000000001, 'TCCA': 0.0031281600000000005, 'TCCG': 0.005103840000000001, 'TCCT': 0.0034574400000000004, 'TCCC': 0.004609920000000001, 'CAAA': 0.0019205200000000002, 'CAAG': 0.00313348, 'CAAT': 0.00212268, 'CAAC': 0.0028302400000000004, 'CAGA': 0.00313348, 'CAGG': 0.00511252, 'CAGT': 0.0034633199999999998, 'CAGC': 0.00461776, 'CATA': 0.00212268, 'CATG': 0.0034633199999999998, 'CATT': 0.0023461199999999997, 'CATC': 0.00312816, 'CACA': 0.002830240000000001, 'CACG': 0.004617760000000001, 'CACT': 0.0031281600000000005, 'CACC': 0.004170880000000001, 'CGAA': 0.00313348, 'CGAG': 0.00511252, 'CGAT': 0.0034633199999999998, 'CGAC': 0.00461776, 'CGGA': 0.005112520000000001, 'CGGG': 0.00834148, 'CGGT': 0.00565068, 'CGGC': 0.007534240000000001, 'CGTA': 0.00346332, 'CGTG': 0.00565068, 'CGTT': 0.00382788, 'CGTC': 0.005103840000000001, 'CGCA': 0.00461776, 'CGCG': 0.007534240000000001, 'CGCT': 0.00510384, 'CGCC': 0.006805120000000001, 'CTAA': 0.0021226800000000005, 'CTAG': 0.00346332, 'CTAT': 0.00234612, 'CTAC': 0.0031281600000000005, 'CTGA': 0.00346332, 'CTGG': 0.00565068, 'CTGT': 0.00382788, 'CTGC': 0.005103840000000001, 'CTTA': 0.00234612, 'CTTG': 0.0038278800000000005, 'CTTT': 0.00259308, 'CTTC': 0.003457440000000001, 'CTCA': 0.0031281600000000005, 'CTCG': 0.005103840000000001, 'CTCT': 0.0034574400000000004, 'CTCC': 0.004609920000000001, 'CCAA': 0.002830240000000001, 'CCAG': 0.004617760000000001, 'CCAT': 0.0031281600000000005, 'CCAC': 0.004170880000000001, 'CCGA': 0.00461776, 'CCGG': 0.007534240000000001, 'CCGT': 0.00510384, 'CCGC': 0.006805120000000001, 'CCTA': 0.0031281600000000005, 'CCTG': 0.005103840000000001, 'CCTT': 0.0034574400000000004, 'CCTC': 0.004609920000000001, 'CCCA': 0.004170880000000001, 'CCCG': 0.006805120000000002, 'CCCT': 0.004609920000000001, 'CCCC': 0.006146560000000002}\n"
     ]
    }
   ],
   "source": [
    "# Print results\n",
    "for key, val in results.items():\n",
    "\tprint(f\"K: {key}\\n{val}\")"
   ],
   "metadata": {
    "collapsed": false,
    "pycharm": {
     "name": "#%%\n"
    }
   }
  },
  {
   "cell_type": "markdown",
   "source": [
    "ii. The observed frequencies of k-mers for a) the sensitive sequences and b) the insen-\n",
    "sitive sequences\n"
   ],
   "metadata": {
    "collapsed": false,
    "pycharm": {
     "name": "#%% md\n"
    }
   }
  },
  {
   "cell_type": "code",
   "execution_count": 122,
   "outputs": [],
   "source": [
    "sensitive = background_from_all([sensitive_file], [2,3,4])\n",
    "insensitive = background_from_all([insensitive_file], [2,3,4])"
   ],
   "metadata": {
    "collapsed": false,
    "pycharm": {
     "name": "#%%\n"
    }
   }
  },
  {
   "cell_type": "code",
   "execution_count": 123,
   "outputs": [
    {
     "name": "stdout",
     "output_type": "stream",
     "text": [
      "K: 2\n",
      "{'AA': 0.0576, 'AG': 0.0624, 'AT': 0.06, 'AC': 0.06, 'GA': 0.0624, 'GG': 0.06760000000000001, 'GT': 0.065, 'GC': 0.065, 'TA': 0.06, 'TG': 0.065, 'TT': 0.0625, 'TC': 0.0625, 'CA': 0.06, 'CG': 0.065, 'CT': 0.0625, 'CC': 0.0625}\n",
      "K: 3\n",
      "{'AAA': 0.013824, 'AAG': 0.014976, 'AAT': 0.0144, 'AAC': 0.0144, 'AGA': 0.014975999999999998, 'AGG': 0.016224, 'AGT': 0.0156, 'AGC': 0.0156, 'ATA': 0.0144, 'ATG': 0.0156, 'ATT': 0.015, 'ATC': 0.015, 'ACA': 0.0144, 'ACG': 0.0156, 'ACT': 0.015, 'ACC': 0.015, 'GAA': 0.014975999999999998, 'GAG': 0.016224, 'GAT': 0.0156, 'GAC': 0.0156, 'GGA': 0.016224000000000002, 'GGG': 0.017576, 'GGT': 0.016900000000000002, 'GGC': 0.016900000000000002, 'GTA': 0.0156, 'GTG': 0.016900000000000002, 'GTT': 0.01625, 'GTC': 0.01625, 'GCA': 0.0156, 'GCG': 0.016900000000000002, 'GCT': 0.01625, 'GCC': 0.01625, 'TAA': 0.0144, 'TAG': 0.0156, 'TAT': 0.015, 'TAC': 0.015, 'TGA': 0.0156, 'TGG': 0.016900000000000002, 'TGT': 0.01625, 'TGC': 0.01625, 'TTA': 0.015, 'TTG': 0.01625, 'TTT': 0.015625, 'TTC': 0.015625, 'TCA': 0.015, 'TCG': 0.01625, 'TCT': 0.015625, 'TCC': 0.015625, 'CAA': 0.0144, 'CAG': 0.0156, 'CAT': 0.015, 'CAC': 0.015, 'CGA': 0.0156, 'CGG': 0.016900000000000002, 'CGT': 0.01625, 'CGC': 0.01625, 'CTA': 0.015, 'CTG': 0.01625, 'CTT': 0.015625, 'CTC': 0.015625, 'CCA': 0.015, 'CCG': 0.01625, 'CCT': 0.015625, 'CCC': 0.015625}\n",
      "K: 4\n",
      "{'AAAA': 0.00331776, 'AAAG': 0.00359424, 'AAAT': 0.003456, 'AAAC': 0.003456, 'AAGA': 0.00359424, 'AAGG': 0.00389376, 'AAGT': 0.003744, 'AAGC': 0.003744, 'AATA': 0.003456, 'AATG': 0.003744, 'AATT': 0.0036, 'AATC': 0.0036, 'AACA': 0.003456, 'AACG': 0.003744, 'AACT': 0.0036, 'AACC': 0.0036, 'AGAA': 0.0035942399999999994, 'AGAG': 0.0038937599999999996, 'AGAT': 0.0037439999999999995, 'AGAC': 0.0037439999999999995, 'AGGA': 0.0038937599999999996, 'AGGG': 0.00421824, 'AGGT': 0.004056, 'AGGC': 0.004056, 'AGTA': 0.0037439999999999995, 'AGTG': 0.004056, 'AGTT': 0.0039, 'AGTC': 0.0039, 'AGCA': 0.0037439999999999995, 'AGCG': 0.004056, 'AGCT': 0.0039, 'AGCC': 0.0039, 'ATAA': 0.003456, 'ATAG': 0.003744, 'ATAT': 0.0036, 'ATAC': 0.0036, 'ATGA': 0.0037439999999999995, 'ATGG': 0.004056, 'ATGT': 0.0039, 'ATGC': 0.0039, 'ATTA': 0.0036, 'ATTG': 0.0039, 'ATTT': 0.00375, 'ATTC': 0.00375, 'ATCA': 0.0036, 'ATCG': 0.0039, 'ATCT': 0.00375, 'ATCC': 0.00375, 'ACAA': 0.003456, 'ACAG': 0.003744, 'ACAT': 0.0036, 'ACAC': 0.0036, 'ACGA': 0.0037439999999999995, 'ACGG': 0.004056, 'ACGT': 0.0039, 'ACGC': 0.0039, 'ACTA': 0.0036, 'ACTG': 0.0039, 'ACTT': 0.00375, 'ACTC': 0.00375, 'ACCA': 0.0036, 'ACCG': 0.0039, 'ACCT': 0.00375, 'ACCC': 0.00375, 'GAAA': 0.0035942399999999994, 'GAAG': 0.0038937599999999996, 'GAAT': 0.0037439999999999995, 'GAAC': 0.0037439999999999995, 'GAGA': 0.0038937599999999996, 'GAGG': 0.00421824, 'GAGT': 0.004056, 'GAGC': 0.004056, 'GATA': 0.0037439999999999995, 'GATG': 0.004056, 'GATT': 0.0039, 'GATC': 0.0039, 'GACA': 0.0037439999999999995, 'GACG': 0.004056, 'GACT': 0.0039, 'GACC': 0.0039, 'GGAA': 0.0038937600000000004, 'GGAG': 0.004218240000000001, 'GGAT': 0.004056000000000001, 'GGAC': 0.004056000000000001, 'GGGA': 0.00421824, 'GGGG': 0.004569760000000001, 'GGGT': 0.004394, 'GGGC': 0.004394, 'GGTA': 0.004056000000000001, 'GGTG': 0.004394, 'GGTT': 0.0042250000000000005, 'GGTC': 0.0042250000000000005, 'GGCA': 0.004056000000000001, 'GGCG': 0.004394, 'GGCT': 0.0042250000000000005, 'GGCC': 0.0042250000000000005, 'GTAA': 0.0037439999999999995, 'GTAG': 0.004056, 'GTAT': 0.0039, 'GTAC': 0.0039, 'GTGA': 0.004056000000000001, 'GTGG': 0.004394, 'GTGT': 0.0042250000000000005, 'GTGC': 0.0042250000000000005, 'GTTA': 0.0039, 'GTTG': 0.0042250000000000005, 'GTTT': 0.0040625, 'GTTC': 0.0040625, 'GTCA': 0.0039, 'GTCG': 0.0042250000000000005, 'GTCT': 0.0040625, 'GTCC': 0.0040625, 'GCAA': 0.0037439999999999995, 'GCAG': 0.004056, 'GCAT': 0.0039, 'GCAC': 0.0039, 'GCGA': 0.004056000000000001, 'GCGG': 0.004394, 'GCGT': 0.0042250000000000005, 'GCGC': 0.0042250000000000005, 'GCTA': 0.0039, 'GCTG': 0.0042250000000000005, 'GCTT': 0.0040625, 'GCTC': 0.0040625, 'GCCA': 0.0039, 'GCCG': 0.0042250000000000005, 'GCCT': 0.0040625, 'GCCC': 0.0040625, 'TAAA': 0.003456, 'TAAG': 0.003744, 'TAAT': 0.0036, 'TAAC': 0.0036, 'TAGA': 0.0037439999999999995, 'TAGG': 0.004056, 'TAGT': 0.0039, 'TAGC': 0.0039, 'TATA': 0.0036, 'TATG': 0.0039, 'TATT': 0.00375, 'TATC': 0.00375, 'TACA': 0.0036, 'TACG': 0.0039, 'TACT': 0.00375, 'TACC': 0.00375, 'TGAA': 0.0037439999999999995, 'TGAG': 0.004056, 'TGAT': 0.0039, 'TGAC': 0.0039, 'TGGA': 0.004056000000000001, 'TGGG': 0.004394, 'TGGT': 0.0042250000000000005, 'TGGC': 0.0042250000000000005, 'TGTA': 0.0039, 'TGTG': 0.0042250000000000005, 'TGTT': 0.0040625, 'TGTC': 0.0040625, 'TGCA': 0.0039, 'TGCG': 0.0042250000000000005, 'TGCT': 0.0040625, 'TGCC': 0.0040625, 'TTAA': 0.0036, 'TTAG': 0.0039, 'TTAT': 0.00375, 'TTAC': 0.00375, 'TTGA': 0.0039, 'TTGG': 0.0042250000000000005, 'TTGT': 0.0040625, 'TTGC': 0.0040625, 'TTTA': 0.00375, 'TTTG': 0.0040625, 'TTTT': 0.00390625, 'TTTC': 0.00390625, 'TTCA': 0.00375, 'TTCG': 0.0040625, 'TTCT': 0.00390625, 'TTCC': 0.00390625, 'TCAA': 0.0036, 'TCAG': 0.0039, 'TCAT': 0.00375, 'TCAC': 0.00375, 'TCGA': 0.0039, 'TCGG': 0.0042250000000000005, 'TCGT': 0.0040625, 'TCGC': 0.0040625, 'TCTA': 0.00375, 'TCTG': 0.0040625, 'TCTT': 0.00390625, 'TCTC': 0.00390625, 'TCCA': 0.00375, 'TCCG': 0.0040625, 'TCCT': 0.00390625, 'TCCC': 0.00390625, 'CAAA': 0.003456, 'CAAG': 0.003744, 'CAAT': 0.0036, 'CAAC': 0.0036, 'CAGA': 0.0037439999999999995, 'CAGG': 0.004056, 'CAGT': 0.0039, 'CAGC': 0.0039, 'CATA': 0.0036, 'CATG': 0.0039, 'CATT': 0.00375, 'CATC': 0.00375, 'CACA': 0.0036, 'CACG': 0.0039, 'CACT': 0.00375, 'CACC': 0.00375, 'CGAA': 0.0037439999999999995, 'CGAG': 0.004056, 'CGAT': 0.0039, 'CGAC': 0.0039, 'CGGA': 0.004056000000000001, 'CGGG': 0.004394, 'CGGT': 0.0042250000000000005, 'CGGC': 0.0042250000000000005, 'CGTA': 0.0039, 'CGTG': 0.0042250000000000005, 'CGTT': 0.0040625, 'CGTC': 0.0040625, 'CGCA': 0.0039, 'CGCG': 0.0042250000000000005, 'CGCT': 0.0040625, 'CGCC': 0.0040625, 'CTAA': 0.0036, 'CTAG': 0.0039, 'CTAT': 0.00375, 'CTAC': 0.00375, 'CTGA': 0.0039, 'CTGG': 0.0042250000000000005, 'CTGT': 0.0040625, 'CTGC': 0.0040625, 'CTTA': 0.00375, 'CTTG': 0.0040625, 'CTTT': 0.00390625, 'CTTC': 0.00390625, 'CTCA': 0.00375, 'CTCG': 0.0040625, 'CTCT': 0.00390625, 'CTCC': 0.00390625, 'CCAA': 0.0036, 'CCAG': 0.0039, 'CCAT': 0.00375, 'CCAC': 0.00375, 'CCGA': 0.0039, 'CCGG': 0.0042250000000000005, 'CCGT': 0.0040625, 'CCGC': 0.0040625, 'CCTA': 0.00375, 'CCTG': 0.0040625, 'CCTT': 0.00390625, 'CCTC': 0.00390625, 'CCCA': 0.00375, 'CCCG': 0.0040625, 'CCCT': 0.00390625, 'CCCC': 0.00390625}\n"
     ]
    }
   ],
   "source": [
    "# Print results sensitive\n",
    "for key, val in sensitive.items():\n",
    "\tprint(f\"K: {key}\\n{val}\")"
   ],
   "metadata": {
    "collapsed": false,
    "pycharm": {
     "name": "#%%\n"
    }
   }
  },
  {
   "cell_type": "code",
   "execution_count": 124,
   "outputs": [
    {
     "name": "stdout",
     "output_type": "stream",
     "text": [
      "K: 2\n",
      "{'AA': 0.0361, 'AG': 0.0589, 'AT': 0.0399, 'AC': 0.053200000000000004, 'GA': 0.0589, 'GG': 0.0961, 'GT': 0.06509999999999999, 'GC': 0.0868, 'TA': 0.0399, 'TG': 0.06509999999999999, 'TT': 0.04409999999999999, 'TC': 0.058800000000000005, 'CA': 0.053200000000000004, 'CG': 0.0868, 'CT': 0.058800000000000005, 'CC': 0.07840000000000001}\n",
      "K: 3\n",
      "{'AAA': 0.0068590000000000005, 'AAG': 0.011191, 'AAT': 0.007581, 'AAC': 0.010108, 'AGA': 0.011191, 'AGG': 0.018259, 'AGT': 0.012369, 'AGC': 0.016492000000000003, 'ATA': 0.007581, 'ATG': 0.012369, 'ATT': 0.008379, 'ATC': 0.011172, 'ACA': 0.010108, 'ACG': 0.016492, 'ACT': 0.011172, 'ACC': 0.014896000000000003, 'GAA': 0.011191, 'GAG': 0.018259, 'GAT': 0.012369, 'GAC': 0.016492000000000003, 'GGA': 0.018259, 'GGG': 0.029791, 'GGT': 0.020181, 'GGC': 0.026908000000000005, 'GTA': 0.012368999999999998, 'GTG': 0.020180999999999998, 'GTT': 0.013670999999999997, 'GTC': 0.018227999999999998, 'GCA': 0.016492, 'GCG': 0.026908, 'GCT': 0.018228, 'GCC': 0.024304000000000003, 'TAA': 0.007581, 'TAG': 0.012369, 'TAT': 0.008379, 'TAC': 0.011172, 'TGA': 0.012368999999999998, 'TGG': 0.020180999999999998, 'TGT': 0.013670999999999997, 'TGC': 0.018227999999999998, 'TTA': 0.008379, 'TTG': 0.013670999999999997, 'TTT': 0.009260999999999998, 'TTC': 0.012348, 'TCA': 0.011172000000000001, 'TCG': 0.018228, 'TCT': 0.012348000000000001, 'TCC': 0.016464000000000003, 'CAA': 0.010108, 'CAG': 0.016492, 'CAT': 0.011172, 'CAC': 0.014896000000000003, 'CGA': 0.016492, 'CGG': 0.026908, 'CGT': 0.018228, 'CGC': 0.024304000000000003, 'CTA': 0.011172000000000001, 'CTG': 0.018228, 'CTT': 0.012348000000000001, 'CTC': 0.016464000000000003, 'CCA': 0.014896000000000003, 'CCG': 0.024304000000000003, 'CCT': 0.016464000000000003, 'CCC': 0.021952000000000006}\n",
      "K: 4\n",
      "{'AAAA': 0.0013032100000000002, 'AAAG': 0.0021262900000000003, 'AAAT': 0.0014403900000000002, 'AAAC': 0.0019205200000000004, 'AAGA': 0.00212629, 'AAGG': 0.00346921, 'AAGT': 0.00235011, 'AAGC': 0.00313348, 'AATA': 0.00144039, 'AATG': 0.00235011, 'AATT': 0.00159201, 'AATC': 0.00212268, 'AACA': 0.0019205200000000002, 'AACG': 0.00313348, 'AACT': 0.00212268, 'AACC': 0.0028302400000000004, 'AGAA': 0.00212629, 'AGAG': 0.00346921, 'AGAT': 0.00235011, 'AGAC': 0.00313348, 'AGGA': 0.0034692100000000003, 'AGGG': 0.00566029, 'AGGT': 0.00383439, 'AGGC': 0.005112520000000001, 'AGTA': 0.00235011, 'AGTG': 0.00383439, 'AGTT': 0.00259749, 'AGTC': 0.00346332, 'AGCA': 0.0031334800000000006, 'AGCG': 0.005112520000000001, 'AGCT': 0.0034633200000000006, 'AGCC': 0.004617760000000001, 'ATAA': 0.00144039, 'ATAG': 0.00235011, 'ATAT': 0.00159201, 'ATAC': 0.00212268, 'ATGA': 0.00235011, 'ATGG': 0.00383439, 'ATGT': 0.00259749, 'ATGC': 0.00346332, 'ATTA': 0.0015920099999999998, 'ATTG': 0.0025974899999999996, 'ATTT': 0.0017595899999999997, 'ATTC': 0.00234612, 'ATCA': 0.00212268, 'ATCG': 0.0034633199999999998, 'ATCT': 0.0023461199999999997, 'ATCC': 0.00312816, 'ACAA': 0.0019205200000000002, 'ACAG': 0.00313348, 'ACAT': 0.00212268, 'ACAC': 0.0028302400000000004, 'ACGA': 0.00313348, 'ACGG': 0.00511252, 'ACGT': 0.0034633199999999998, 'ACGC': 0.00461776, 'ACTA': 0.00212268, 'ACTG': 0.0034633199999999998, 'ACTT': 0.0023461199999999997, 'ACTC': 0.00312816, 'ACCA': 0.002830240000000001, 'ACCG': 0.004617760000000001, 'ACCT': 0.0031281600000000005, 'ACCC': 0.004170880000000001, 'GAAA': 0.00212629, 'GAAG': 0.00346921, 'GAAT': 0.00235011, 'GAAC': 0.00313348, 'GAGA': 0.0034692100000000003, 'GAGG': 0.00566029, 'GAGT': 0.00383439, 'GAGC': 0.005112520000000001, 'GATA': 0.00235011, 'GATG': 0.00383439, 'GATT': 0.00259749, 'GATC': 0.00346332, 'GACA': 0.0031334800000000006, 'GACG': 0.005112520000000001, 'GACT': 0.0034633200000000006, 'GACC': 0.004617760000000001, 'GGAA': 0.0034692100000000003, 'GGAG': 0.00566029, 'GGAT': 0.00383439, 'GGAC': 0.005112520000000001, 'GGGA': 0.00566029, 'GGGG': 0.00923521, 'GGGT': 0.0062561100000000005, 'GGGC': 0.008341480000000002, 'GGTA': 0.0038343900000000005, 'GGTG': 0.0062561100000000005, 'GGTT': 0.00423801, 'GGTC': 0.005650680000000001, 'GGCA': 0.005112520000000001, 'GGCG': 0.008341480000000002, 'GGCT': 0.005650680000000001, 'GGCC': 0.007534240000000002, 'GTAA': 0.00235011, 'GTAG': 0.003834389999999999, 'GTAT': 0.0025974899999999996, 'GTAC': 0.0034633199999999998, 'GTGA': 0.0038343899999999996, 'GTGG': 0.00625611, 'GTGT': 0.0042380099999999995, 'GTGC': 0.00565068, 'GTTA': 0.0025974899999999996, 'GTTG': 0.0042380099999999995, 'GTTT': 0.0028709099999999995, 'GTTC': 0.0038278799999999997, 'GTCA': 0.0034633199999999998, 'GTCG': 0.005650679999999999, 'GTCT': 0.0038278799999999992, 'GTCC': 0.00510384, 'GCAA': 0.00313348, 'GCAG': 0.00511252, 'GCAT': 0.0034633199999999998, 'GCAC': 0.00461776, 'GCGA': 0.005112520000000001, 'GCGG': 0.00834148, 'GCGT': 0.00565068, 'GCGC': 0.007534240000000001, 'GCTA': 0.00346332, 'GCTG': 0.00565068, 'GCTT': 0.00382788, 'GCTC': 0.005103840000000001, 'GCCA': 0.00461776, 'GCCG': 0.007534240000000001, 'GCCT': 0.00510384, 'GCCC': 0.006805120000000001, 'TAAA': 0.00144039, 'TAAG': 0.00235011, 'TAAT': 0.00159201, 'TAAC': 0.00212268, 'TAGA': 0.00235011, 'TAGG': 0.00383439, 'TAGT': 0.00259749, 'TAGC': 0.00346332, 'TATA': 0.0015920099999999998, 'TATG': 0.0025974899999999996, 'TATT': 0.0017595899999999997, 'TATC': 0.00234612, 'TACA': 0.00212268, 'TACG': 0.0034633199999999998, 'TACT': 0.0023461199999999997, 'TACC': 0.00312816, 'TGAA': 0.00235011, 'TGAG': 0.003834389999999999, 'TGAT': 0.0025974899999999996, 'TGAC': 0.0034633199999999998, 'TGGA': 0.0038343899999999996, 'TGGG': 0.00625611, 'TGGT': 0.0042380099999999995, 'TGGC': 0.00565068, 'TGTA': 0.0025974899999999996, 'TGTG': 0.0042380099999999995, 'TGTT': 0.0028709099999999995, 'TGTC': 0.0038278799999999997, 'TGCA': 0.0034633199999999998, 'TGCG': 0.005650679999999999, 'TGCT': 0.0038278799999999992, 'TGCC': 0.00510384, 'TTAA': 0.0015920099999999998, 'TTAG': 0.0025974899999999996, 'TTAT': 0.0017595899999999997, 'TTAC': 0.00234612, 'TTGA': 0.0025974899999999996, 'TTGG': 0.0042380099999999995, 'TTGT': 0.0028709099999999995, 'TTGC': 0.0038278799999999997, 'TTTA': 0.0017595899999999997, 'TTTG': 0.0028709099999999995, 'TTTT': 0.0019448099999999995, 'TTTC': 0.0025930799999999998, 'TTCA': 0.00234612, 'TTCG': 0.0038278799999999997, 'TTCT': 0.0025930799999999998, 'TTCC': 0.0034574400000000004, 'TCAA': 0.0021226800000000005, 'TCAG': 0.00346332, 'TCAT': 0.00234612, 'TCAC': 0.0031281600000000005, 'TCGA': 0.00346332, 'TCGG': 0.00565068, 'TCGT': 0.00382788, 'TCGC': 0.005103840000000001, 'TCTA': 0.00234612, 'TCTG': 0.0038278800000000005, 'TCTT': 0.00259308, 'TCTC': 0.003457440000000001, 'TCCA': 0.0031281600000000005, 'TCCG': 0.005103840000000001, 'TCCT': 0.0034574400000000004, 'TCCC': 0.004609920000000001, 'CAAA': 0.0019205200000000002, 'CAAG': 0.00313348, 'CAAT': 0.00212268, 'CAAC': 0.0028302400000000004, 'CAGA': 0.00313348, 'CAGG': 0.00511252, 'CAGT': 0.0034633199999999998, 'CAGC': 0.00461776, 'CATA': 0.00212268, 'CATG': 0.0034633199999999998, 'CATT': 0.0023461199999999997, 'CATC': 0.00312816, 'CACA': 0.002830240000000001, 'CACG': 0.004617760000000001, 'CACT': 0.0031281600000000005, 'CACC': 0.004170880000000001, 'CGAA': 0.00313348, 'CGAG': 0.00511252, 'CGAT': 0.0034633199999999998, 'CGAC': 0.00461776, 'CGGA': 0.005112520000000001, 'CGGG': 0.00834148, 'CGGT': 0.00565068, 'CGGC': 0.007534240000000001, 'CGTA': 0.00346332, 'CGTG': 0.00565068, 'CGTT': 0.00382788, 'CGTC': 0.005103840000000001, 'CGCA': 0.00461776, 'CGCG': 0.007534240000000001, 'CGCT': 0.00510384, 'CGCC': 0.006805120000000001, 'CTAA': 0.0021226800000000005, 'CTAG': 0.00346332, 'CTAT': 0.00234612, 'CTAC': 0.0031281600000000005, 'CTGA': 0.00346332, 'CTGG': 0.00565068, 'CTGT': 0.00382788, 'CTGC': 0.005103840000000001, 'CTTA': 0.00234612, 'CTTG': 0.0038278800000000005, 'CTTT': 0.00259308, 'CTTC': 0.003457440000000001, 'CTCA': 0.0031281600000000005, 'CTCG': 0.005103840000000001, 'CTCT': 0.0034574400000000004, 'CTCC': 0.004609920000000001, 'CCAA': 0.002830240000000001, 'CCAG': 0.004617760000000001, 'CCAT': 0.0031281600000000005, 'CCAC': 0.004170880000000001, 'CCGA': 0.00461776, 'CCGG': 0.007534240000000001, 'CCGT': 0.00510384, 'CCGC': 0.006805120000000001, 'CCTA': 0.0031281600000000005, 'CCTG': 0.005103840000000001, 'CCTT': 0.0034574400000000004, 'CCTC': 0.004609920000000001, 'CCCA': 0.004170880000000001, 'CCCG': 0.006805120000000002, 'CCCT': 0.004609920000000001, 'CCCC': 0.006146560000000002}\n"
     ]
    }
   ],
   "source": [
    "# Print results insensitive\n",
    "for key, val in insensitive.items():\n",
    "\tprint(f\"K: {key}\\n{val}\")\n"
   ],
   "metadata": {
    "collapsed": false,
    "pycharm": {
     "name": "#%%\n"
    }
   }
  },
  {
   "cell_type": "markdown",
   "source": [
    "iii. Using the common background frequency calculate the log-odds ratio for the set of\n",
    "sensitive and insensitve sequences"
   ],
   "metadata": {
    "collapsed": false
   }
  },
  {
   "cell_type": "code",
   "execution_count": 125,
   "outputs": [],
   "source": [
    "# In case it means all the sequences combined:\n",
    "def logs_odd_from_all(list_of_files:list, k_list:list):\n",
    "\t\"\"\"Calculate expected relative frequencies in given files for given list of K\"\"\"\n",
    "\n",
    "\tresults = {}\n",
    "\tall_sequences = []\n",
    "\n",
    "\t# Open all files and get lists of sequences\n",
    "\tfor file in list_of_files:\n",
    "\t\twith open(file) as f:\n",
    "\t\t\t_ ,sequences  = zip(*fa.all_fasta_sequences(f))\n",
    "\t\t\tall_sequences.extend(sequences)\n",
    "\n",
    "\t# Combine sequences\n",
    "\tall_sequences = \"\".join(sequences)\n",
    "\t# Calculate freq for each k\n",
    "\tfor k in k_list:\n",
    "\t\tobserved = kmer_frequencies(all_sequences,k)\n",
    "\t\tbackground = expected_relative_frequency(all_sequences, observed)\n",
    "\t\tresults[k] = log_odds_ratio(observed, background)\n",
    "\n",
    "\treturn results"
   ],
   "metadata": {
    "collapsed": false,
    "pycharm": {
     "name": "#%%\n"
    }
   }
  },
  {
   "cell_type": "code",
   "execution_count": 126,
   "outputs": [
    {
     "name": "stderr",
     "output_type": "stream",
     "text": [
      "/var/folders/qr/1vgql2jj5h3gv284nl470hcr0000gp/T/ipykernel_31418/3318154886.py:3: RuntimeWarning: divide by zero encountered in log2\n",
      "  return { key : np.log2(observed[key]/background[key]) for key in observed.keys() }\n"
     ]
    }
   ],
   "source": [
    "results = logs_odd_from_all([sensitive_file, insensitive_file], [2,3,4])"
   ],
   "metadata": {
    "collapsed": false,
    "pycharm": {
     "name": "#%%\n"
    }
   }
  },
  {
   "cell_type": "code",
   "execution_count": 127,
   "outputs": [
    {
     "name": "stdout",
     "output_type": "stream",
     "text": [
      "K: 2\n",
      "{'AA': 0.1480011628875538, 'AG': 0.24908728800186825, 'AT': -0.41142624572646497, 'AC': -0.41142624572646497, 'GA': 0.026694866665419953, 'GG': 0.19489518763827154, 'GT': -0.3807294485035481, 'GC': 0.05222995877255752, 'TA': -0.41142624572646497, 'TG': 0.10469737866669351, 'TT': 0.4441838449383605, 'TC': 0.0291463456595162, 'CA': -0.08949815083910255, 'CG': -0.5327325419485984, 'CT': 0.2515387669959644, 'CC': 0.1990713471018287}\n",
      "K: 3\n",
      "{'AAA': 0.5439298392186929, 'AAG': -0.16233895772459678, 'AAT': 0.3995399298835183, 'AAC': -0.01549756939532581, 'AGA': 0.8376610422754033, 'AGG': 0.1313922453321135, 'AGT': -0.30672886705977154, 'AGC': 0.27823363366138426, 'ATA': 0.3995399298835183, 'ATG': -0.30672886705977154, 'ATT': 0.25515002054834357, 'ATC': -0.15988747873050044, 'ACA': -0.01549756939532581, 'ACG': -0.7217663663386155, 'ACT': -0.15988747873050044, 'ACC': -0.5749249780093447, 'GAA': -0.16233895772459678, 'GAG': 0.7163547460532695, 'GAT': -0.30672886705977154, 'GAC': -0.7217663663386157, 'GGA': 0.1313922453321135, 'GGG': 0.42512344838882365, 'GGT': -0.012997664003061349, 'GGC': 0.15692733743925083, 'GTA': -0.3067288670597713, 'GTG': -0.012997664003061188, 'GTT': -0.4511187763949461, 'GTC': -0.8661562756737899, 'GCA': 0.27823363366138454, 'GCG': -0.4280351632819052, 'GCT': 0.13384372432620978, 'GCC': 0.303768725768522, 'TAA': 0.3995399298835183, 'TAG': -0.30672886705977154, 'TAT': 0.25515002054834357, 'TAC': -0.15988747873050044, 'TGA': -0.3067288670597713, 'TGG': -0.012997664003061188, 'TGT': -0.4511187763949461, 'TGC': 0.13384372432621006, 'TTA': 0.25515002054834357, 'TTG': -0.4511187763949461, 'TTT': 1.1107601112131689, 'TTC': 0.6957226119343248, 'TCA': -0.15988747873050063, 'TCG': -0.8661562756737903, 'TCT': 0.6957226119343247, 'TCC': 0.2806851126554805, 'CAA': -0.01549756939532581, 'CAG': 0.27823363366138454, 'CAT': -0.15988747873050044, 'CAC': -0.5749249780093447, 'CGA': -0.7217663663386155, 'CGG': -0.4280351632819052, 'CGT': -0.8661562756737903, 'CGC': -0.28119377495263426, 'CTA': -0.15988747873050063, 'CTG': 0.7188062250473658, 'CTT': 0.6957226119343247, 'CTC': 0.2806851126554805, 'CCA': 0.42507502199065533, 'CCG': -0.28119377495263426, 'CCT': 0.2806851126554805, 'CCC': 0.4506101140977927}\n",
      "K: 4\n",
      "{'AAAA': -inf, 'AAAG': -inf, 'AAAT': -inf, 'AAAC': -inf, 'AAGA': -inf, 'AAGG': -inf, 'AAGT': -inf, 'AAGC': -inf, 'AATA': -inf, 'AATG': -inf, 'AATT': -inf, 'AATC': -inf, 'AACA': -inf, 'AACG': -inf, 'AACT': -inf, 'AACC': -inf, 'AGAA': -inf, 'AGAG': 1.5273209216632526, 'AGAT': -inf, 'AGAC': -inf, 'AGGA': 1.5273209216632524, 'AGGG': 0.8210521247199629, 'AGGT': -inf, 'AGGC': 0.967893513049234, 'AGTA': -inf, 'AGTG': -inf, 'AGTT': -inf, 'AGTC': -inf, 'AGCA': -inf, 'AGCG': -inf, 'AGCT': -inf, 'AGCC': 1.1147349013785048, 'ATAA': -inf, 'ATAG': -inf, 'ATAT': -inf, 'ATAC': -inf, 'ATGA': -inf, 'ATGG': -inf, 'ATGT': -inf, 'ATGC': -inf, 'ATTA': -inf, 'ATTG': -inf, 'ATTT': -inf, 'ATTC': -inf, 'ATCA': -inf, 'ATCG': -inf, 'ATCT': -inf, 'ATCC': -inf, 'ACAA': -inf, 'ACAG': -inf, 'ACAT': -inf, 'ACAC': -inf, 'ACGA': -inf, 'ACGG': -inf, 'ACGT': -inf, 'ACGC': -inf, 'ACTA': -inf, 'ACTG': -inf, 'ACTT': -inf, 'ACTC': -inf, 'ACCA': -inf, 'ACCG': -inf, 'ACCT': -inf, 'ACCC': -inf, 'GAAA': -inf, 'GAAG': 1.5273209216632526, 'GAAT': -inf, 'GAAC': -inf, 'GAGA': 1.5273209216632524, 'GAGG': 0.8210521247199629, 'GAGT': -inf, 'GAGC': 0.967893513049234, 'GATA': -inf, 'GATG': -inf, 'GATT': -inf, 'GATC': -inf, 'GACA': -inf, 'GACG': -inf, 'GACT': -inf, 'GACC': -inf, 'GGAA': 1.5273209216632524, 'GGAG': 0.8210521247199629, 'GGAT': -inf, 'GGAC': -inf, 'GGGA': 0.8210521247199629, 'GGGG': 0.11478332777667329, 'GGGT': 0.6766622153847881, 'GGGC': 0.261624716105944, 'GGTA': -inf, 'GGTG': 0.6766622153847881, 'GGTT': -inf, 'GGTC': -inf, 'GGCA': -inf, 'GGCG': 0.261624716105944, 'GGCT': 0.8235036037140591, 'GGCC': 0.408466104435215, 'GTAA': -inf, 'GTAG': -inf, 'GTAT': -inf, 'GTAC': -inf, 'GTGA': -inf, 'GTGG': 0.6766622153847883, 'GTGT': -inf, 'GTGC': -inf, 'GTTA': -inf, 'GTTG': -inf, 'GTTT': -inf, 'GTTC': -inf, 'GTCA': -inf, 'GTCG': -inf, 'GTCT': -inf, 'GTCC': -inf, 'GCAA': -inf, 'GCAG': 0.9678935130492342, 'GCAT': -inf, 'GCAC': -inf, 'GCGA': -inf, 'GCGG': 0.2616247161059443, 'GCGT': -inf, 'GCGC': 0.4084661044352153, 'GCTA': -inf, 'GCTG': 0.8235036037140594, 'GCTT': -inf, 'GCTC': 0.9703449920433301, 'GCCA': -inf, 'GCCG': 0.4084661044352153, 'GCCT': 0.9703449920433305, 'GCCC': 0.5553074927644863, 'TAAA': -inf, 'TAAG': -inf, 'TAAT': -inf, 'TAAC': -inf, 'TAGA': -inf, 'TAGG': -inf, 'TAGT': -inf, 'TAGC': -inf, 'TATA': -inf, 'TATG': -inf, 'TATT': -inf, 'TATC': -inf, 'TACA': -inf, 'TACG': -inf, 'TACT': -inf, 'TACC': -inf, 'TGAA': -inf, 'TGAG': 1.3829310123280782, 'TGAT': -inf, 'TGAC': -inf, 'TGGA': 1.382931012328078, 'TGGG': 0.6766622153847883, 'TGGT': -inf, 'TGGC': 0.8235036037140594, 'TGTA': -inf, 'TGTG': -inf, 'TGTT': -inf, 'TGTC': -inf, 'TGCA': -inf, 'TGCG': -inf, 'TGCT': -inf, 'TGCC': 0.9703449920433305, 'TTAA': -inf, 'TTAG': -inf, 'TTAT': -inf, 'TTAC': -inf, 'TTGA': -inf, 'TTGG': -inf, 'TTGT': -inf, 'TTGC': -inf, 'TTTA': -inf, 'TTTG': -inf, 'TTTT': 2.3622988782091334, 'TTTC': -inf, 'TTCA': -inf, 'TTCG': -inf, 'TTCT': -inf, 'TTCC': 1.5322238796514451, 'TCAA': -inf, 'TCAG': -inf, 'TCAT': -inf, 'TCAC': -inf, 'TCGA': -inf, 'TCGG': -inf, 'TCGT': -inf, 'TCGC': -inf, 'TCTA': -inf, 'TCTG': 1.385382491322174, 'TCTT': -inf, 'TCTC': 1.532223879651445, 'TCCA': -inf, 'TCCG': -inf, 'TCCT': 1.5322238796514451, 'TCCC': 1.1171863803726012, 'CAAA': -inf, 'CAAG': -inf, 'CAAT': -inf, 'CAAC': -inf, 'CAGA': -inf, 'CAGG': 0.9678935130492342, 'CAGT': -inf, 'CAGC': 1.1147349013785053, 'CATA': -inf, 'CATG': -inf, 'CATT': -inf, 'CATC': -inf, 'CACA': -inf, 'CACG': -inf, 'CACT': -inf, 'CACC': -inf, 'CGAA': -inf, 'CGAG': -inf, 'CGAT': -inf, 'CGAC': -inf, 'CGGA': -inf, 'CGGG': 0.2616247161059443, 'CGGT': -inf, 'CGGC': 0.4084661044352153, 'CGTA': -inf, 'CGTG': -inf, 'CGTT': -inf, 'CGTC': -inf, 'CGCA': -inf, 'CGCG': 0.4084661044352153, 'CGCT': -inf, 'CGCC': 0.5553074927644863, 'CTAA': -inf, 'CTAG': -inf, 'CTAT': -inf, 'CTAC': -inf, 'CTGA': -inf, 'CTGG': 0.8235036037140594, 'CTGT': 1.3853824913221742, 'CTGC': 0.9703449920433301, 'CTTA': -inf, 'CTTG': -inf, 'CTTT': -inf, 'CTTC': 1.532223879651445, 'CTCA': -inf, 'CTCG': -inf, 'CTCT': 1.5322238796514451, 'CTCC': 1.1171863803726012, 'CCAA': -inf, 'CCAG': 1.1147349013785048, 'CCAT': -inf, 'CCAC': -inf, 'CCGA': -inf, 'CCGG': 0.4084661044352153, 'CCGT': -inf, 'CCGC': 0.5553074927644863, 'CCTA': -inf, 'CCTG': 0.9703449920433301, 'CCTT': 1.5322238796514451, 'CCTC': 1.1171863803726012, 'CCCA': 1.261576289707776, 'CCCG': 0.5553074927644861, 'CCCT': 1.1171863803726012, 'CCCC': 0.7021488810937572}\n"
     ]
    }
   ],
   "source": [
    "# Print results\n",
    "for key, val in results.items():\n",
    "\tprint(f\"K: {key}\\n{val}\")\n"
   ],
   "metadata": {
    "collapsed": false,
    "pycharm": {
     "name": "#%%\n"
    }
   }
  },
  {
   "cell_type": "markdown",
   "source": [
    "### (d) _(3 pts)_ To discriminate k-mer composition of sensitive and insensitive RNA sequences you could take either:\n",
    "- the difference or\n",
    "- the ratio\n",
    "\n",
    "of the log-odds score of sensitive and insensitive sequences for each k-mer. However,\n",
    "only one of the options is correct! Write a small function that determines the correct\n",
    "discriminatory values for each k-mer. Perform these calculations for k = 2, 3 and 4."
   ],
   "metadata": {
    "collapsed": false,
    "pycharm": {
     "name": "#%% md\n"
    }
   }
  },
  {
   "cell_type": "code",
   "execution_count": 229,
   "outputs": [],
   "source": [],
   "metadata": {
    "collapsed": false,
    "pycharm": {
     "name": "#%%\n"
    }
   }
  },
  {
   "cell_type": "code",
   "execution_count": 230,
   "outputs": [
    {
     "data": {
      "text/plain": "('B', 'D')"
     },
     "execution_count": 230,
     "metadata": {},
     "output_type": "execute_result"
    }
   ],
   "source": [],
   "metadata": {
    "collapsed": false,
    "pycharm": {
     "name": "#%%\n"
    }
   }
  },
  {
   "cell_type": "markdown",
   "source": [
    "### (e) _(3 pts)_\n",
    "Sort the k-mers from the lowest to the highest discriminatory values. What are\n",
    "the 16 kmers with highest/lowest scores? Plot the discriminatory values from lowest to\n",
    "highest for all k-mers using matplotlib or a Python plotting library of your choice. The\n",
    "x-axis contains the k-mers in increasing order of their discriminatory value and the y\n",
    "axis is the value. Perform these calculations for k = 2, 3 and 6.\n"
   ],
   "metadata": {
    "collapsed": false
   }
  },
  {
   "cell_type": "code",
   "execution_count": null,
   "outputs": [],
   "source": [],
   "metadata": {
    "collapsed": false,
    "pycharm": {
     "name": "#%%\n"
    }
   }
  },
  {
   "cell_type": "markdown",
   "source": [
    "### (Optional) _(4 pts)_ Building machine learning models\n",
    "K-mer frequencies can be used as (simple) features for training machine learning models to\n",
    "distinguish sensitive and insensitive transcripts. To this end, a sequence is represented by a\n",
    "feature vector of k-mer counts.\n",
    "\n",
    "\n",
    "Write code to generate kmer frequency feature vectors for all transcripts.\n",
    "\n",
    "(a) The first step is to divide the data set into a training set and a test set for external\n",
    "validation.2 From the transcripts, randomly select a set containing 80% of the data:\n",
    "400 sensitive and insensitive transcripts each. This set will form the training data. The\n",
    "remaining 20% of the transcripts form the external validation set. (see Figure 1)\n",
    "\n",
    "(b) Using the training set, train Support Vector Machines with a linear kernel using grid\n",
    "search for parameter C selecting C from ```[10**x for x in numpy.linspace(-2,2,9)]```,\n",
    "i.e. ```[0.01,0.0316,0.1,0.316,1,3.16,10,31.6,100]``` for k = 2; 3; and 4. Use cross\n",
    "validation3 with an appropriate number of n folds, e.g. n = 5. Which is the best C for\n",
    "the different k's?\n",
    "\n",
    "(c) Determine accuracy, precision and recall for the test set for the best three classifiers\n",
    "corresponding to k = 2; 3; and 4.\n",
    "\n",
    "(d) Repeat (b)-(c) for a Random Forest classifier. Here, you do not need to perform a\n",
    "parameter search. Instead simply use the default parameters.\n",
    "\n",
    "See notes in Handout."
   ],
   "metadata": {
    "collapsed": false
   }
  },
  {
   "cell_type": "code",
   "execution_count": null,
   "outputs": [],
   "source": [],
   "metadata": {
    "collapsed": false,
    "pycharm": {
     "name": "#%%\n"
    }
   }
  }
 ],
 "metadata": {
  "kernelspec": {
   "display_name": "Python 3",
   "language": "python",
   "name": "python3"
  },
  "language_info": {
   "codemirror_mode": {
    "name": "ipython",
    "version": 2
   },
   "file_extension": ".py",
   "mimetype": "text/x-python",
   "name": "python",
   "nbconvert_exporter": "python",
   "pygments_lexer": "ipython2",
   "version": "2.7.6"
  }
 },
 "nbformat": 4,
 "nbformat_minor": 0
}