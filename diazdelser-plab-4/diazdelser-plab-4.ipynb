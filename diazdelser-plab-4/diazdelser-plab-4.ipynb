{
 "cells": [
  {
   "cell_type": "markdown",
   "metadata": {
    "collapsed": true,
    "pycharm": {
     "name": "#%% md\n"
    }
   },
   "source": [
    "# Handout 04\n",
    "#### Sara Díaz del Ser"
   ]
  },
  {
   "cell_type": "code",
   "execution_count": 2,
   "metadata": {
    "pycharm": {
     "name": "#%%\n"
    }
   },
   "outputs": [],
   "source": [
    "import numpy as np\n",
    "from collections import Counter\n",
    "from itertools import combinations\n",
    "import pandas as pd\n",
    "from termcolor import colored\n",
    "import tabulate"
   ]
  },
  {
   "cell_type": "markdown",
   "metadata": {},
   "source": [
    "### Ex. 1 _(0 pts)_  Manually determining scoring matrices\n",
    "To test your understanding, consider this small example of a \u0010blocks alignment database\u0011 consisting of\n",
    "5 sequences of length 12 each. From these to numbers one can determinate the denominators in eqs.\n",
    "(2) and (3). What is $∑_{i} f_{i}$ and $∑_{{i,j}} f_{ij}$ ?\n",
    "```\n",
    "TSVKTYAKFVTH\n",
    "TSVKTYAKFSTH\n",
    "TSVKTYAKFVTH\n",
    "LSVKKYPKYVVQ\n",
    "SSVKKYPKYSVL\n",
    "```\n",
    "Count the frequencies $f_{a}$ for all amino acids in the alignment and $f_{ab}$ for all amino acid pairs occurring\n",
    "in the same column of the alignment. (For the pairs, do not consider the order of the amino acids: do\n",
    "not distinguish between VS and SV, for example). From these values, calculate the relative frequencies\n",
    "$p_{a}$ for each occurring amino acid and $p_{ab}$ for each occurring amino acid pair. Finally, calculate the\n",
    "expected probability and the score for each amino acid pair. Fill your results into the given tables."
   ]
  },
  {
   "cell_type": "code",
   "execution_count": 3,
   "metadata": {
    "pycharm": {
     "name": "#%%\n"
    }
   },
   "outputs": [],
   "source": [
    "# sequences\n",
    "seq1 = 'TSVKTYAKFVTH'\n",
    "seq2 = 'TSVKTYAKFSTH'\n",
    "seq3 = 'TSVKTYAKFVTH'\n",
    "seq4 = 'LSVKKYPKYVVQ'\n",
    "seq5 = 'SSVKKYPKYSVL'"
   ]
  },
  {
   "cell_type": "code",
   "execution_count": 4,
   "metadata": {
    "pycharm": {
     "name": "#%%\n"
    }
   },
   "outputs": [],
   "source": [
    "# fa\n",
    "def fa(seq:str) -> dict:\n",
    "\t\"\"\"Return frequency of all amino acids\"\"\"\n",
    "\treturn Counter(seq)"
   ]
  },
  {
   "cell_type": "code",
   "execution_count": 5,
   "metadata": {
    "pycharm": {
     "name": "#%%\n"
    }
   },
   "outputs": [],
   "source": [
    "# fab\n",
    "def pair_freq(seq1,seq2):\n",
    "\t\"\"\"Add pair frequencies from two sequences into dictionary\"\"\"\n",
    "\tall_pairs = []\n",
    "\tfor i in range(len(seq1)):\n",
    "\t\t# Append pair (ordered) to list:\n",
    "\t\tkey = sorted([seq1[i],seq2[i]])\n",
    "\t\tall_pairs.append(\"\".join(key))\n",
    "\treturn all_pairs\n",
    "\n",
    "def all_pair_freq(seq_list:list) -> dict:\n",
    "\t\"\"\"Get pair frequencies from list of sequences\"\"\"\n",
    "\tall_pairs = []\n",
    "\tfor seq1,seq2 in combinations(seq_list,2):\n",
    "\t\tall_pairs.extend(pair_freq(seq1,seq2))\n",
    "\treturn Counter(all_pairs)\n"
   ]
  },
  {
   "cell_type": "code",
   "execution_count": 6,
   "metadata": {
    "pycharm": {
     "name": "#%%\n"
    }
   },
   "outputs": [],
   "source": [
    "# pa (relative frequency for aa)\n",
    "def rel_freq(freq:dict) -> dict:\n",
    "\t\"\"\"Determine relative frequency for each aminoacid\"\"\"\n",
    "\treturn { key : (val/sum(freq.values())) for key, val in freq.items() }"
   ]
  },
  {
   "cell_type": "code",
   "execution_count": 7,
   "metadata": {
    "pycharm": {
     "name": "#%%\n"
    }
   },
   "outputs": [],
   "source": [
    "def expected_prob(freq:dict) -> dict:\n",
    "\t\"\"\"Determine the expected probability of each aminoacid\"\"\"\n",
    "\texpected = {}\n",
    "\t# Get all possible pairs\n",
    "\tpossible_pairs = [\"\".join(sorted([aa1,aa2])) for aa1,aa2 in combinations(freq.keys(),2) ]\n",
    "\t# add pairs of the same aa\n",
    "\tpossible_pairs.extend([aa+aa for aa in freq.keys() ])\n",
    "\tfor pair in possible_pairs:\n",
    "\t\t# eaa = pa * pa\n",
    "\t\tif pair[0]==pair[1]:\n",
    "\t\t\tprob = freq.get(pair[0])**2\n",
    "\t\t# eab = pa * pb + pb * pa = 2 * pa * pb\n",
    "\t\telse:\n",
    "\t\t\tprob = 2*freq.get(pair[0])*freq.get(pair[1])\n",
    "\t\texpected.update({pair: prob})\n",
    "\treturn expected"
   ]
  },
  {
   "cell_type": "code",
   "execution_count": 8,
   "metadata": {
    "pycharm": {
     "name": "#%%\n"
    }
   },
   "outputs": [],
   "source": [
    "def pair_score(p_freq_rel, p_expect) -> dict:\n",
    "\t\"\"\"Calculate the score for each aminoacid pair\"\"\"\n",
    "\tscores = {}\n",
    "\tfor pair in p_freq_rel.keys():\n",
    "\t\t# sab = 2 * log2(pab/eab)\n",
    "\t\tscore = 2*np.log2(p_freq_rel.get(pair,0)/p_expect.get(pair,0))\n",
    "\t\tscores.update({pair : round(score,0)})\n",
    "\treturn scores"
   ]
  },
  {
   "cell_type": "code",
   "execution_count": 9,
   "metadata": {
    "pycharm": {
     "name": "#%%\n"
    }
   },
   "outputs": [],
   "source": [
    "freq = fa(seq1+seq2+seq3+seq4+seq5)"
   ]
  },
  {
   "cell_type": "code",
   "execution_count": 10,
   "metadata": {
    "pycharm": {
     "name": "#%%\n"
    }
   },
   "outputs": [],
   "source": [
    "p_freq = all_pair_freq([seq1, seq2,seq3,seq4,seq5])"
   ]
  },
  {
   "cell_type": "code",
   "execution_count": 11,
   "metadata": {
    "pycharm": {
     "name": "#%%\n"
    }
   },
   "outputs": [],
   "source": [
    "freq_rel = rel_freq(freq)"
   ]
  },
  {
   "cell_type": "code",
   "execution_count": 12,
   "metadata": {
    "pycharm": {
     "name": "#%%\n"
    }
   },
   "outputs": [],
   "source": [
    "p_freq_rel = rel_freq(p_freq)"
   ]
  },
  {
   "cell_type": "code",
   "execution_count": 13,
   "metadata": {
    "pycharm": {
     "name": "#%%\n"
    }
   },
   "outputs": [],
   "source": [
    "p_exp = expected_prob(freq)"
   ]
  },
  {
   "cell_type": "code",
   "execution_count": 14,
   "metadata": {
    "pycharm": {
     "name": "#%%\n"
    }
   },
   "outputs": [],
   "source": [
    "p_score = pair_score(p_freq_rel, p_exp)"
   ]
  },
  {
   "cell_type": "code",
   "execution_count": 15,
   "metadata": {
    "pycharm": {
     "name": "#%%\n"
    }
   },
   "outputs": [
    {
     "data": {
      "text/plain": "       T     S      V     K     Y     A     F     H     L     P     Q\nFa  9.00  8.00  10.00  12.0  7.00  3.00  3.00  3.00  2.00  2.00  1.00\nPa  0.15  0.13   0.17   0.2  0.12  0.05  0.05  0.05  0.03  0.03  0.02",
      "text/html": "<div>\n<style scoped>\n    .dataframe tbody tr th:only-of-type {\n        vertical-align: middle;\n    }\n\n    .dataframe tbody tr th {\n        vertical-align: top;\n    }\n\n    .dataframe thead th {\n        text-align: right;\n    }\n</style>\n<table border=\"1\" class=\"dataframe\">\n  <thead>\n    <tr style=\"text-align: right;\">\n      <th></th>\n      <th>T</th>\n      <th>S</th>\n      <th>V</th>\n      <th>K</th>\n      <th>Y</th>\n      <th>A</th>\n      <th>F</th>\n      <th>H</th>\n      <th>L</th>\n      <th>P</th>\n      <th>Q</th>\n    </tr>\n  </thead>\n  <tbody>\n    <tr>\n      <th>Fa</th>\n      <td>9.00</td>\n      <td>8.00</td>\n      <td>10.00</td>\n      <td>12.0</td>\n      <td>7.00</td>\n      <td>3.00</td>\n      <td>3.00</td>\n      <td>3.00</td>\n      <td>2.00</td>\n      <td>2.00</td>\n      <td>1.00</td>\n    </tr>\n    <tr>\n      <th>Pa</th>\n      <td>0.15</td>\n      <td>0.13</td>\n      <td>0.17</td>\n      <td>0.2</td>\n      <td>0.12</td>\n      <td>0.05</td>\n      <td>0.05</td>\n      <td>0.05</td>\n      <td>0.03</td>\n      <td>0.03</td>\n      <td>0.02</td>\n    </tr>\n  </tbody>\n</table>\n</div>"
     },
     "execution_count": 15,
     "metadata": {},
     "output_type": "execute_result"
    }
   ],
   "source": [
    "# Fill the tables\n",
    "single_df = pd.DataFrame([freq, freq_rel], ['Fa','Pa']).round(decimals =2)\n",
    "single_df"
   ]
  },
  {
   "cell_type": "code",
   "execution_count": 16,
   "metadata": {
    "pycharm": {
     "name": "#%%\n"
    }
   },
   "outputs": [
    {
     "data": {
      "text/plain": "       TT     SS     VV     KK     YY    AA    FF    SV    HH    LT    KT  \\\nFab  9.00  11.00  14.00  21.00  11.00  3.00  3.00  6.00  3.00  3.00  6.00   \nPab  0.08   0.09   0.12   0.18   0.09  0.02  0.02  0.05  0.02  0.02  0.05   \n\n       AP    FY    TV    HQ    ST    HL    LS    PP    LQ  \nFab  6.00  6.00  6.00  3.00  3.00  3.00  1.00  1.00  1.00  \nPab  0.05  0.05  0.05  0.02  0.02  0.02  0.01  0.01  0.01  ",
      "text/html": "<div>\n<style scoped>\n    .dataframe tbody tr th:only-of-type {\n        vertical-align: middle;\n    }\n\n    .dataframe tbody tr th {\n        vertical-align: top;\n    }\n\n    .dataframe thead th {\n        text-align: right;\n    }\n</style>\n<table border=\"1\" class=\"dataframe\">\n  <thead>\n    <tr style=\"text-align: right;\">\n      <th></th>\n      <th>TT</th>\n      <th>SS</th>\n      <th>VV</th>\n      <th>KK</th>\n      <th>YY</th>\n      <th>AA</th>\n      <th>FF</th>\n      <th>SV</th>\n      <th>HH</th>\n      <th>LT</th>\n      <th>KT</th>\n      <th>AP</th>\n      <th>FY</th>\n      <th>TV</th>\n      <th>HQ</th>\n      <th>ST</th>\n      <th>HL</th>\n      <th>LS</th>\n      <th>PP</th>\n      <th>LQ</th>\n    </tr>\n  </thead>\n  <tbody>\n    <tr>\n      <th>Fab</th>\n      <td>9.00</td>\n      <td>11.00</td>\n      <td>14.00</td>\n      <td>21.00</td>\n      <td>11.00</td>\n      <td>3.00</td>\n      <td>3.00</td>\n      <td>6.00</td>\n      <td>3.00</td>\n      <td>3.00</td>\n      <td>6.00</td>\n      <td>6.00</td>\n      <td>6.00</td>\n      <td>6.00</td>\n      <td>3.00</td>\n      <td>3.00</td>\n      <td>3.00</td>\n      <td>1.00</td>\n      <td>1.00</td>\n      <td>1.00</td>\n    </tr>\n    <tr>\n      <th>Pab</th>\n      <td>0.08</td>\n      <td>0.09</td>\n      <td>0.12</td>\n      <td>0.18</td>\n      <td>0.09</td>\n      <td>0.02</td>\n      <td>0.02</td>\n      <td>0.05</td>\n      <td>0.02</td>\n      <td>0.02</td>\n      <td>0.05</td>\n      <td>0.05</td>\n      <td>0.05</td>\n      <td>0.05</td>\n      <td>0.02</td>\n      <td>0.02</td>\n      <td>0.02</td>\n      <td>0.01</td>\n      <td>0.01</td>\n      <td>0.01</td>\n    </tr>\n  </tbody>\n</table>\n</div>"
     },
     "execution_count": 16,
     "metadata": {},
     "output_type": "execute_result"
    }
   ],
   "source": [
    "pair_df = pd.DataFrame([p_freq, p_freq_rel], ['Fab','Pab']).round(decimals =2)\n",
    "pair_df"
   ]
  },
  {
   "cell_type": "markdown",
   "metadata": {
    "pycharm": {
     "name": "#%% md\n"
    }
   },
   "source": [
    "### Ex.2 _(7 pts)_ Calculating scoring matrices\n",
    "\n",
    "Write a program that computes a scoring matrix score from a given block alignment database. You\n",
    "should be able to call your problem like ```python blosum.py alignment.dat blosum_matrix.out``` from\n",
    "the command line. The input file alignment.dat (found in the course folder) contains a small alignment\n",
    "\"database\". It contains a number of aligned sequences of equal length with no gaps with one sequence\n",
    "per line.Your program should compute the substitution matrix from this alignment. The output file\n",
    "```blosum_matrix.out``` should contain an output of the matrix like in the example of the BLOSUM matrix\n",
    "given above. (The original BLOSUM62 matrix is provided as blosum62.txt in the group folder. Are\n",
    "the scores of the matrix you have calculated for ```alignment.dat``` similar?)"
   ]
  },
  {
   "cell_type": "markdown",
   "metadata": {
    "pycharm": {
     "name": "#%% md\n"
    }
   },
   "source": [
    "Your program will need to.\n",
    "(a) read in the alignment data in an appropriate data structure\n",
    "(b) determine the log-odds scores for each possible alignment of amino acids,\n",
    "(c) produce a (nicely formatted) output of the resulting scoring matrix.\n"
   ]
  },
  {
   "cell_type": "code",
   "execution_count": 17,
   "metadata": {
    "pycharm": {
     "name": "#%%\n"
    }
   },
   "outputs": [],
   "source": [
    "# (a) read in the alignment data in an appropriate data structure\n",
    "def read_file(file:str) -> list:\n",
    "\t\"\"\"Read file into list of lines\"\"\"\n",
    "\twith open (file, 'r') as f:\n",
    "\t\treturn f.readlines()\n",
    "\n",
    "file = './alignment.dat'\n",
    "seqs = read_file(file)"
   ]
  },
  {
   "cell_type": "code",
   "execution_count": 18,
   "metadata": {
    "pycharm": {
     "name": "#%%\n"
    }
   },
   "outputs": [],
   "source": [
    "def pre_processing(seqs:list) -> list:\n",
    "\t\"\"\"Pre-process alignment data:\n",
    "\t- Add padding at the end of shorter strings to make sure they're the same size\n",
    "\t- Remove newlines\n",
    "\t\"\"\"\n",
    "\tmax_length = max([len(each) for each in seqs ])\n",
    "\tseqs = [ seq.ljust(max_length).replace('\\n','') for seq in seqs ]\n",
    "\treturn seqs\n",
    "\n",
    "seqs = pre_processing(seqs)"
   ]
  },
  {
   "cell_type": "code",
   "execution_count": 19,
   "metadata": {
    "pycharm": {
     "name": "#%%\n"
    }
   },
   "outputs": [],
   "source": [
    "# (b) determine the log-odds scores for each possible alignment of amino acids\n",
    "def calc_score(seqs:list) -> dict:\n",
    "\t\"\"\"Determine score from list of pre-processed aligned sequences\"\"\"\n",
    "\tfreq = fa(\"\".join(seqs))\n",
    "\tp_freq = all_pair_freq(seqs)\n",
    "\n",
    "\tfreq_rel = rel_freq(freq)\n",
    "\tp_freq_rel = rel_freq(p_freq)\n",
    "\n",
    "\tp_exp = expected_prob(freq)\n",
    "\tp_score = pair_score(p_freq_rel, p_exp)\n",
    "\n",
    "\treturn p_score\n",
    "\n",
    "score = calc_score(seqs)"
   ]
  },
  {
   "cell_type": "code",
   "execution_count": 20,
   "metadata": {
    "pycharm": {
     "name": "#%%\n"
    }
   },
   "outputs": [],
   "source": [
    "# (c) produce a (nicely formatted) output of the resulting scoring matrix.\n",
    "def aminoacids(score:dict) -> dict:\n",
    "\t\"\"\"Asigns an index to each aminoacid\"\"\"\n",
    "\tlist_aa = []\n",
    "\t[list_aa.extend([key[0],key[1]]) for key in score.keys()]\n",
    "\tlist_aa = set(list_aa)\n",
    "\treturn { key: i for i,key in enumerate(list_aa)}"
   ]
  },
  {
   "cell_type": "code",
   "execution_count": 21,
   "metadata": {
    "pycharm": {
     "name": "#%%\n"
    }
   },
   "outputs": [],
   "source": [
    "def calc_score_matrix(score:dict) -> np.ndarray:\n",
    "\t\"\"\"Generate a score matrix from a score dictionary\"\"\"\n",
    "\t# Create matrix of 0 of size (20,20)\n",
    "\tmatrix = np.zeros((20,20),dtype=int)\n",
    "\n",
    "\t# Get index for each aa in matrix\n",
    "\taa_index = aminoacids(score)\n",
    "\n",
    "\t# Iterate through score dictionary and input values into matrix\n",
    "\tfor key, val in score.items():\n",
    "\t\tmatrix[aa_index[key[0]],aa_index[key[1]]] = val\n",
    "\n",
    "\treturn matrix\n",
    "\n",
    "score_matrix = calc_score_matrix(score)"
   ]
  },
  {
   "cell_type": "code",
   "execution_count": 22,
   "metadata": {
    "pycharm": {
     "name": "#%%\n"
    }
   },
   "outputs": [],
   "source": [
    "def score_table(score_matrix:np.ndarray,score, file) -> pd.DataFrame:\n",
    "\t\"\"\"Turn a numpy score matrix into a dataframe\"\"\"\n",
    "\taa_index = aminoacids(score)\n",
    "\tcolumns = list(aa_index.keys())\n",
    "\n",
    "\tdf = pd.DataFrame(score_matrix, columns=columns)\n",
    "\tdf = df.rename(dict(enumerate(columns)))\n",
    "\n",
    "\twith open(file, 'w') as f:\n",
    "\t\tprint(df.to_string(), file=f)\n",
    "\t\tprint(colored(f'Score matrix saved to \"{file}\"'), 'green')\n",
    "\treturn df"
   ]
  },
  {
   "cell_type": "code",
   "execution_count": 23,
   "metadata": {
    "pycharm": {
     "name": "#%%\n"
    }
   },
   "outputs": [
    {
     "name": "stdout",
     "output_type": "stream",
     "text": [
      "Score matrix saved to \"score_matrix_test.txt\"\u001B[0m green\n"
     ]
    },
    {
     "data": {
      "text/plain": "    T   Y   N   I   R   C   D   H   F   P   W   A   E   M   L   G   Q   V   K  \\\nT -41 -49   0   0   0   0   0   0   0   0 -51   0   0   0   0   0   0 -49   0   \nY   0 -38   0   0   0   0   0   0   0   0   0   0   0   0   0   0   0   0   0   \nN -47 -50 -39   0 -48   0   0   0   0 -50 -53   0   0   0   0   0 -48 -48   0   \nI -48 -49 -48 -41 -50   0   0   0   0 -50 -52   0   0 -47 -46   0 -47 -45 -51   \nR -48 -48   0   0 -40   0   0   0   0   0 -51   0   0   0   0   0   0 -50   0   \nC -47 -47 -50 -48 -47 -39 -50   0 -46 -48 -50   0 -49 -46 -48 -48 -46 -48 -50   \nD -52 -51 -46 -49 -51   0 -41 -50 -50 -52 -55   0 -45 -52 -50 -49 -53 -49 -50   \nH -50 -46 -48 -46 -46   0   0 -39   0 -49 -52   0   0 -47 -49   0 -44 -50 -51   \nF -50 -44 -51 -48 -49   0   0 -51 -40 -52 -47   0   0 -47 -46 -53 -50 -50 -57   \nP -49 -50   0   0 -52   0   0   0   0 -40 -52   0   0   0   0   0 -51 -52   0   \nW   0 -55   0   0   0   0   0   0   0   0 -38   0   0   0   0   0   0   0   0   \nA -47 -53 -49 -49 -49 -49 -48 -48 -50 -47 -54 -41 -48 -48 -49 -49 -48 -47 -47   \nE -50 -50 -47 -50 -50   0   0 -52 -53 -48 -50   0 -42 -47 -50 -49 -48 -50 -48   \nM -47 -53 -51   0 -49   0   0   0   0 -51 -53   0   0 -38   0   0 -51 -47   0   \nL -51 -50 -54   0 -49   0   0   0   0 -50 -49   0   0 -46 -41   0 -49 -46   0   \nG -49 -51 -49 -51 -47   0   0 -50   0 -51 -46   0   0 -50 -49 -40 -51 -49 -50   \nQ -51 -52   0   0 -48   0   0   0   0   0 -52   0   0   0   0   0 -39 -51   0   \nV   0 -51   0   0   0   0   0   0   0   0 -48   0   0   0   0   0   0 -41   0   \nK -48 -53 -49   0 -45   0   0   0   0 -51 -49   0   0 -52 -54   0 -46 -49 -41   \nS -46 -50   0   0   0   0   0   0   0   0 -54   0   0   0   0   0   0 -50   0   \n\n    S  \nT   0  \nY   0  \nN -47  \nI -49  \nR -50  \nC -48  \nD -50  \nH -48  \nF -52  \nP -47  \nW   0  \nA -46  \nE -49  \nM -49  \nL -50  \nG -46  \nQ -50  \nV   0  \nK -48  \nS -42  ",
      "text/html": "<div>\n<style scoped>\n    .dataframe tbody tr th:only-of-type {\n        vertical-align: middle;\n    }\n\n    .dataframe tbody tr th {\n        vertical-align: top;\n    }\n\n    .dataframe thead th {\n        text-align: right;\n    }\n</style>\n<table border=\"1\" class=\"dataframe\">\n  <thead>\n    <tr style=\"text-align: right;\">\n      <th></th>\n      <th>T</th>\n      <th>Y</th>\n      <th>N</th>\n      <th>I</th>\n      <th>R</th>\n      <th>C</th>\n      <th>D</th>\n      <th>H</th>\n      <th>F</th>\n      <th>P</th>\n      <th>W</th>\n      <th>A</th>\n      <th>E</th>\n      <th>M</th>\n      <th>L</th>\n      <th>G</th>\n      <th>Q</th>\n      <th>V</th>\n      <th>K</th>\n      <th>S</th>\n    </tr>\n  </thead>\n  <tbody>\n    <tr>\n      <th>T</th>\n      <td>-41</td>\n      <td>-49</td>\n      <td>0</td>\n      <td>0</td>\n      <td>0</td>\n      <td>0</td>\n      <td>0</td>\n      <td>0</td>\n      <td>0</td>\n      <td>0</td>\n      <td>-51</td>\n      <td>0</td>\n      <td>0</td>\n      <td>0</td>\n      <td>0</td>\n      <td>0</td>\n      <td>0</td>\n      <td>-49</td>\n      <td>0</td>\n      <td>0</td>\n    </tr>\n    <tr>\n      <th>Y</th>\n      <td>0</td>\n      <td>-38</td>\n      <td>0</td>\n      <td>0</td>\n      <td>0</td>\n      <td>0</td>\n      <td>0</td>\n      <td>0</td>\n      <td>0</td>\n      <td>0</td>\n      <td>0</td>\n      <td>0</td>\n      <td>0</td>\n      <td>0</td>\n      <td>0</td>\n      <td>0</td>\n      <td>0</td>\n      <td>0</td>\n      <td>0</td>\n      <td>0</td>\n    </tr>\n    <tr>\n      <th>N</th>\n      <td>-47</td>\n      <td>-50</td>\n      <td>-39</td>\n      <td>0</td>\n      <td>-48</td>\n      <td>0</td>\n      <td>0</td>\n      <td>0</td>\n      <td>0</td>\n      <td>-50</td>\n      <td>-53</td>\n      <td>0</td>\n      <td>0</td>\n      <td>0</td>\n      <td>0</td>\n      <td>0</td>\n      <td>-48</td>\n      <td>-48</td>\n      <td>0</td>\n      <td>-47</td>\n    </tr>\n    <tr>\n      <th>I</th>\n      <td>-48</td>\n      <td>-49</td>\n      <td>-48</td>\n      <td>-41</td>\n      <td>-50</td>\n      <td>0</td>\n      <td>0</td>\n      <td>0</td>\n      <td>0</td>\n      <td>-50</td>\n      <td>-52</td>\n      <td>0</td>\n      <td>0</td>\n      <td>-47</td>\n      <td>-46</td>\n      <td>0</td>\n      <td>-47</td>\n      <td>-45</td>\n      <td>-51</td>\n      <td>-49</td>\n    </tr>\n    <tr>\n      <th>R</th>\n      <td>-48</td>\n      <td>-48</td>\n      <td>0</td>\n      <td>0</td>\n      <td>-40</td>\n      <td>0</td>\n      <td>0</td>\n      <td>0</td>\n      <td>0</td>\n      <td>0</td>\n      <td>-51</td>\n      <td>0</td>\n      <td>0</td>\n      <td>0</td>\n      <td>0</td>\n      <td>0</td>\n      <td>0</td>\n      <td>-50</td>\n      <td>0</td>\n      <td>-50</td>\n    </tr>\n    <tr>\n      <th>C</th>\n      <td>-47</td>\n      <td>-47</td>\n      <td>-50</td>\n      <td>-48</td>\n      <td>-47</td>\n      <td>-39</td>\n      <td>-50</td>\n      <td>0</td>\n      <td>-46</td>\n      <td>-48</td>\n      <td>-50</td>\n      <td>0</td>\n      <td>-49</td>\n      <td>-46</td>\n      <td>-48</td>\n      <td>-48</td>\n      <td>-46</td>\n      <td>-48</td>\n      <td>-50</td>\n      <td>-48</td>\n    </tr>\n    <tr>\n      <th>D</th>\n      <td>-52</td>\n      <td>-51</td>\n      <td>-46</td>\n      <td>-49</td>\n      <td>-51</td>\n      <td>0</td>\n      <td>-41</td>\n      <td>-50</td>\n      <td>-50</td>\n      <td>-52</td>\n      <td>-55</td>\n      <td>0</td>\n      <td>-45</td>\n      <td>-52</td>\n      <td>-50</td>\n      <td>-49</td>\n      <td>-53</td>\n      <td>-49</td>\n      <td>-50</td>\n      <td>-50</td>\n    </tr>\n    <tr>\n      <th>H</th>\n      <td>-50</td>\n      <td>-46</td>\n      <td>-48</td>\n      <td>-46</td>\n      <td>-46</td>\n      <td>0</td>\n      <td>0</td>\n      <td>-39</td>\n      <td>0</td>\n      <td>-49</td>\n      <td>-52</td>\n      <td>0</td>\n      <td>0</td>\n      <td>-47</td>\n      <td>-49</td>\n      <td>0</td>\n      <td>-44</td>\n      <td>-50</td>\n      <td>-51</td>\n      <td>-48</td>\n    </tr>\n    <tr>\n      <th>F</th>\n      <td>-50</td>\n      <td>-44</td>\n      <td>-51</td>\n      <td>-48</td>\n      <td>-49</td>\n      <td>0</td>\n      <td>0</td>\n      <td>-51</td>\n      <td>-40</td>\n      <td>-52</td>\n      <td>-47</td>\n      <td>0</td>\n      <td>0</td>\n      <td>-47</td>\n      <td>-46</td>\n      <td>-53</td>\n      <td>-50</td>\n      <td>-50</td>\n      <td>-57</td>\n      <td>-52</td>\n    </tr>\n    <tr>\n      <th>P</th>\n      <td>-49</td>\n      <td>-50</td>\n      <td>0</td>\n      <td>0</td>\n      <td>-52</td>\n      <td>0</td>\n      <td>0</td>\n      <td>0</td>\n      <td>0</td>\n      <td>-40</td>\n      <td>-52</td>\n      <td>0</td>\n      <td>0</td>\n      <td>0</td>\n      <td>0</td>\n      <td>0</td>\n      <td>-51</td>\n      <td>-52</td>\n      <td>0</td>\n      <td>-47</td>\n    </tr>\n    <tr>\n      <th>W</th>\n      <td>0</td>\n      <td>-55</td>\n      <td>0</td>\n      <td>0</td>\n      <td>0</td>\n      <td>0</td>\n      <td>0</td>\n      <td>0</td>\n      <td>0</td>\n      <td>0</td>\n      <td>-38</td>\n      <td>0</td>\n      <td>0</td>\n      <td>0</td>\n      <td>0</td>\n      <td>0</td>\n      <td>0</td>\n      <td>0</td>\n      <td>0</td>\n      <td>0</td>\n    </tr>\n    <tr>\n      <th>A</th>\n      <td>-47</td>\n      <td>-53</td>\n      <td>-49</td>\n      <td>-49</td>\n      <td>-49</td>\n      <td>-49</td>\n      <td>-48</td>\n      <td>-48</td>\n      <td>-50</td>\n      <td>-47</td>\n      <td>-54</td>\n      <td>-41</td>\n      <td>-48</td>\n      <td>-48</td>\n      <td>-49</td>\n      <td>-49</td>\n      <td>-48</td>\n      <td>-47</td>\n      <td>-47</td>\n      <td>-46</td>\n    </tr>\n    <tr>\n      <th>E</th>\n      <td>-50</td>\n      <td>-50</td>\n      <td>-47</td>\n      <td>-50</td>\n      <td>-50</td>\n      <td>0</td>\n      <td>0</td>\n      <td>-52</td>\n      <td>-53</td>\n      <td>-48</td>\n      <td>-50</td>\n      <td>0</td>\n      <td>-42</td>\n      <td>-47</td>\n      <td>-50</td>\n      <td>-49</td>\n      <td>-48</td>\n      <td>-50</td>\n      <td>-48</td>\n      <td>-49</td>\n    </tr>\n    <tr>\n      <th>M</th>\n      <td>-47</td>\n      <td>-53</td>\n      <td>-51</td>\n      <td>0</td>\n      <td>-49</td>\n      <td>0</td>\n      <td>0</td>\n      <td>0</td>\n      <td>0</td>\n      <td>-51</td>\n      <td>-53</td>\n      <td>0</td>\n      <td>0</td>\n      <td>-38</td>\n      <td>0</td>\n      <td>0</td>\n      <td>-51</td>\n      <td>-47</td>\n      <td>0</td>\n      <td>-49</td>\n    </tr>\n    <tr>\n      <th>L</th>\n      <td>-51</td>\n      <td>-50</td>\n      <td>-54</td>\n      <td>0</td>\n      <td>-49</td>\n      <td>0</td>\n      <td>0</td>\n      <td>0</td>\n      <td>0</td>\n      <td>-50</td>\n      <td>-49</td>\n      <td>0</td>\n      <td>0</td>\n      <td>-46</td>\n      <td>-41</td>\n      <td>0</td>\n      <td>-49</td>\n      <td>-46</td>\n      <td>0</td>\n      <td>-50</td>\n    </tr>\n    <tr>\n      <th>G</th>\n      <td>-49</td>\n      <td>-51</td>\n      <td>-49</td>\n      <td>-51</td>\n      <td>-47</td>\n      <td>0</td>\n      <td>0</td>\n      <td>-50</td>\n      <td>0</td>\n      <td>-51</td>\n      <td>-46</td>\n      <td>0</td>\n      <td>0</td>\n      <td>-50</td>\n      <td>-49</td>\n      <td>-40</td>\n      <td>-51</td>\n      <td>-49</td>\n      <td>-50</td>\n      <td>-46</td>\n    </tr>\n    <tr>\n      <th>Q</th>\n      <td>-51</td>\n      <td>-52</td>\n      <td>0</td>\n      <td>0</td>\n      <td>-48</td>\n      <td>0</td>\n      <td>0</td>\n      <td>0</td>\n      <td>0</td>\n      <td>0</td>\n      <td>-52</td>\n      <td>0</td>\n      <td>0</td>\n      <td>0</td>\n      <td>0</td>\n      <td>0</td>\n      <td>-39</td>\n      <td>-51</td>\n      <td>0</td>\n      <td>-50</td>\n    </tr>\n    <tr>\n      <th>V</th>\n      <td>0</td>\n      <td>-51</td>\n      <td>0</td>\n      <td>0</td>\n      <td>0</td>\n      <td>0</td>\n      <td>0</td>\n      <td>0</td>\n      <td>0</td>\n      <td>0</td>\n      <td>-48</td>\n      <td>0</td>\n      <td>0</td>\n      <td>0</td>\n      <td>0</td>\n      <td>0</td>\n      <td>0</td>\n      <td>-41</td>\n      <td>0</td>\n      <td>0</td>\n    </tr>\n    <tr>\n      <th>K</th>\n      <td>-48</td>\n      <td>-53</td>\n      <td>-49</td>\n      <td>0</td>\n      <td>-45</td>\n      <td>0</td>\n      <td>0</td>\n      <td>0</td>\n      <td>0</td>\n      <td>-51</td>\n      <td>-49</td>\n      <td>0</td>\n      <td>0</td>\n      <td>-52</td>\n      <td>-54</td>\n      <td>0</td>\n      <td>-46</td>\n      <td>-49</td>\n      <td>-41</td>\n      <td>-48</td>\n    </tr>\n    <tr>\n      <th>S</th>\n      <td>-46</td>\n      <td>-50</td>\n      <td>0</td>\n      <td>0</td>\n      <td>0</td>\n      <td>0</td>\n      <td>0</td>\n      <td>0</td>\n      <td>0</td>\n      <td>0</td>\n      <td>-54</td>\n      <td>0</td>\n      <td>0</td>\n      <td>0</td>\n      <td>0</td>\n      <td>0</td>\n      <td>0</td>\n      <td>-50</td>\n      <td>0</td>\n      <td>-42</td>\n    </tr>\n  </tbody>\n</table>\n</div>"
     },
     "execution_count": 23,
     "metadata": {},
     "output_type": "execute_result"
    }
   ],
   "source": [
    "score_table(score_matrix, score, 'score_matrix_test.txt')\n",
    "\n",
    "# TODO start off the frequencies as 1, to avoid problems with 0"
   ]
  },
  {
   "cell_type": "markdown",
   "metadata": {
    "pycharm": {
     "name": "#%% md\n"
    }
   },
   "source": [
    "#### Run functions as script"
   ]
  },
  {
   "cell_type": "code",
   "execution_count": 24,
   "metadata": {
    "pycharm": {
     "name": "#%%\n"
    }
   },
   "outputs": [
    {
     "name": "stdout",
     "output_type": "stream",
     "text": [
      "Score matrix saved to \"score_matrix.txt\"\u001B[0m green\n"
     ]
    }
   ],
   "source": [
    "%run diazdelser-scoring.py 'alignment.dat' 'score_matrix.txt'"
   ]
  },
  {
   "cell_type": "markdown",
   "metadata": {
    "pycharm": {
     "name": "#%% md\n"
    }
   },
   "source": [
    "### Ex.3 _(13 pts)_ Global/local alignment"
   ]
  },
  {
   "cell_type": "markdown",
   "metadata": {
    "pycharm": {
     "name": "#%% md\n"
    }
   },
   "source": [
    "#### (a) _(5 pts)_ Implement the Needleman-Wunsch algorithm:\n",
    "Write a program called needle.py that takes 4 parameters\n",
    "and should be called like ```python needle.py -8 blosum.txt sequence1.fasta sequence2.fasta```, where -8 is the gap\n",
    "penalty w, ```blosum.txt``` is a text file containing the scoring matrix and ```sequence1.fasta``` and\n",
    "```sequence2.fasta``` are two amino acid sequences in Fasta format.\n",
    "\n",
    "The program should output the score of the alignment and the aligned sequences, i.e. the sequences\n",
    "plus the gaps (represented by the symbol -).\n",
    "\n",
    "• Note that you will need to write a function that is able to read in a scoring matrix from a\n",
    "text file and store it in a suitable data structure.\n",
    "\n",
    "• Test your program using the scoring matrix blosum62.dat and a gap penalty of -5 on the\n",
    "sequences:\n",
    "THRQATWQPPLERMANGRQVE and RAYMQNDLVKVRYYACHT"
   ]
  },
  {
   "cell_type": "code",
   "execution_count": 25,
   "outputs": [],
   "source": [
    "seqA = 'THRQATWQPPLERMANGRQVE'\n",
    "seqB = 'RAYMQNDLVKVRYYACHT'"
   ],
   "metadata": {
    "collapsed": false,
    "pycharm": {
     "name": "#%%\n"
    }
   }
  },
  {
   "cell_type": "code",
   "execution_count": 26,
   "outputs": [],
   "source": [
    "def score_matrix_to_df(lines:list) -> (str, list):\n",
    "\t\"\"\"Read list of lines into dataframe\"\"\"\n",
    "\tlines = [line.strip() for line in lines]\n",
    "\t# Turn lines into list of scores\n",
    "\tlines =[ [ letter for letter in line.split() if letter !=' '] for line in lines ]\n",
    "\t# Separate header from rest of the strings\n",
    "\theader = lines[0]\n",
    "\t# Remove first item from lists (it's the aa)\n",
    "\tlines = [line[1:] for line in lines[1:]]\n",
    "\t# Generate pandas dataframe, remove emtpy rows\n",
    "\tdf = pd.DataFrame(lines, columns=header).dropna(how='all')\n",
    "\t# Add aa symbols as row headers\n",
    "\tdf = df.rename(dict(enumerate(header)))\n",
    "\treturn df"
   ],
   "metadata": {
    "collapsed": false,
    "pycharm": {
     "name": "#%%\n"
    }
   }
  },
  {
   "cell_type": "code",
   "execution_count": 177,
   "outputs": [
    {
     "data": {
      "text/plain": "    A   R   N   D   C   Q   E   G   H   I   L   K   M   F   P   S   T   W   Y  \\\nA   4  -1  -2  -2   0  -1  -1   0  -2  -1  -1  -1  -1  -2  -1   1   0  -3  -2   \nR  -1   5   0  -2  -3   1   0  -2   0  -3  -2   2  -1  -3  -2  -1  -1  -3  -2   \nN  -2   0   6   1  -3   0   0   0   1  -3  -3   0  -2  -3  -2   1   0  -4  -2   \nD  -2  -2   1   6  -3   0   2  -1  -1  -3  -4  -1  -3  -3  -1   0  -1  -4  -3   \nC   0  -3  -3  -3   9  -3  -4  -3  -3  -1  -1  -3  -1  -2  -3  -1  -1  -2  -2   \nQ  -1   1   0   0  -3   5   2  -2   0  -3  -2   1   0  -3  -1   0  -1  -2  -1   \nE  -1   0   0   2  -4   2   5  -2   0  -3  -3   1  -2  -3  -1   0  -1  -3  -2   \nG   0  -2   0  -1  -3  -2  -2   6  -2  -4  -4  -2  -3  -3  -2   0  -2  -2  -3   \nH  -2   0   1  -1  -3   0   0  -2   8  -3  -3  -1  -2  -1  -2  -1  -2  -2   2   \nI  -1  -3  -3  -3  -1  -3  -3  -4  -3   4   2  -3   1   0  -3  -2  -1  -3  -1   \nL  -1  -2  -3  -4  -1  -2  -3  -4  -3   2   4  -2   2   0  -3  -2  -1  -2  -1   \nK  -1   2   0  -1  -3   1   1  -2  -1  -3  -2   5  -1  -3  -1   0  -1  -3  -2   \nM  -1  -1  -2  -3  -1   0  -2  -3  -2   1   2  -1   5   0  -2  -1  -1  -1  -1   \nF  -2  -3  -3  -3  -2  -3  -3  -3  -1   0   0  -3   0   6  -4  -2  -2   1   3   \nP  -1  -2  -2  -1  -3  -1  -1  -2  -2  -3  -3  -1  -2  -4   7  -1  -1  -4  -3   \nS   1  -1   1   0  -1   0   0   0  -1  -2  -2   0  -1  -2  -1   4   1  -3  -2   \nT   0  -1   0  -1  -1  -1  -1  -2  -2  -1  -1  -1  -1  -2  -1   1   5  -2  -2   \nW  -3  -3  -4  -4  -2  -2  -3  -2  -2  -3  -2  -3  -1   1  -4  -3  -2  11   2   \nY  -2  -2  -2  -3  -2  -1  -2  -3   2  -1  -1  -2  -1   3  -3  -2  -2   2   7   \nV   0  -3  -3  -3  -1  -2  -2  -3  -3   3   1  -2   1  -1  -2  -2   0  -3  -1   \n\n    V  \nA   0  \nR  -3  \nN  -3  \nD  -3  \nC  -1  \nQ  -2  \nE  -2  \nG  -3  \nH  -3  \nI   3  \nL   1  \nK  -2  \nM   1  \nF  -1  \nP  -2  \nS  -2  \nT   0  \nW  -3  \nY  -1  \nV   4  ",
      "text/html": "<div>\n<style scoped>\n    .dataframe tbody tr th:only-of-type {\n        vertical-align: middle;\n    }\n\n    .dataframe tbody tr th {\n        vertical-align: top;\n    }\n\n    .dataframe thead th {\n        text-align: right;\n    }\n</style>\n<table border=\"1\" class=\"dataframe\">\n  <thead>\n    <tr style=\"text-align: right;\">\n      <th></th>\n      <th>A</th>\n      <th>R</th>\n      <th>N</th>\n      <th>D</th>\n      <th>C</th>\n      <th>Q</th>\n      <th>E</th>\n      <th>G</th>\n      <th>H</th>\n      <th>I</th>\n      <th>L</th>\n      <th>K</th>\n      <th>M</th>\n      <th>F</th>\n      <th>P</th>\n      <th>S</th>\n      <th>T</th>\n      <th>W</th>\n      <th>Y</th>\n      <th>V</th>\n    </tr>\n  </thead>\n  <tbody>\n    <tr>\n      <th>A</th>\n      <td>4</td>\n      <td>-1</td>\n      <td>-2</td>\n      <td>-2</td>\n      <td>0</td>\n      <td>-1</td>\n      <td>-1</td>\n      <td>0</td>\n      <td>-2</td>\n      <td>-1</td>\n      <td>-1</td>\n      <td>-1</td>\n      <td>-1</td>\n      <td>-2</td>\n      <td>-1</td>\n      <td>1</td>\n      <td>0</td>\n      <td>-3</td>\n      <td>-2</td>\n      <td>0</td>\n    </tr>\n    <tr>\n      <th>R</th>\n      <td>-1</td>\n      <td>5</td>\n      <td>0</td>\n      <td>-2</td>\n      <td>-3</td>\n      <td>1</td>\n      <td>0</td>\n      <td>-2</td>\n      <td>0</td>\n      <td>-3</td>\n      <td>-2</td>\n      <td>2</td>\n      <td>-1</td>\n      <td>-3</td>\n      <td>-2</td>\n      <td>-1</td>\n      <td>-1</td>\n      <td>-3</td>\n      <td>-2</td>\n      <td>-3</td>\n    </tr>\n    <tr>\n      <th>N</th>\n      <td>-2</td>\n      <td>0</td>\n      <td>6</td>\n      <td>1</td>\n      <td>-3</td>\n      <td>0</td>\n      <td>0</td>\n      <td>0</td>\n      <td>1</td>\n      <td>-3</td>\n      <td>-3</td>\n      <td>0</td>\n      <td>-2</td>\n      <td>-3</td>\n      <td>-2</td>\n      <td>1</td>\n      <td>0</td>\n      <td>-4</td>\n      <td>-2</td>\n      <td>-3</td>\n    </tr>\n    <tr>\n      <th>D</th>\n      <td>-2</td>\n      <td>-2</td>\n      <td>1</td>\n      <td>6</td>\n      <td>-3</td>\n      <td>0</td>\n      <td>2</td>\n      <td>-1</td>\n      <td>-1</td>\n      <td>-3</td>\n      <td>-4</td>\n      <td>-1</td>\n      <td>-3</td>\n      <td>-3</td>\n      <td>-1</td>\n      <td>0</td>\n      <td>-1</td>\n      <td>-4</td>\n      <td>-3</td>\n      <td>-3</td>\n    </tr>\n    <tr>\n      <th>C</th>\n      <td>0</td>\n      <td>-3</td>\n      <td>-3</td>\n      <td>-3</td>\n      <td>9</td>\n      <td>-3</td>\n      <td>-4</td>\n      <td>-3</td>\n      <td>-3</td>\n      <td>-1</td>\n      <td>-1</td>\n      <td>-3</td>\n      <td>-1</td>\n      <td>-2</td>\n      <td>-3</td>\n      <td>-1</td>\n      <td>-1</td>\n      <td>-2</td>\n      <td>-2</td>\n      <td>-1</td>\n    </tr>\n    <tr>\n      <th>Q</th>\n      <td>-1</td>\n      <td>1</td>\n      <td>0</td>\n      <td>0</td>\n      <td>-3</td>\n      <td>5</td>\n      <td>2</td>\n      <td>-2</td>\n      <td>0</td>\n      <td>-3</td>\n      <td>-2</td>\n      <td>1</td>\n      <td>0</td>\n      <td>-3</td>\n      <td>-1</td>\n      <td>0</td>\n      <td>-1</td>\n      <td>-2</td>\n      <td>-1</td>\n      <td>-2</td>\n    </tr>\n    <tr>\n      <th>E</th>\n      <td>-1</td>\n      <td>0</td>\n      <td>0</td>\n      <td>2</td>\n      <td>-4</td>\n      <td>2</td>\n      <td>5</td>\n      <td>-2</td>\n      <td>0</td>\n      <td>-3</td>\n      <td>-3</td>\n      <td>1</td>\n      <td>-2</td>\n      <td>-3</td>\n      <td>-1</td>\n      <td>0</td>\n      <td>-1</td>\n      <td>-3</td>\n      <td>-2</td>\n      <td>-2</td>\n    </tr>\n    <tr>\n      <th>G</th>\n      <td>0</td>\n      <td>-2</td>\n      <td>0</td>\n      <td>-1</td>\n      <td>-3</td>\n      <td>-2</td>\n      <td>-2</td>\n      <td>6</td>\n      <td>-2</td>\n      <td>-4</td>\n      <td>-4</td>\n      <td>-2</td>\n      <td>-3</td>\n      <td>-3</td>\n      <td>-2</td>\n      <td>0</td>\n      <td>-2</td>\n      <td>-2</td>\n      <td>-3</td>\n      <td>-3</td>\n    </tr>\n    <tr>\n      <th>H</th>\n      <td>-2</td>\n      <td>0</td>\n      <td>1</td>\n      <td>-1</td>\n      <td>-3</td>\n      <td>0</td>\n      <td>0</td>\n      <td>-2</td>\n      <td>8</td>\n      <td>-3</td>\n      <td>-3</td>\n      <td>-1</td>\n      <td>-2</td>\n      <td>-1</td>\n      <td>-2</td>\n      <td>-1</td>\n      <td>-2</td>\n      <td>-2</td>\n      <td>2</td>\n      <td>-3</td>\n    </tr>\n    <tr>\n      <th>I</th>\n      <td>-1</td>\n      <td>-3</td>\n      <td>-3</td>\n      <td>-3</td>\n      <td>-1</td>\n      <td>-3</td>\n      <td>-3</td>\n      <td>-4</td>\n      <td>-3</td>\n      <td>4</td>\n      <td>2</td>\n      <td>-3</td>\n      <td>1</td>\n      <td>0</td>\n      <td>-3</td>\n      <td>-2</td>\n      <td>-1</td>\n      <td>-3</td>\n      <td>-1</td>\n      <td>3</td>\n    </tr>\n    <tr>\n      <th>L</th>\n      <td>-1</td>\n      <td>-2</td>\n      <td>-3</td>\n      <td>-4</td>\n      <td>-1</td>\n      <td>-2</td>\n      <td>-3</td>\n      <td>-4</td>\n      <td>-3</td>\n      <td>2</td>\n      <td>4</td>\n      <td>-2</td>\n      <td>2</td>\n      <td>0</td>\n      <td>-3</td>\n      <td>-2</td>\n      <td>-1</td>\n      <td>-2</td>\n      <td>-1</td>\n      <td>1</td>\n    </tr>\n    <tr>\n      <th>K</th>\n      <td>-1</td>\n      <td>2</td>\n      <td>0</td>\n      <td>-1</td>\n      <td>-3</td>\n      <td>1</td>\n      <td>1</td>\n      <td>-2</td>\n      <td>-1</td>\n      <td>-3</td>\n      <td>-2</td>\n      <td>5</td>\n      <td>-1</td>\n      <td>-3</td>\n      <td>-1</td>\n      <td>0</td>\n      <td>-1</td>\n      <td>-3</td>\n      <td>-2</td>\n      <td>-2</td>\n    </tr>\n    <tr>\n      <th>M</th>\n      <td>-1</td>\n      <td>-1</td>\n      <td>-2</td>\n      <td>-3</td>\n      <td>-1</td>\n      <td>0</td>\n      <td>-2</td>\n      <td>-3</td>\n      <td>-2</td>\n      <td>1</td>\n      <td>2</td>\n      <td>-1</td>\n      <td>5</td>\n      <td>0</td>\n      <td>-2</td>\n      <td>-1</td>\n      <td>-1</td>\n      <td>-1</td>\n      <td>-1</td>\n      <td>1</td>\n    </tr>\n    <tr>\n      <th>F</th>\n      <td>-2</td>\n      <td>-3</td>\n      <td>-3</td>\n      <td>-3</td>\n      <td>-2</td>\n      <td>-3</td>\n      <td>-3</td>\n      <td>-3</td>\n      <td>-1</td>\n      <td>0</td>\n      <td>0</td>\n      <td>-3</td>\n      <td>0</td>\n      <td>6</td>\n      <td>-4</td>\n      <td>-2</td>\n      <td>-2</td>\n      <td>1</td>\n      <td>3</td>\n      <td>-1</td>\n    </tr>\n    <tr>\n      <th>P</th>\n      <td>-1</td>\n      <td>-2</td>\n      <td>-2</td>\n      <td>-1</td>\n      <td>-3</td>\n      <td>-1</td>\n      <td>-1</td>\n      <td>-2</td>\n      <td>-2</td>\n      <td>-3</td>\n      <td>-3</td>\n      <td>-1</td>\n      <td>-2</td>\n      <td>-4</td>\n      <td>7</td>\n      <td>-1</td>\n      <td>-1</td>\n      <td>-4</td>\n      <td>-3</td>\n      <td>-2</td>\n    </tr>\n    <tr>\n      <th>S</th>\n      <td>1</td>\n      <td>-1</td>\n      <td>1</td>\n      <td>0</td>\n      <td>-1</td>\n      <td>0</td>\n      <td>0</td>\n      <td>0</td>\n      <td>-1</td>\n      <td>-2</td>\n      <td>-2</td>\n      <td>0</td>\n      <td>-1</td>\n      <td>-2</td>\n      <td>-1</td>\n      <td>4</td>\n      <td>1</td>\n      <td>-3</td>\n      <td>-2</td>\n      <td>-2</td>\n    </tr>\n    <tr>\n      <th>T</th>\n      <td>0</td>\n      <td>-1</td>\n      <td>0</td>\n      <td>-1</td>\n      <td>-1</td>\n      <td>-1</td>\n      <td>-1</td>\n      <td>-2</td>\n      <td>-2</td>\n      <td>-1</td>\n      <td>-1</td>\n      <td>-1</td>\n      <td>-1</td>\n      <td>-2</td>\n      <td>-1</td>\n      <td>1</td>\n      <td>5</td>\n      <td>-2</td>\n      <td>-2</td>\n      <td>0</td>\n    </tr>\n    <tr>\n      <th>W</th>\n      <td>-3</td>\n      <td>-3</td>\n      <td>-4</td>\n      <td>-4</td>\n      <td>-2</td>\n      <td>-2</td>\n      <td>-3</td>\n      <td>-2</td>\n      <td>-2</td>\n      <td>-3</td>\n      <td>-2</td>\n      <td>-3</td>\n      <td>-1</td>\n      <td>1</td>\n      <td>-4</td>\n      <td>-3</td>\n      <td>-2</td>\n      <td>11</td>\n      <td>2</td>\n      <td>-3</td>\n    </tr>\n    <tr>\n      <th>Y</th>\n      <td>-2</td>\n      <td>-2</td>\n      <td>-2</td>\n      <td>-3</td>\n      <td>-2</td>\n      <td>-1</td>\n      <td>-2</td>\n      <td>-3</td>\n      <td>2</td>\n      <td>-1</td>\n      <td>-1</td>\n      <td>-2</td>\n      <td>-1</td>\n      <td>3</td>\n      <td>-3</td>\n      <td>-2</td>\n      <td>-2</td>\n      <td>2</td>\n      <td>7</td>\n      <td>-1</td>\n    </tr>\n    <tr>\n      <th>V</th>\n      <td>0</td>\n      <td>-3</td>\n      <td>-3</td>\n      <td>-3</td>\n      <td>-1</td>\n      <td>-2</td>\n      <td>-2</td>\n      <td>-3</td>\n      <td>-3</td>\n      <td>3</td>\n      <td>1</td>\n      <td>-2</td>\n      <td>1</td>\n      <td>-1</td>\n      <td>-2</td>\n      <td>-2</td>\n      <td>0</td>\n      <td>-3</td>\n      <td>-1</td>\n      <td>4</td>\n    </tr>\n  </tbody>\n</table>\n</div>"
     },
     "execution_count": 177,
     "metadata": {},
     "output_type": "execute_result"
    }
   ],
   "source": [
    "# Open score matrix file\n",
    "text = read_file('./blosum62.dat')\n",
    "# Read into df\n",
    "score = score_matrix_to_df(text)"
   ],
   "metadata": {
    "collapsed": false,
    "pycharm": {
     "name": "#%%\n"
    }
   }
  },
  {
   "cell_type": "code",
   "execution_count": 158,
   "outputs": [],
   "source": [
    "def create_alignment_matrix(seqA:str, seqB:str,w, score) -> (np.ndarray,np.ndarray):\n",
    "\t\"\"\"Create a Neeedleman-Wunsch alignment matrix\"\"\"\n",
    "\t#Initialize: M(0; 0) = 0\n",
    "\tmatrix = np.zeros((len(seqA),len(seqB)),dtype=int)\n",
    "\ttraceback = np.zeros((len(seqA),len(seqB)),dtype=tuple)\n",
    "\t# first row M(0; j) = jw for j = 1 ... m,\n",
    "\tfor i in range(len(seqA)-1):\n",
    "\t\tmatrix[i,0] = i*w\n",
    "\t# first column M(i; 0) = iw for i = 1 ... n\n",
    "\tfor j in range(len(seqB)-1):\n",
    "\t\tmatrix[0,j] = j*w\n",
    "\t\tpass\n",
    "\t# Fill Rest of the matrix\n",
    "\tfor i in range(len(seqA)-1):\n",
    "\t\tfor j in range(len(seqB)-1):\n",
    "\t\t\toptions = {\n",
    "\t\t\t\tmatrix[i-1,j-1] + int(score.loc[seqA[i], seqB[j]]) : (i-1,j-1),\n",
    "\t\t\t\tmatrix[i-1,j] + w : (i-1,j),\n",
    "\t\t\t\tmatrix[i,j-1] : (i,j-1)\n",
    "\t\t\t}\n",
    "\t\t\tbest_option = max(options.keys())\n",
    "\t\t\tmatrix[i,j] = best_option\n",
    "\t\t\ttraceback[i,j] = options.get(best_option)\n",
    "\treturn matrix, traceback\n"
   ],
   "metadata": {
    "collapsed": false,
    "pycharm": {
     "name": "#%%\n"
    }
   }
  },
  {
   "cell_type": "code",
   "execution_count": 159,
   "outputs": [],
   "source": [
    "def traceback(i,j,traceback_matrix, seqA,seqB,alignement):\n",
    "\t\"\"\"Check traceback\"\"\"\n",
    "\tif traceback_matrix[i,j] == (i-1,j-1):\n",
    "\t\talignement.append((seqA[j],seqB[i]))\n",
    "\t\ttraceback(i-1,j-1,traceback_matrix, seqA,seqB,alignement)\n",
    "\telif traceback_matrix[i,j] == (i-1,j):\n",
    "\t\talignement.append((seqA[j],'-'))\n",
    "\t\ttraceback(i-1,j,traceback_matrix, seqA,seqB,alignement)\n",
    "\telif traceback_matrix[i,j] ==(i,j-1):\n",
    "\t\talignement.append(('-',seqB[i]))\n",
    "\t\ttraceback(i,j-1,traceback_matrix, seqA,seqB,alignement)\n",
    "\treturn alignement\n"
   ],
   "metadata": {
    "collapsed": false,
    "pycharm": {
     "name": "#%%\n"
    }
   }
  },
  {
   "cell_type": "code",
   "execution_count": 180,
   "outputs": [],
   "source": [
    "def print_alignment(alignement:list):\n",
    "\t\"\"\"Print sequence alignment\"\"\"\n",
    "\tx,y=zip(*alignement)\n",
    "\tprint(\"\".join(x))\n",
    "\tprint(\"\".join(['|' if x == y else ' ' for x,y in zip(x,y) ]))\n",
    "\tprint(\"\".join(y))"
   ],
   "metadata": {
    "collapsed": false,
    "pycharm": {
     "name": "#%%\n"
    }
   }
  },
  {
   "cell_type": "code",
   "execution_count": 230,
   "outputs": [],
   "source": [
    "def total_score(alignement:list, score_matrix:pd.DataFrame) -> int:\n",
    "\tx,y=zip(*alignement)\n",
    "\tscores = [ int(score_matrix.loc[x,y]) for x,y in zip(x,y) if (x != '-') and (y!= '-') ]\n",
    "\treturn sum(scores)"
   ],
   "metadata": {
    "collapsed": false,
    "pycharm": {
     "name": "#%%\n"
    }
   }
  },
  {
   "cell_type": "code",
   "execution_count": 231,
   "outputs": [],
   "source": [
    "def Needleman_Wunsch(seqA:str, seqB:str, score_matrix:pd.DataFrame, w:int) -> int:\n",
    "\t\"\"\"Runs Neeedleman-Wunsch Algorithm\"\"\"\n",
    "\t# Construction of alignment matrix\n",
    "\tmatrix, traceback_matrix = create_alignment_matrix(seqB,seqA, w,score_matrix)\n",
    "\n",
    "\t# Construct alignment via traceback matrix\n",
    "\tn = len(traceback_matrix)\n",
    "\tm = len(traceback_matrix[0])\n",
    "\talignement = []\n",
    "\talignement = traceback(n-2,m-2,traceback_matrix, seqA,seqB,alignement)\n",
    "\n",
    "\t#print_alignment(alignement)\n",
    "\treturn total_score(alignement, score_matrix)"
   ],
   "metadata": {
    "collapsed": false,
    "pycharm": {
     "name": "#%%\n"
    }
   }
  },
  {
   "cell_type": "code",
   "execution_count": 232,
   "outputs": [
    {
     "data": {
      "text/plain": "27"
     },
     "execution_count": 232,
     "metadata": {},
     "output_type": "execute_result"
    }
   ],
   "source": [
    "# Try Needleman_Wunsch algorithm\n",
    "Needleman_Wunsch(seqA=seqA, seqB=seqB, score_matrix=score, w=-3)\n",
    "\n"
   ],
   "metadata": {
    "collapsed": false,
    "pycharm": {
     "name": "#%%\n"
    }
   }
  },
  {
   "cell_type": "markdown",
   "source": [
    "#### (b) _(2 pts)_ Formatted output.\n",
    "Modifiy the output of the alignment so that sequence 1 appears in\n",
    "the first line and sequence 2 in the third line while the second line contains symbols reflecting\n",
    "the similarity between aligned symbols:\n",
    " - for identical residues,\n",
    " - : for conservative substitutions (positive score in scoring matrix)\n",
    " - and spaces otherwise.\n"
   ],
   "metadata": {
    "collapsed": false,
    "pycharm": {
     "name": "#%% md\n"
    }
   }
  },
  {
   "cell_type": "code",
   "execution_count": 243,
   "outputs": [],
   "source": [
    "def print_alignment(alignement:list,score_matrix:pd.DataFrame):\n",
    "\t\"\"\"Print sequence alignment\"\"\"\n",
    "\tX,Y=zip(*alignement)\n",
    "\tscore_symbol = []\n",
    "\tfor x,y in zip(X,Y):\n",
    "\t\tif x == y:\n",
    "\t\t\tscore_symbol.append('|')\n",
    "\t\telif (x=='-') or (y=='-'):\n",
    "\t\t\tscore_symbol.append(\" \")\n",
    "\t\telif int(score_matrix.loc[x,y]) > 0:\n",
    "\t\t\tscore_symbol.append(':')\n",
    "\t\telse:\n",
    "\t\t\tscore_symbol.append(\" \")\n",
    "\n",
    "\tprint(\"\".join(X))\n",
    "\tprint(\"\".join(score_symbol))\n",
    "\tprint(\"\".join(Y))"
   ],
   "metadata": {
    "collapsed": false,
    "pycharm": {
     "name": "#%%\n"
    }
   }
  },
  {
   "cell_type": "code",
   "execution_count": 244,
   "outputs": [],
   "source": [
    "def Needleman_Wunsch(seqA:str, seqB:str, score_matrix:pd.DataFrame, w:int) -> int:\n",
    "\t\"\"\"Runs Neeedleman-Wunsch Algorithm\"\"\"\n",
    "\t# Construction of alignment matrix\n",
    "\tmatrix, traceback_matrix = create_alignment_matrix(seqB,seqA, w,score_matrix)\n",
    "\n",
    "\t# Construct alignment via traceback matrix\n",
    "\tn = len(traceback_matrix)\n",
    "\tm = len(traceback_matrix[0])\n",
    "\talignement = []\n",
    "\talignement = traceback(n-2,m-2,traceback_matrix, seqA,seqB,alignement)\n",
    "\n",
    "\tprint_alignment(alignement,score_matrix)\n",
    "\treturn total_score(alignement, score_matrix)\n"
   ],
   "metadata": {
    "collapsed": false,
    "pycharm": {
     "name": "#%%\n"
    }
   }
  },
  {
   "cell_type": "code",
   "execution_count": 245,
   "outputs": [
    {
     "name": "stdout",
     "output_type": "stream",
     "text": [
      "----NAAMMREELLPPQWW-A-R\n",
      "    : |  | : |  | : | |\n",
      "HHHHH-A-YR-K-LDNQ-YAARR\n"
     ]
    }
   ],
   "source": [
    "# Try Needleman_Wunsch algorithm\n",
    "s = Needleman_Wunsch(seqA=seqA, seqB=seqB, score_matrix=score, w=-3)\n"
   ],
   "metadata": {
    "collapsed": false,
    "pycharm": {
     "name": "#%%\n"
    }
   }
  },
  {
   "cell_type": "markdown",
   "source": [
    "# TODO\n",
    "Break the output into multiple lines of about 80 characters so that alignment of long sequences\n",
    "is displayed properly."
   ],
   "metadata": {
    "collapsed": false,
    "pycharm": {
     "name": "#%% md\n"
    }
   }
  },
  {
   "cell_type": "markdown",
   "source": [
    "#### (c) _(2 pts)_ Testing.\n",
    "Perform all pairwise sequence alignments between sequences\n",
    "```RNAS1_horse.fasta```, ```RNAS1_minke-whale.fasta```, and ```RNAS1_red-kangaroo.fasta``` using ```blosum50.dat```\n",
    "and a gap penalty of -8. What can you conclude about the pairwise relationships?"
   ],
   "metadata": {
    "collapsed": false,
    "pycharm": {
     "name": "#%% md\n"
    }
   }
  },
  {
   "cell_type": "markdown",
   "source": [
    "#### (d) _(2 pt)_ Smith-Waterman.\n",
    "Implement the Smith-Waterman algorithm by modifying the code from\n",
    "```needle.py```. In addition to the alignment score you should output the sequence similarity and the\n",
    "sequence identity of the two aligned sequences in percent. Sequence identity is the percentage\n",
    "of matching residues relative to the length of the aligned sequences including gaps, sequence\n",
    "similarity is the percentage of matched similar residues (i.e., those with a positive value in the\n",
    "scoring matrix) relative to the length of the aligned sequences including gaps."
   ],
   "metadata": {
    "collapsed": false
   }
  },
  {
   "cell_type": "markdown",
   "source": [
    "#### (e) _(2 pt)_ Testing.\n",
    "Run a global and a local sequence alignment on the sequences ```halodurans.fasta```\n",
    "and ```lentus.fasta``` using ```blosum62.txt``` and a gap penalty of -8. Which is more appropriate?"
   ],
   "metadata": {
    "collapsed": false
   }
  },
  {
   "cell_type": "code",
   "execution_count": null,
   "outputs": [],
   "source": [],
   "metadata": {
    "collapsed": false,
    "pycharm": {
     "name": "#%%\n"
    }
   }
  }
 ],
 "metadata": {
  "kernelspec": {
   "display_name": "Python 3",
   "language": "python",
   "name": "python3"
  },
  "language_info": {
   "codemirror_mode": {
    "name": "ipython",
    "version": 3
   },
   "file_extension": ".py",
   "mimetype": "text/x-python",
   "name": "python",
   "nbconvert_exporter": "python",
   "pygments_lexer": "ipython3",
   "version": "3.8.8"
  }
 },
 "nbformat": 4,
 "nbformat_minor": 1
}