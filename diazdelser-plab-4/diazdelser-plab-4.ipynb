{
 "cells": [
  {
   "cell_type": "markdown",
   "metadata": {
    "collapsed": true,
    "pycharm": {
     "name": "#%% md\n"
    }
   },
   "source": [
    "# Handout 04\n",
    "#### Sara Díaz del Ser"
   ]
  },
  {
   "cell_type": "code",
   "execution_count": 1,
   "metadata": {
    "pycharm": {
     "name": "#%%\n"
    }
   },
   "outputs": [],
   "source": [
    "import numpy as np\n",
    "from collections import Counter\n",
    "from itertools import combinations\n",
    "import pandas as pd\n",
    "from termcolor import colored\n",
    "import tabulate"
   ]
  },
  {
   "cell_type": "markdown",
   "metadata": {},
   "source": [
    "### Ex. 1 _(0 pts)_  Manually determining scoring matrices\n",
    "To test your understanding, consider this small example of a \u0010blocks alignment database\u0011 consisting of\n",
    "5 sequences of length 12 each. From these to numbers one can determinate the denominators in eqs.\n",
    "(2) and (3). What is $∑_{i} f_{i}$ and $∑_{{i,j}} f_{ij}$ ?\n",
    "```\n",
    "TSVKTYAKFVTH\n",
    "TSVKTYAKFSTH\n",
    "TSVKTYAKFVTH\n",
    "LSVKKYPKYVVQ\n",
    "SSVKKYPKYSVL\n",
    "```\n",
    "Count the frequencies $f_{a}$ for all amino acids in the alignment and $f_{ab}$ for all amino acid pairs occurring\n",
    "in the same column of the alignment. (For the pairs, do not consider the order of the amino acids: do\n",
    "not distinguish between VS and SV, for example). From these values, calculate the relative frequencies\n",
    "$p_{a}$ for each occurring amino acid and $p_{ab}$ for each occurring amino acid pair. Finally, calculate the\n",
    "expected probability and the score for each amino acid pair. Fill your results into the given tables."
   ]
  },
  {
   "cell_type": "code",
   "execution_count": 2,
   "metadata": {
    "pycharm": {
     "name": "#%%\n"
    }
   },
   "outputs": [],
   "source": [
    "# sequences\n",
    "seq1 = 'TSVKTYAKFVTH'\n",
    "seq2 = 'TSVKTYAKFSTH'\n",
    "seq3 = 'TSVKTYAKFVTH'\n",
    "seq4 = 'LSVKKYPKYVVQ'\n",
    "seq5 = 'SSVKKYPKYSVL'"
   ]
  },
  {
   "cell_type": "code",
   "execution_count": 3,
   "metadata": {
    "pycharm": {
     "name": "#%%\n"
    }
   },
   "outputs": [],
   "source": [
    "# fa\n",
    "def fa(seq:str) -> dict:\n",
    "\t\"\"\"Return frequency of all amino acids\"\"\"\n",
    "\t# Start count at 1\n",
    "\tcounter = Counter(seq)\n",
    "\tadd_1 = {key :1 for key in list(counter.keys()) }\n",
    "\treturn counter + Counter(add_1)"
   ]
  },
  {
   "cell_type": "code",
   "execution_count": 4,
   "metadata": {
    "pycharm": {
     "name": "#%%\n"
    }
   },
   "outputs": [],
   "source": [
    "# fab\n",
    "def pair_freq(seqA,seqB):\n",
    "\t\"\"\"Add pair frequencies from two sequences into dictionary\"\"\"\n",
    "\tall_pairs = []\n",
    "\t# seq1 should be the smaller one\n",
    "\tseq1 = min([seqA,seqB],key = len)\n",
    "\tseq2 = max([seqA,seqB], key = len)\n",
    "\tfor i in range(len(seq1)):\n",
    "\t\t# Append pair (ordered) to list:\n",
    "\t\tkey = sorted([seq1[i],seq2[i]])\n",
    "\t\tall_pairs.append(\"\".join(key))\n",
    "\treturn all_pairs\n",
    "\n",
    "def all_pair_freq(seq_list:list) -> dict:\n",
    "\t\"\"\"Get pair frequencies from list of sequences\"\"\"\n",
    "\tall_pairs = []\n",
    "\tfor seq1,seq2 in combinations(seq_list,2):\n",
    "\t\tall_pairs.extend(pair_freq(seq1,seq2))\n",
    "\n",
    "\tcounter = Counter(all_pairs)\n",
    "\tadd_1 = {key :1 for key in list(counter.keys()) }\n",
    "\treturn counter\n"
   ]
  },
  {
   "cell_type": "code",
   "execution_count": 5,
   "metadata": {
    "pycharm": {
     "name": "#%%\n"
    }
   },
   "outputs": [],
   "source": [
    "# pa (relative frequency for aa)\n",
    "def rel_freq(freq:dict) -> dict:\n",
    "\t\"\"\"Determine relative frequency for each aminoacid\"\"\"\n",
    "\treturn { key : (val/sum(freq.values())) for key, val in freq.items() }"
   ]
  },
  {
   "cell_type": "code",
   "execution_count": 6,
   "metadata": {
    "pycharm": {
     "name": "#%%\n"
    }
   },
   "outputs": [],
   "source": [
    "def expected_prob(freq:dict) -> dict:\n",
    "\t\"\"\"Determine the expected probability of each aminoacid\"\"\"\n",
    "\texpected = {}\n",
    "\t# Get all possible pairs\n",
    "\tpossible_pairs = [\"\".join(sorted([aa1,aa2])) for aa1,aa2 in combinations(freq.keys(),2) ]\n",
    "\t# add pairs of the same aa\n",
    "\tpossible_pairs.extend([aa+aa for aa in freq.keys() ])\n",
    "\tfor pair in possible_pairs:\n",
    "\t\t# eaa = pa * pa\n",
    "\t\tif pair[0]==pair[1]:\n",
    "\t\t\tprob = freq_rel.get(pair[0],1)*freq_rel.get(pair[0],1)\n",
    "\t\t# eab = pa * pb + pb * pa = 2 * pa * pb\n",
    "\t\telse:\n",
    "\t\t\tprob = 2*freq_rel.get(pair[0],1)*freq_rel.get(pair[1],1)\n",
    "\t\texpected.update({pair: prob})\n",
    "\treturn expected"
   ]
  },
  {
   "cell_type": "code",
   "execution_count": 7,
   "metadata": {
    "pycharm": {
     "name": "#%%\n"
    }
   },
   "outputs": [],
   "source": [
    "def pair_score(p_freq_rel, p_expect) -> dict:\n",
    "\t\"\"\"Calculate the score for each aminoacid pair\"\"\"\n",
    "\tscores = {}\n",
    "\tfor pair in p_freq_rel.keys():\n",
    "\t\t# sab = 2 * log2(pab/eab)\n",
    "\t\tscore = 2*np.log2(p_freq_rel.get(pair,0)/p_expect.get(pair,0))\n",
    "\t\tscores.update({pair : round(score,0)})\n",
    "\treturn scores"
   ]
  },
  {
   "cell_type": "code",
   "execution_count": 8,
   "metadata": {
    "pycharm": {
     "name": "#%%\n"
    }
   },
   "outputs": [],
   "source": [
    "freq = fa(seq1+seq2+seq3+seq4+seq5)"
   ]
  },
  {
   "cell_type": "code",
   "execution_count": 9,
   "metadata": {
    "pycharm": {
     "name": "#%%\n"
    }
   },
   "outputs": [],
   "source": [
    "p_freq = all_pair_freq([seq1, seq2,seq3,seq4,seq5])"
   ]
  },
  {
   "cell_type": "code",
   "execution_count": 10,
   "metadata": {
    "pycharm": {
     "name": "#%%\n"
    }
   },
   "outputs": [],
   "source": [
    "freq_rel = rel_freq(freq)"
   ]
  },
  {
   "cell_type": "code",
   "execution_count": 11,
   "metadata": {
    "pycharm": {
     "name": "#%%\n"
    }
   },
   "outputs": [],
   "source": [
    "p_freq_rel = rel_freq(p_freq)"
   ]
  },
  {
   "cell_type": "code",
   "execution_count": 12,
   "metadata": {
    "pycharm": {
     "name": "#%%\n"
    }
   },
   "outputs": [],
   "source": [
    "p_exp = expected_prob(freq)"
   ]
  },
  {
   "cell_type": "code",
   "execution_count": 13,
   "metadata": {
    "pycharm": {
     "name": "#%%\n"
    }
   },
   "outputs": [],
   "source": [
    "p_score = pair_score(p_freq_rel, p_exp)"
   ]
  },
  {
   "cell_type": "code",
   "execution_count": 14,
   "metadata": {
    "pycharm": {
     "name": "#%%\n"
    }
   },
   "outputs": [
    {
     "data": {
      "text/plain": "             T     S      V      K     Y     A     F     H     L     P     Q\n$F_{a}$  10.00  9.00  11.00  13.00  8.00  4.00  4.00  4.00  3.00  3.00  2.00\n$P_{a}$   0.14  0.13   0.15   0.18  0.11  0.06  0.06  0.06  0.04  0.04  0.03",
      "text/html": "<div>\n<style scoped>\n    .dataframe tbody tr th:only-of-type {\n        vertical-align: middle;\n    }\n\n    .dataframe tbody tr th {\n        vertical-align: top;\n    }\n\n    .dataframe thead th {\n        text-align: right;\n    }\n</style>\n<table border=\"1\" class=\"dataframe\">\n  <thead>\n    <tr style=\"text-align: right;\">\n      <th></th>\n      <th>T</th>\n      <th>S</th>\n      <th>V</th>\n      <th>K</th>\n      <th>Y</th>\n      <th>A</th>\n      <th>F</th>\n      <th>H</th>\n      <th>L</th>\n      <th>P</th>\n      <th>Q</th>\n    </tr>\n  </thead>\n  <tbody>\n    <tr>\n      <th>$F_{a}$</th>\n      <td>10.00</td>\n      <td>9.00</td>\n      <td>11.00</td>\n      <td>13.00</td>\n      <td>8.00</td>\n      <td>4.00</td>\n      <td>4.00</td>\n      <td>4.00</td>\n      <td>3.00</td>\n      <td>3.00</td>\n      <td>2.00</td>\n    </tr>\n    <tr>\n      <th>$P_{a}$</th>\n      <td>0.14</td>\n      <td>0.13</td>\n      <td>0.15</td>\n      <td>0.18</td>\n      <td>0.11</td>\n      <td>0.06</td>\n      <td>0.06</td>\n      <td>0.06</td>\n      <td>0.04</td>\n      <td>0.04</td>\n      <td>0.03</td>\n    </tr>\n  </tbody>\n</table>\n</div>"
     },
     "execution_count": 14,
     "metadata": {},
     "output_type": "execute_result"
    }
   ],
   "source": [
    "# Fill the tables\n",
    "single_df = pd.DataFrame([freq, freq_rel], ['$F_{a}$','$P_{a}$']).round(decimals =2)\n",
    "single_df"
   ]
  },
  {
   "cell_type": "code",
   "execution_count": 15,
   "metadata": {
    "pycharm": {
     "name": "#%%\n"
    }
   },
   "outputs": [
    {
     "data": {
      "text/plain": "             TT     SS     VV     KK     YY    AA    FF    HH    LL    PP  \\\n$F_{ab}$  27.00  13.00  18.00  21.00  11.00  9.00  9.00  9.00  1.00  1.00   \n$P_{ab}$   0.22   0.11   0.15   0.18   0.09  0.08  0.08  0.08  0.01  0.01   \n$E_{ab}$   0.02   0.02   0.02   0.03   0.01  0.00  0.00  0.00  0.00  0.00   \n$S_{ab}$   7.00   6.00   5.00   5.00   6.00  9.00  9.00  9.00  4.00  4.00   \n\n          ...    FH   FL   FP   FQ   HL   HP   HQ   LP   LQ   PQ  \n$F_{ab}$  ...   NaN  NaN  NaN  NaN  NaN  NaN  NaN  NaN  NaN  NaN  \n$P_{ab}$  ...   NaN  NaN  NaN  NaN  NaN  NaN  NaN  NaN  NaN  NaN  \n$E_{ab}$  ...  0.01  0.0  0.0  0.0  0.0  0.0  0.0  0.0  0.0  0.0  \n$S_{ab}$  ...   NaN  NaN  NaN  NaN  NaN  NaN  NaN  NaN  NaN  NaN  \n\n[4 rows x 66 columns]",
      "text/html": "<div>\n<style scoped>\n    .dataframe tbody tr th:only-of-type {\n        vertical-align: middle;\n    }\n\n    .dataframe tbody tr th {\n        vertical-align: top;\n    }\n\n    .dataframe thead th {\n        text-align: right;\n    }\n</style>\n<table border=\"1\" class=\"dataframe\">\n  <thead>\n    <tr style=\"text-align: right;\">\n      <th></th>\n      <th>TT</th>\n      <th>SS</th>\n      <th>VV</th>\n      <th>KK</th>\n      <th>YY</th>\n      <th>AA</th>\n      <th>FF</th>\n      <th>HH</th>\n      <th>LL</th>\n      <th>PP</th>\n      <th>...</th>\n      <th>FH</th>\n      <th>FL</th>\n      <th>FP</th>\n      <th>FQ</th>\n      <th>HL</th>\n      <th>HP</th>\n      <th>HQ</th>\n      <th>LP</th>\n      <th>LQ</th>\n      <th>PQ</th>\n    </tr>\n  </thead>\n  <tbody>\n    <tr>\n      <th>$F_{ab}$</th>\n      <td>27.00</td>\n      <td>13.00</td>\n      <td>18.00</td>\n      <td>21.00</td>\n      <td>11.00</td>\n      <td>9.00</td>\n      <td>9.00</td>\n      <td>9.00</td>\n      <td>1.00</td>\n      <td>1.00</td>\n      <td>...</td>\n      <td>NaN</td>\n      <td>NaN</td>\n      <td>NaN</td>\n      <td>NaN</td>\n      <td>NaN</td>\n      <td>NaN</td>\n      <td>NaN</td>\n      <td>NaN</td>\n      <td>NaN</td>\n      <td>NaN</td>\n    </tr>\n    <tr>\n      <th>$P_{ab}$</th>\n      <td>0.22</td>\n      <td>0.11</td>\n      <td>0.15</td>\n      <td>0.18</td>\n      <td>0.09</td>\n      <td>0.08</td>\n      <td>0.08</td>\n      <td>0.08</td>\n      <td>0.01</td>\n      <td>0.01</td>\n      <td>...</td>\n      <td>NaN</td>\n      <td>NaN</td>\n      <td>NaN</td>\n      <td>NaN</td>\n      <td>NaN</td>\n      <td>NaN</td>\n      <td>NaN</td>\n      <td>NaN</td>\n      <td>NaN</td>\n      <td>NaN</td>\n    </tr>\n    <tr>\n      <th>$E_{ab}$</th>\n      <td>0.02</td>\n      <td>0.02</td>\n      <td>0.02</td>\n      <td>0.03</td>\n      <td>0.01</td>\n      <td>0.00</td>\n      <td>0.00</td>\n      <td>0.00</td>\n      <td>0.00</td>\n      <td>0.00</td>\n      <td>...</td>\n      <td>0.01</td>\n      <td>0.0</td>\n      <td>0.0</td>\n      <td>0.0</td>\n      <td>0.0</td>\n      <td>0.0</td>\n      <td>0.0</td>\n      <td>0.0</td>\n      <td>0.0</td>\n      <td>0.0</td>\n    </tr>\n    <tr>\n      <th>$S_{ab}$</th>\n      <td>7.00</td>\n      <td>6.00</td>\n      <td>5.00</td>\n      <td>5.00</td>\n      <td>6.00</td>\n      <td>9.00</td>\n      <td>9.00</td>\n      <td>9.00</td>\n      <td>4.00</td>\n      <td>4.00</td>\n      <td>...</td>\n      <td>NaN</td>\n      <td>NaN</td>\n      <td>NaN</td>\n      <td>NaN</td>\n      <td>NaN</td>\n      <td>NaN</td>\n      <td>NaN</td>\n      <td>NaN</td>\n      <td>NaN</td>\n      <td>NaN</td>\n    </tr>\n  </tbody>\n</table>\n<p>4 rows × 66 columns</p>\n</div>"
     },
     "execution_count": 15,
     "metadata": {},
     "output_type": "execute_result"
    }
   ],
   "source": [
    "pair_df = pd.DataFrame([p_freq, p_freq_rel,p_exp,p_score], ['$F_{ab}$','$P_{ab}$', '$E_{ab}$','$S_{ab}$']).round(decimals =2)\n",
    "pair_df"
   ]
  },
  {
   "cell_type": "markdown",
   "metadata": {
    "pycharm": {
     "name": "#%% md\n"
    }
   },
   "source": [
    "### Ex.2 _(7 pts)_ Calculating scoring matrices\n",
    "\n",
    "Write a program that computes a scoring matrix score from a given block alignment database. You\n",
    "should be able to call your problem like ```python blosum.py alignment.dat blosum_matrix.out``` from\n",
    "the command line. The input file alignment.dat (found in the course folder) contains a small alignment\n",
    "\"database\". It contains a number of aligned sequences of equal length with no gaps with one sequence\n",
    "per line.Your program should compute the substitution matrix from this alignment. The output file\n",
    "```blosum_matrix.out``` should contain an output of the matrix like in the example of the BLOSUM matrix\n",
    "given above. (The original BLOSUM62 matrix is provided as blosum62.txt in the group folder. Are\n",
    "the scores of the matrix you have calculated for ```alignment.dat``` similar?)"
   ]
  },
  {
   "cell_type": "markdown",
   "metadata": {
    "pycharm": {
     "name": "#%% md\n"
    }
   },
   "source": [
    "Your program will need to.\n",
    "(a) read in the alignment data in an appropriate data structure\n",
    "(b) determine the log-odds scores for each possible alignment of amino acids,\n",
    "(c) produce a (nicely formatted) output of the resulting scoring matrix.\n"
   ]
  },
  {
   "cell_type": "code",
   "execution_count": 16,
   "metadata": {
    "pycharm": {
     "name": "#%%\n"
    }
   },
   "outputs": [],
   "source": [
    "# (a) read in the alignment data in an appropriate data structure\n",
    "def read_file(file:str) -> list:\n",
    "\t\"\"\"Read file into list of lines\"\"\"\n",
    "\twith open (file, 'r') as f:\n",
    "\t\treturn f.readlines()\n",
    "\n",
    "file = './alignment.dat'\n",
    "seqs = read_file(file)"
   ]
  },
  {
   "cell_type": "code",
   "execution_count": 17,
   "metadata": {
    "pycharm": {
     "name": "#%%\n"
    }
   },
   "outputs": [],
   "source": [
    "def pre_processing(seqs:list) -> list:\n",
    "\t\"\"\"Pre-process alignment data:\n",
    "\t- Add padding at the end of shorter strings to make sure they're the same size\n",
    "\t- Remove newlines\n",
    "\t\"\"\"\n",
    "\tmax_length = max([len(each) for each in seqs ])\n",
    "\tseqs = [ seq.ljust(max_length).replace('\\n','') for seq in seqs ]\n",
    "\treturn seqs\n",
    "\n",
    "seqs = pre_processing(seqs)"
   ]
  },
  {
   "cell_type": "code",
   "execution_count": 18,
   "metadata": {
    "pycharm": {
     "name": "#%%\n"
    }
   },
   "outputs": [],
   "source": [
    "# (b) determine the log-odds scores for each possible alignment of amino acids\n",
    "def calc_score(seqs:list) -> dict:\n",
    "\t\"\"\"Determine score from list of pre-processed aligned sequences\"\"\"\n",
    "\tfreq = fa(\"\".join(seqs))\n",
    "\tp_freq = all_pair_freq(seqs)\n",
    "\n",
    "\tfreq_rel = rel_freq(freq)\n",
    "\tp_freq_rel = rel_freq(p_freq)\n",
    "\n",
    "\tp_exp = expected_prob(freq)\n",
    "\tp_score = pair_score(p_freq_rel, p_exp)\n",
    "\n",
    "\treturn p_score\n",
    "\n",
    "score = calc_score(seqs)"
   ]
  },
  {
   "cell_type": "code",
   "execution_count": 19,
   "metadata": {
    "pycharm": {
     "name": "#%%\n"
    }
   },
   "outputs": [],
   "source": [
    "# (c) produce a (nicely formatted) output of the resulting scoring matrix.\n",
    "def aminoacids(score:dict) -> dict:\n",
    "\t\"\"\"Asigns an index to each aminoacid\"\"\"\n",
    "\tlist_aa = []\n",
    "\t[list_aa.extend([key[0],key[1]]) for key in score.keys()]\n",
    "\tlist_aa = set(list_aa)\n",
    "\treturn { key: i for i,key in enumerate(list_aa)}"
   ]
  },
  {
   "cell_type": "code",
   "execution_count": 20,
   "metadata": {
    "pycharm": {
     "name": "#%%\n"
    }
   },
   "outputs": [],
   "source": [
    "def calc_score_matrix(score:dict) -> np.ndarray:\n",
    "\t\"\"\"Generate a score matrix from a score dictionary\"\"\"\n",
    "\t# Create matrix of 0 of size (20,20)\n",
    "\tmatrix = np.zeros((20,20),dtype=int)\n",
    "\n",
    "\t# Get index for each aa in matrix\n",
    "\taa_index = aminoacids(score)\n",
    "\n",
    "\t# Iterate through score dictionary and input values into matrix\n",
    "\tfor key, val in score.items():\n",
    "\t\tmatrix[aa_index[key[0]],aa_index[key[1]]] = val\n",
    "\n",
    "\treturn matrix\n",
    "\n",
    "score_matrix = calc_score_matrix(score)"
   ]
  },
  {
   "cell_type": "code",
   "execution_count": 21,
   "metadata": {
    "pycharm": {
     "name": "#%%\n"
    }
   },
   "outputs": [],
   "source": [
    "def score_table(score_matrix:np.ndarray,score, file) -> pd.DataFrame:\n",
    "\t\"\"\"Turn a numpy score matrix into a dataframe\"\"\"\n",
    "\taa_index = aminoacids(score)\n",
    "\tcolumns = list(aa_index.keys())\n",
    "\n",
    "\tdf = pd.DataFrame(score_matrix, columns=columns)\n",
    "\tdf = df.rename(dict(enumerate(columns)))\n",
    "\n",
    "\twith open(file, 'w') as f:\n",
    "\t\tprint(df.to_string(), file=f)\n",
    "\t\tprint(colored(f'Score matrix saved to \"{file}\"'), 'green')\n",
    "\treturn df"
   ]
  },
  {
   "cell_type": "code",
   "execution_count": 22,
   "metadata": {
    "pycharm": {
     "name": "#%%\n"
    }
   },
   "outputs": [
    {
     "name": "stdout",
     "output_type": "stream",
     "text": [
      "Score matrix saved to \"score_matrix_test.txt\"\u001B[0m green\n"
     ]
    },
    {
     "data": {
      "text/plain": "    R   Q   D   L   H   M   G   E   T  A   P   S   W   Y   V   F   C   K   N  \\\nR  -9   0   0   0   0   0   0   0 -16  0   0 -17 -25 -18 -17   0   0   0   0   \nQ -13  10   0   0   0   0   0   0 -11  0   0  -7   0 -10   0   0   0   0   0   \nD -25   0  -8 -13 -16   0 -24 -17 -17  0 -16 -17 -29 -18 -18 -15   0 -17 -21   \nL -12  -4   0  10   0 -14   0   0  -9  0  -5  -9   0   0  -3   0   0   0 -19   \nH -14  -2   0  -6   5 -16   0   0  -9  0 -11  -9   0  -7 -12   0   0 -15 -18   \nM -27   0   0   0   0 -12   0   0 -21  0 -19 -19 -29   0 -17   0   0   0   0   \nG -21   0   0 -14 -17 -29  -9   0 -16  0 -14 -13 -23 -22 -17   0   0 -18 -25   \nE -23 -11   0 -13 -16 -23 -22  -7 -17  0 -11 -17 -23 -18 -15 -18   0 -14 -21   \nT   0   0   0   0   0   0   0   0   3  0   0   0 -23 -13 -11   0   0   0   0   \nA -13  -5 -13  -3  -5 -17 -15 -12  -7  8  -4  -4 -18 -14  -6  -9 -17  -8 -18   \nP -15  -5   0   0   0   0   0   0  -7  0  10  -3 -17  -9  -9   0   0   0   0   \nS   0   0   0   0   0   0   0   0  -8  0   0   4 -21 -12 -11   0   0   0   0   \nW   0   0   0   0   0   0   0   0   0  0   0   0 -11   0   0   0   0   0   0   \nY   0   0   0   0   0   0   0   0   0  0   0   0   0   2   0   0   0   0   0   \nV   0   0   0   0   0   0   0   0   0  0   0   0 -18 -14   2   0   0   0   0   \nF -20  -5   0  -2  -9 -17 -16   0  -9  0  -9 -11 -14  -5 -10   8   0   0   0   \nC -21 -12 -25 -13   0 -23 -24 -23 -19  0 -15 -21 -29 -17 -19 -14 -12 -24   0   \nK -13  -5   0 -13   0 -24   0   0 -11  0 -11 -10 -22 -15 -11   0   0   1 -20   \nN -24 -14   0   0   0   0   0   0 -16  0 -15 -16 -29 -20 -19   0   0   0 -11   \nI -23 -12   0 -11   0 -29   0   0 -15  0 -14 -16 -27 -17 -14   0   0 -19 -24   \n\n    I  \nR   0  \nQ   0  \nD -23  \nL   0  \nH -15  \nM   0  \nG -27  \nE -23  \nT   0  \nA -14  \nP   0  \nS   0  \nW   0  \nY   0  \nV   0  \nF -14  \nC -27  \nK   0  \nN   0  \nI -10  ",
      "text/html": "<div>\n<style scoped>\n    .dataframe tbody tr th:only-of-type {\n        vertical-align: middle;\n    }\n\n    .dataframe tbody tr th {\n        vertical-align: top;\n    }\n\n    .dataframe thead th {\n        text-align: right;\n    }\n</style>\n<table border=\"1\" class=\"dataframe\">\n  <thead>\n    <tr style=\"text-align: right;\">\n      <th></th>\n      <th>R</th>\n      <th>Q</th>\n      <th>D</th>\n      <th>L</th>\n      <th>H</th>\n      <th>M</th>\n      <th>G</th>\n      <th>E</th>\n      <th>T</th>\n      <th>A</th>\n      <th>P</th>\n      <th>S</th>\n      <th>W</th>\n      <th>Y</th>\n      <th>V</th>\n      <th>F</th>\n      <th>C</th>\n      <th>K</th>\n      <th>N</th>\n      <th>I</th>\n    </tr>\n  </thead>\n  <tbody>\n    <tr>\n      <th>R</th>\n      <td>-9</td>\n      <td>0</td>\n      <td>0</td>\n      <td>0</td>\n      <td>0</td>\n      <td>0</td>\n      <td>0</td>\n      <td>0</td>\n      <td>-16</td>\n      <td>0</td>\n      <td>0</td>\n      <td>-17</td>\n      <td>-25</td>\n      <td>-18</td>\n      <td>-17</td>\n      <td>0</td>\n      <td>0</td>\n      <td>0</td>\n      <td>0</td>\n      <td>0</td>\n    </tr>\n    <tr>\n      <th>Q</th>\n      <td>-13</td>\n      <td>10</td>\n      <td>0</td>\n      <td>0</td>\n      <td>0</td>\n      <td>0</td>\n      <td>0</td>\n      <td>0</td>\n      <td>-11</td>\n      <td>0</td>\n      <td>0</td>\n      <td>-7</td>\n      <td>0</td>\n      <td>-10</td>\n      <td>0</td>\n      <td>0</td>\n      <td>0</td>\n      <td>0</td>\n      <td>0</td>\n      <td>0</td>\n    </tr>\n    <tr>\n      <th>D</th>\n      <td>-25</td>\n      <td>0</td>\n      <td>-8</td>\n      <td>-13</td>\n      <td>-16</td>\n      <td>0</td>\n      <td>-24</td>\n      <td>-17</td>\n      <td>-17</td>\n      <td>0</td>\n      <td>-16</td>\n      <td>-17</td>\n      <td>-29</td>\n      <td>-18</td>\n      <td>-18</td>\n      <td>-15</td>\n      <td>0</td>\n      <td>-17</td>\n      <td>-21</td>\n      <td>-23</td>\n    </tr>\n    <tr>\n      <th>L</th>\n      <td>-12</td>\n      <td>-4</td>\n      <td>0</td>\n      <td>10</td>\n      <td>0</td>\n      <td>-14</td>\n      <td>0</td>\n      <td>0</td>\n      <td>-9</td>\n      <td>0</td>\n      <td>-5</td>\n      <td>-9</td>\n      <td>0</td>\n      <td>0</td>\n      <td>-3</td>\n      <td>0</td>\n      <td>0</td>\n      <td>0</td>\n      <td>-19</td>\n      <td>0</td>\n    </tr>\n    <tr>\n      <th>H</th>\n      <td>-14</td>\n      <td>-2</td>\n      <td>0</td>\n      <td>-6</td>\n      <td>5</td>\n      <td>-16</td>\n      <td>0</td>\n      <td>0</td>\n      <td>-9</td>\n      <td>0</td>\n      <td>-11</td>\n      <td>-9</td>\n      <td>0</td>\n      <td>-7</td>\n      <td>-12</td>\n      <td>0</td>\n      <td>0</td>\n      <td>-15</td>\n      <td>-18</td>\n      <td>-15</td>\n    </tr>\n    <tr>\n      <th>M</th>\n      <td>-27</td>\n      <td>0</td>\n      <td>0</td>\n      <td>0</td>\n      <td>0</td>\n      <td>-12</td>\n      <td>0</td>\n      <td>0</td>\n      <td>-21</td>\n      <td>0</td>\n      <td>-19</td>\n      <td>-19</td>\n      <td>-29</td>\n      <td>0</td>\n      <td>-17</td>\n      <td>0</td>\n      <td>0</td>\n      <td>0</td>\n      <td>0</td>\n      <td>0</td>\n    </tr>\n    <tr>\n      <th>G</th>\n      <td>-21</td>\n      <td>0</td>\n      <td>0</td>\n      <td>-14</td>\n      <td>-17</td>\n      <td>-29</td>\n      <td>-9</td>\n      <td>0</td>\n      <td>-16</td>\n      <td>0</td>\n      <td>-14</td>\n      <td>-13</td>\n      <td>-23</td>\n      <td>-22</td>\n      <td>-17</td>\n      <td>0</td>\n      <td>0</td>\n      <td>-18</td>\n      <td>-25</td>\n      <td>-27</td>\n    </tr>\n    <tr>\n      <th>E</th>\n      <td>-23</td>\n      <td>-11</td>\n      <td>0</td>\n      <td>-13</td>\n      <td>-16</td>\n      <td>-23</td>\n      <td>-22</td>\n      <td>-7</td>\n      <td>-17</td>\n      <td>0</td>\n      <td>-11</td>\n      <td>-17</td>\n      <td>-23</td>\n      <td>-18</td>\n      <td>-15</td>\n      <td>-18</td>\n      <td>0</td>\n      <td>-14</td>\n      <td>-21</td>\n      <td>-23</td>\n    </tr>\n    <tr>\n      <th>T</th>\n      <td>0</td>\n      <td>0</td>\n      <td>0</td>\n      <td>0</td>\n      <td>0</td>\n      <td>0</td>\n      <td>0</td>\n      <td>0</td>\n      <td>3</td>\n      <td>0</td>\n      <td>0</td>\n      <td>0</td>\n      <td>-23</td>\n      <td>-13</td>\n      <td>-11</td>\n      <td>0</td>\n      <td>0</td>\n      <td>0</td>\n      <td>0</td>\n      <td>0</td>\n    </tr>\n    <tr>\n      <th>A</th>\n      <td>-13</td>\n      <td>-5</td>\n      <td>-13</td>\n      <td>-3</td>\n      <td>-5</td>\n      <td>-17</td>\n      <td>-15</td>\n      <td>-12</td>\n      <td>-7</td>\n      <td>8</td>\n      <td>-4</td>\n      <td>-4</td>\n      <td>-18</td>\n      <td>-14</td>\n      <td>-6</td>\n      <td>-9</td>\n      <td>-17</td>\n      <td>-8</td>\n      <td>-18</td>\n      <td>-14</td>\n    </tr>\n    <tr>\n      <th>P</th>\n      <td>-15</td>\n      <td>-5</td>\n      <td>0</td>\n      <td>0</td>\n      <td>0</td>\n      <td>0</td>\n      <td>0</td>\n      <td>0</td>\n      <td>-7</td>\n      <td>0</td>\n      <td>10</td>\n      <td>-3</td>\n      <td>-17</td>\n      <td>-9</td>\n      <td>-9</td>\n      <td>0</td>\n      <td>0</td>\n      <td>0</td>\n      <td>0</td>\n      <td>0</td>\n    </tr>\n    <tr>\n      <th>S</th>\n      <td>0</td>\n      <td>0</td>\n      <td>0</td>\n      <td>0</td>\n      <td>0</td>\n      <td>0</td>\n      <td>0</td>\n      <td>0</td>\n      <td>-8</td>\n      <td>0</td>\n      <td>0</td>\n      <td>4</td>\n      <td>-21</td>\n      <td>-12</td>\n      <td>-11</td>\n      <td>0</td>\n      <td>0</td>\n      <td>0</td>\n      <td>0</td>\n      <td>0</td>\n    </tr>\n    <tr>\n      <th>W</th>\n      <td>0</td>\n      <td>0</td>\n      <td>0</td>\n      <td>0</td>\n      <td>0</td>\n      <td>0</td>\n      <td>0</td>\n      <td>0</td>\n      <td>0</td>\n      <td>0</td>\n      <td>0</td>\n      <td>0</td>\n      <td>-11</td>\n      <td>0</td>\n      <td>0</td>\n      <td>0</td>\n      <td>0</td>\n      <td>0</td>\n      <td>0</td>\n      <td>0</td>\n    </tr>\n    <tr>\n      <th>Y</th>\n      <td>0</td>\n      <td>0</td>\n      <td>0</td>\n      <td>0</td>\n      <td>0</td>\n      <td>0</td>\n      <td>0</td>\n      <td>0</td>\n      <td>0</td>\n      <td>0</td>\n      <td>0</td>\n      <td>0</td>\n      <td>0</td>\n      <td>2</td>\n      <td>0</td>\n      <td>0</td>\n      <td>0</td>\n      <td>0</td>\n      <td>0</td>\n      <td>0</td>\n    </tr>\n    <tr>\n      <th>V</th>\n      <td>0</td>\n      <td>0</td>\n      <td>0</td>\n      <td>0</td>\n      <td>0</td>\n      <td>0</td>\n      <td>0</td>\n      <td>0</td>\n      <td>0</td>\n      <td>0</td>\n      <td>0</td>\n      <td>0</td>\n      <td>-18</td>\n      <td>-14</td>\n      <td>2</td>\n      <td>0</td>\n      <td>0</td>\n      <td>0</td>\n      <td>0</td>\n      <td>0</td>\n    </tr>\n    <tr>\n      <th>F</th>\n      <td>-20</td>\n      <td>-5</td>\n      <td>0</td>\n      <td>-2</td>\n      <td>-9</td>\n      <td>-17</td>\n      <td>-16</td>\n      <td>0</td>\n      <td>-9</td>\n      <td>0</td>\n      <td>-9</td>\n      <td>-11</td>\n      <td>-14</td>\n      <td>-5</td>\n      <td>-10</td>\n      <td>8</td>\n      <td>0</td>\n      <td>0</td>\n      <td>0</td>\n      <td>-14</td>\n    </tr>\n    <tr>\n      <th>C</th>\n      <td>-21</td>\n      <td>-12</td>\n      <td>-25</td>\n      <td>-13</td>\n      <td>0</td>\n      <td>-23</td>\n      <td>-24</td>\n      <td>-23</td>\n      <td>-19</td>\n      <td>0</td>\n      <td>-15</td>\n      <td>-21</td>\n      <td>-29</td>\n      <td>-17</td>\n      <td>-19</td>\n      <td>-14</td>\n      <td>-12</td>\n      <td>-24</td>\n      <td>0</td>\n      <td>-27</td>\n    </tr>\n    <tr>\n      <th>K</th>\n      <td>-13</td>\n      <td>-5</td>\n      <td>0</td>\n      <td>-13</td>\n      <td>0</td>\n      <td>-24</td>\n      <td>0</td>\n      <td>0</td>\n      <td>-11</td>\n      <td>0</td>\n      <td>-11</td>\n      <td>-10</td>\n      <td>-22</td>\n      <td>-15</td>\n      <td>-11</td>\n      <td>0</td>\n      <td>0</td>\n      <td>1</td>\n      <td>-20</td>\n      <td>0</td>\n    </tr>\n    <tr>\n      <th>N</th>\n      <td>-24</td>\n      <td>-14</td>\n      <td>0</td>\n      <td>0</td>\n      <td>0</td>\n      <td>0</td>\n      <td>0</td>\n      <td>0</td>\n      <td>-16</td>\n      <td>0</td>\n      <td>-15</td>\n      <td>-16</td>\n      <td>-29</td>\n      <td>-20</td>\n      <td>-19</td>\n      <td>0</td>\n      <td>0</td>\n      <td>0</td>\n      <td>-11</td>\n      <td>0</td>\n    </tr>\n    <tr>\n      <th>I</th>\n      <td>-23</td>\n      <td>-12</td>\n      <td>0</td>\n      <td>-11</td>\n      <td>0</td>\n      <td>-29</td>\n      <td>0</td>\n      <td>0</td>\n      <td>-15</td>\n      <td>0</td>\n      <td>-14</td>\n      <td>-16</td>\n      <td>-27</td>\n      <td>-17</td>\n      <td>-14</td>\n      <td>0</td>\n      <td>0</td>\n      <td>-19</td>\n      <td>-24</td>\n      <td>-10</td>\n    </tr>\n  </tbody>\n</table>\n</div>"
     },
     "execution_count": 22,
     "metadata": {},
     "output_type": "execute_result"
    }
   ],
   "source": [
    "score_table(score_matrix, score, 'score_matrix_test.txt')"
   ]
  },
  {
   "cell_type": "markdown",
   "metadata": {
    "pycharm": {
     "name": "#%% md\n"
    }
   },
   "source": [
    "#### Run functions as script"
   ]
  },
  {
   "cell_type": "code",
   "execution_count": 23,
   "metadata": {
    "pycharm": {
     "name": "#%%\n"
    }
   },
   "outputs": [
    {
     "name": "stdout",
     "output_type": "stream",
     "text": [
      "Score matrix saved to \"score_matrix.txt\"\u001B[0m green\n"
     ]
    }
   ],
   "source": [
    "%run diazdelser-scoring.py 'alignment.dat' 'score_matrix.txt'"
   ]
  },
  {
   "cell_type": "markdown",
   "metadata": {
    "pycharm": {
     "name": "#%% md\n"
    }
   },
   "source": [
    "### Ex.3 _(13 pts)_ Global/local alignment"
   ]
  },
  {
   "cell_type": "markdown",
   "metadata": {
    "pycharm": {
     "name": "#%% md\n"
    }
   },
   "source": [
    "#### (a) _(5 pts)_ Implement the Needleman-Wunsch algorithm:\n",
    "Write a program called needle.py that takes 4 parameters\n",
    "and should be called like ```python needle.py -8 blosum.txt sequence1.fasta sequence2.fasta```, where -8 is the gap\n",
    "penalty w, ```blosum.txt``` is a text file containing the scoring matrix and ```sequence1.fasta``` and\n",
    "```sequence2.fasta``` are two amino acid sequences in Fasta format.\n",
    "\n",
    "The program should output the score of the alignment and the aligned sequences, i.e. the sequences\n",
    "plus the gaps (represented by the symbol -).\n",
    "\n",
    "• Note that you will need to write a function that is able to read in a scoring matrix from a\n",
    "text file and store it in a suitable data structure.\n",
    "\n",
    "• Test your program using the scoring matrix blosum62.dat and a gap penalty of -5 on the\n",
    "sequences:\n",
    "THRQATWQPPLERMANGRQVE and RAYMQNDLVKVRYYACHT"
   ]
  },
  {
   "cell_type": "code",
   "execution_count": 24,
   "outputs": [],
   "source": [
    "seqA = 'THRQATWQPPLERMANGRQVE'\n",
    "seqB = 'RAYMQNDLVKVRYYACHT'"
   ],
   "metadata": {
    "collapsed": false,
    "pycharm": {
     "name": "#%%\n"
    }
   }
  },
  {
   "cell_type": "code",
   "execution_count": 25,
   "outputs": [],
   "source": [
    "def score_matrix_to_df(lines:list) -> (str, list):\n",
    "\t\"\"\"Read list of lines into dataframe\"\"\"\n",
    "\tlines = [line.strip() for line in lines]\n",
    "\t# Turn lines into list of scores\n",
    "\tlines =[ [ letter for letter in line.split() if letter !=' '] for line in lines ]\n",
    "\t# Separate header from rest of the strings\n",
    "\theader = lines[0]\n",
    "\t# Remove first item from lists (it's the aa)\n",
    "\tlines = [line[1:] for line in lines[1:]]\n",
    "\t# Generate pandas dataframe, remove emtpy rows\n",
    "\tdf = pd.DataFrame(lines, columns=header).dropna(how='all')\n",
    "\t# Add aa symbols as row headers\n",
    "\tdf = df.rename(dict(enumerate(header)))\n",
    "\treturn df"
   ],
   "metadata": {
    "collapsed": false,
    "pycharm": {
     "name": "#%%\n"
    }
   }
  },
  {
   "cell_type": "markdown",
   "source": [
    "Note: I read the ```hints for Handout 04``` too late and I was already using a dataframe.\n",
    "In the future, will implement it with a dictionary"
   ],
   "metadata": {
    "collapsed": false,
    "pycharm": {
     "name": "#%% md\n"
    }
   }
  },
  {
   "cell_type": "code",
   "execution_count": 26,
   "outputs": [],
   "source": [
    "# Open score matrix file\n",
    "text = read_file('./blosum62.dat')\n",
    "# Read into df\n",
    "score = score_matrix_to_df(text)"
   ],
   "metadata": {
    "collapsed": false,
    "pycharm": {
     "name": "#%%\n"
    }
   }
  },
  {
   "cell_type": "code",
   "execution_count": 27,
   "outputs": [],
   "source": [
    "def create_alignment_matrix(seqA:str, seqB:str,w, score) -> (np.ndarray,np.ndarray):\n",
    "\t\"\"\"Create a Neeedleman-Wunsch alignment matrix\"\"\"\n",
    "\t#Initialize: M(0; 0) = 0\n",
    "\tmatrix = np.zeros((len(seqA),len(seqB)),dtype=int)\n",
    "\ttraceback = np.zeros((len(seqA),len(seqB)),dtype=tuple)\n",
    "\t# first row M(0; j) = jw for j = 1 ... m,\n",
    "\tfor i in range(len(seqA)-1):\n",
    "\t\tmatrix[i,0] = i*w\n",
    "\t# first column M(i; 0) = iw for i = 1 ... n\n",
    "\tfor j in range(len(seqB)-1):\n",
    "\t\tmatrix[0,j] = j*w\n",
    "\t\tpass\n",
    "\t# Fill Rest of the matrix\n",
    "\tfor i in range(len(seqA)-1):\n",
    "\t\tfor j in range(len(seqB)-1):\n",
    "\t\t\toptions = {\n",
    "\t\t\t\tmatrix[i-1,j-1] + int(score.loc[seqA[i], seqB[j]]) : (i-1,j-1),\n",
    "\t\t\t\tmatrix[i-1,j] + w : (i-1,j),\n",
    "\t\t\t\tmatrix[i,j-1] : (i,j-1),\n",
    "\t\t\t}\n",
    "\t\t\tbest_option = max(options.keys())\n",
    "\t\t\tmatrix[i,j] = best_option\n",
    "\t\t\ttraceback[i,j] = options.get(best_option)\n",
    "\treturn matrix, traceback\n"
   ],
   "metadata": {
    "collapsed": false,
    "pycharm": {
     "name": "#%%\n"
    }
   }
  },
  {
   "cell_type": "code",
   "execution_count": 28,
   "outputs": [],
   "source": [
    "def traceback(i,j,traceback_matrix, seqA,seqB,alignement):\n",
    "\t\"\"\"Check traceback\"\"\"\n",
    "\tif traceback_matrix[i,j] == (i-1,j-1):\n",
    "\t\talignement.append((seqA[j],seqB[i]))\n",
    "\t\ttraceback(i-1,j-1,traceback_matrix, seqA,seqB,alignement)\n",
    "\telif traceback_matrix[i,j] == (i-1,j):\n",
    "\t\talignement.append((seqA[j],'-'))\n",
    "\t\ttraceback(i-1,j,traceback_matrix, seqA,seqB,alignement)\n",
    "\telif traceback_matrix[i,j] ==(i,j-1):\n",
    "\t\talignement.append(('-',seqB[i]))\n",
    "\t\ttraceback(i,j-1,traceback_matrix, seqA,seqB,alignement)\n",
    "\treturn alignement\n"
   ],
   "metadata": {
    "collapsed": false,
    "pycharm": {
     "name": "#%%\n"
    }
   }
  },
  {
   "cell_type": "code",
   "execution_count": 29,
   "outputs": [],
   "source": [
    "def print_alignment(alignement:list):\n",
    "\t\"\"\"Print sequence alignment\"\"\"\n",
    "\tx,y=zip(*alignement)\n",
    "\tprint(\"\".join(x))\n",
    "\tprint(\"\".join(['|' if x == y else ' ' for x,y in zip(x,y) ]))\n",
    "\tprint(\"\".join(y))"
   ],
   "metadata": {
    "collapsed": false,
    "pycharm": {
     "name": "#%%\n"
    }
   }
  },
  {
   "cell_type": "code",
   "execution_count": 30,
   "outputs": [],
   "source": [
    "def total_score(alignement:list, score_matrix:pd.DataFrame) -> int or str:\n",
    "\t\"\"\"Calculate the total alignment score of a given alignment\"\"\"\n",
    "\tif alignement:\n",
    "\t\tx,y=zip(*alignement)\n",
    "\t\tscores = [ int(score_matrix.loc[x,y]) for x,y in zip(x,y) if (x != '-') and (y!= '-') ]\n",
    "\t\treturn sum(scores)\n",
    "\telse:\n",
    "\t\treturn 'N/A'"
   ],
   "metadata": {
    "collapsed": false,
    "pycharm": {
     "name": "#%%\n"
    }
   }
  },
  {
   "cell_type": "code",
   "execution_count": 31,
   "outputs": [],
   "source": [
    "def Needleman_Wunsch(seqA:str, seqB:str, score_matrix:pd.DataFrame, w:int) -> int:\n",
    "\t\"\"\"Runs Neeedleman-Wunsch Algorithm\"\"\"\n",
    "\t# Construction of alignment matrix\n",
    "\tmatrix, traceback_matrix = create_alignment_matrix(seqB,seqA, w,score_matrix)\n",
    "\n",
    "\t# Construct alignment via traceback matrix\n",
    "\tn = len(traceback_matrix)\n",
    "\tm = len(traceback_matrix[0])\n",
    "\talignement = []\n",
    "\talignement = traceback(n-2,m-2,traceback_matrix, seqA,seqB,alignement)\n",
    "\n",
    "\tprint_alignment(alignement)\n",
    "\treturn total_score(alignement, score_matrix)"
   ],
   "metadata": {
    "collapsed": false,
    "pycharm": {
     "name": "#%%\n"
    }
   }
  },
  {
   "cell_type": "code",
   "execution_count": 32,
   "outputs": [
    {
     "name": "stdout",
     "output_type": "stream",
     "text": [
      "----NAAMMREELLPPQWW-A-R\n",
      "      |  |   |  |   | |\n",
      "HHHHH-A-YR-K-LDNQ-YAARR\n",
      "Score:  27\n"
     ]
    }
   ],
   "source": [
    "# Try Needleman_Wunsch algorithm\n",
    "s= Needleman_Wunsch(seqA=seqA, seqB=seqB, score_matrix=score, w=-3)\n",
    "print('Score: ',s)"
   ],
   "metadata": {
    "collapsed": false,
    "pycharm": {
     "name": "#%%\n"
    }
   }
  },
  {
   "cell_type": "markdown",
   "source": [
    "#### (b) _(2 pts)_ Formatted output.\n",
    "Modifiy the output of the alignment so that sequence 1 appears in\n",
    "the first line and sequence 2 in the third line while the second line contains symbols reflecting\n",
    "the similarity between aligned symbols:\n",
    " - for identical residues,\n",
    " - : for conservative substitutions (positive score in scoring matrix)\n",
    " - and spaces otherwise."
   ],
   "metadata": {
    "collapsed": false,
    "pycharm": {
     "name": "#%% md\n"
    }
   }
  },
  {
   "cell_type": "code",
   "execution_count": 33,
   "outputs": [],
   "source": [
    "def grouper(n, iterable):\n",
    "\tif iterable:\n",
    "\t\tif n < len(iterable):\n",
    "\t\t\targs = [iter(iterable)] * n\n",
    "\t\t\treturn zip(*args)\n",
    "\t\telse:\n",
    "\t\t\treturn [iterable]"
   ],
   "metadata": {
    "collapsed": false,
    "pycharm": {
     "name": "#%%\n"
    }
   }
  },
  {
   "cell_type": "code",
   "execution_count": 34,
   "outputs": [],
   "source": [
    "def print_alignment(alignement:list,score_matrix:pd.DataFrame,n:int=80):\n",
    "\t\"\"\"Print sequence alignment\"\"\"\n",
    "\t# Print out a max of 80 characters per line\n",
    "\tzipper = grouper(n,iterable=alignement)\n",
    "\tif zipper:\n",
    "\t\tfor alignement_bit in zipper:\n",
    "\t\t\tX,Y=zip(*alignement_bit)\n",
    "\t\t\tscore_symbol = []\n",
    "\t\t\tfor x,y in zip(X,Y):\n",
    "\t\t\t\tif x == y:\n",
    "\t\t\t\t\tscore_symbol.append('|')\n",
    "\t\t\t\telif (x=='-') or (y=='-'):\n",
    "\t\t\t\t\tscore_symbol.append(\" \")\n",
    "\t\t\t\telif int(score_matrix.loc[x,y]) > 0:\n",
    "\t\t\t\t\tscore_symbol.append(':')\n",
    "\t\t\t\telse:\n",
    "\t\t\t\t\tscore_symbol.append(\" \")\n",
    "\n",
    "\t\t\tprint(\"\".join(X))\n",
    "\t\t\tprint(\"\".join(score_symbol))\n",
    "\t\t\tprint(\"\".join(Y))\n",
    "\telse:\n",
    "\t\tprint(\"No alignment\")"
   ],
   "metadata": {
    "collapsed": false,
    "pycharm": {
     "name": "#%%\n"
    }
   }
  },
  {
   "cell_type": "code",
   "execution_count": 35,
   "outputs": [],
   "source": [
    "def Needleman_Wunsch(seqA:str, seqB:str, score_matrix:pd.DataFrame, w:int) -> int:\n",
    "\t\"\"\"Runs Neeedleman-Wunsch Algorithm\"\"\"\n",
    "\t# Construction of alignment matrix\n",
    "\tmatrix, traceback_matrix = create_alignment_matrix(seqB,seqA, w,score_matrix)\n",
    "\n",
    "\t# Construct alignment via traceback matrix\n",
    "\tn = len(traceback_matrix)\n",
    "\tm = len(traceback_matrix[0])\n",
    "\talignement = []\n",
    "\talignement = traceback(n-2,m-2,traceback_matrix, seqA,seqB,alignement)\n",
    "\tprint_alignment(alignement,score_matrix)\n",
    "\treturn total_score(alignement, score_matrix)\n"
   ],
   "metadata": {
    "collapsed": false,
    "pycharm": {
     "name": "#%%\n"
    }
   }
  },
  {
   "cell_type": "code",
   "execution_count": 36,
   "outputs": [
    {
     "name": "stdout",
     "output_type": "stream",
     "text": [
      "----NAAMMREELLPPQWW-A-R\n",
      "    : |  | : |  | : | |\n",
      "HHHHH-A-YR-K-LDNQ-YAARR\n",
      "Score:  27\n"
     ]
    }
   ],
   "source": [
    "# Try Needleman_Wunsch algorithm\n",
    "s = Needleman_Wunsch(seqA=seqA, seqB=seqB, score_matrix=score, w=-3)\n",
    "print('Score: ',s)"
   ],
   "metadata": {
    "collapsed": false,
    "pycharm": {
     "name": "#%%\n"
    }
   }
  },
  {
   "cell_type": "markdown",
   "source": [
    "#### (c) _(2 pts)_ Testing.\n",
    "Perform all pairwise sequence alignments between sequences\n",
    "```RNAS1_horse.fasta```, ```RNAS1_minke-whale.fasta```, and ```RNAS1_red-kangaroo.fasta``` using ```blosum50.dat```\n",
    "and a gap penalty of -8. What can you conclude about the pairwise relationships?"
   ],
   "metadata": {
    "collapsed": false,
    "pycharm": {
     "name": "#%% md\n"
    }
   }
  },
  {
   "cell_type": "code",
   "execution_count": 37,
   "outputs": [
    {
     "name": "stdout",
     "output_type": "stream",
     "text": [
      "\u001B[32mAlignment for: RNAS1_horse.fasta & RNAS1_red-kangaroo.fasta\n",
      "\u001B[0m\n",
      "---V-ADFHVPVY-NGECAVIIHREKQSTQYACNPYKSGG-TLRCDTIHMSSSSQYCNSQGNKCTINKQLCIAQVDALPE\n",
      "     ||||||||  |||||||::   ||:| |||||| | | ||:|| : |:|:|||::|||||:|:| |:| | : ||\n",
      "YYYYAADFHVPVYQQGECAVIIQKNLNSTEYQCNPYKS-GTTQRCNTISLRSNSKYCNTRGNKCTVNEQHCVADVVSKPE\n",
      "\u001B[32m\n",
      "Total score: 596\u001B[0m\n"
     ]
    }
   ],
   "source": [
    "%run diazdelser-needle.py 'RNAS1_horse.fasta' 'RNAS1_horse.fasta' 'RNAS1_red-kangaroo.fasta' 'blosum50.txt' 8\n"
   ],
   "metadata": {
    "collapsed": false,
    "pycharm": {
     "name": "#%%\n"
    }
   }
  },
  {
   "cell_type": "markdown",
   "source": [
    "#### (d) _(2 pt)_ Smith-Waterman.\n",
    "Implement the Smith-Waterman algorithm by modifying the code from\n",
    "```needle.py```. In addition to the alignment score you should output the sequence similarity and the\n",
    "sequence identity of the two aligned sequences in percent. Sequence identity is the percentage\n",
    "of matching residues relative to the length of the aligned sequences including gaps, sequence\n",
    "similarity is the percentage of matched similar residues (i.e., those with a positive value in the\n",
    "scoring matrix) relative to the length of the aligned sequences including gaps."
   ],
   "metadata": {
    "collapsed": false
   }
  },
  {
   "cell_type": "code",
   "execution_count": 38,
   "outputs": [],
   "source": [
    "def create_alignment_matrix(seqA:str, seqB:str,w, score) -> (np.ndarray,np.ndarray):\n",
    "\t\"\"\"Create a Smith-Waterman alignment matrix\"\"\"\n",
    "\t#Initialize: M(0; 0) = 0\n",
    "\tmatrix = np.zeros((len(seqA),len(seqB)),dtype=int)\n",
    "\ttraceback = np.zeros((len(seqA),len(seqB)),dtype=tuple)\n",
    "\t# first row M(0; j) = jw for j = 1 ... m,\n",
    "\tfor i in range(len(seqA)-1):\n",
    "\t\tmatrix[i,0] = i*w\n",
    "\t# first column M(i; 0) = iw for i = 1 ... n\n",
    "\tfor j in range(len(seqB)-1):\n",
    "\t\tmatrix[0,j] = j*w\n",
    "\t\tpass\n",
    "\t# Fill Rest of the matrix\n",
    "\tfor i in range(len(seqA)-1):\n",
    "\t\tfor j in range(len(seqB)-1):\n",
    "\t\t\toptions = {\n",
    "\t\t\t\tmatrix[i-1,j-1] + int(score.loc[seqA[i], seqB[j]]) : (i-1,j-1),\n",
    "\t\t\t\tmatrix[i-1,j] + w : (i-1,j),\n",
    "\t\t\t\tmatrix[i,j-1] : (i,j-1),\n",
    "\t\t\t\t0: 0\n",
    "\t\t\t}\n",
    "\t\t\tbest_option = max(options.keys())\n",
    "\t\t\tmatrix[i,j] = best_option\n",
    "\t\t\ttraceback[i,j] = options.get(best_option)\n",
    "\treturn matrix, traceback\n"
   ],
   "metadata": {
    "collapsed": false,
    "pycharm": {
     "name": "#%%\n"
    }
   }
  },
  {
   "cell_type": "code",
   "execution_count": 39,
   "outputs": [],
   "source": [
    "def traceback(i,j,traceback_matrix, seqA,seqB,alignement):\n",
    "\t\"\"\"Check traceback\"\"\"\n",
    "\tif traceback_matrix[i,j] == (i-1,j-1):\n",
    "\t\talignement.append((seqA[j],seqB[i]))\n",
    "\t\ttraceback(i-1,j-1,traceback_matrix, seqA,seqB,alignement)\n",
    "\telif traceback_matrix[i,j] == (i-1,j):\n",
    "\t\talignement.append((seqA[j],'-'))\n",
    "\t\ttraceback(i-1,j,traceback_matrix, seqA,seqB,alignement)\n",
    "\telif traceback_matrix[i,j] ==(i,j-1):\n",
    "\t\talignement.append(('-',seqB[i]))\n",
    "\t\ttraceback(i,j-1,traceback_matrix, seqA,seqB,alignement)\n",
    "\telif traceback_matrix[i,j] ==0:\n",
    "\t\treturn alignement"
   ],
   "metadata": {
    "collapsed": false,
    "pycharm": {
     "name": "#%%\n"
    }
   }
  },
  {
   "cell_type": "code",
   "execution_count": 40,
   "outputs": [],
   "source": [
    "def Smith_Waterman(seqA:str, seqB:str, score_matrix:pd.DataFrame, w:int) -> int:\n",
    "\t\"\"\"Runs Neeedleman-Wunsch Algorithm\"\"\"\n",
    "\t# Construction of alignment matrix\n",
    "\tmatrix, traceback_matrix = create_alignment_matrix(seqB,seqA, w,score_matrix)\n",
    "\n",
    "\t# Construct alignment via traceback matrix\n",
    "\tind = np.unravel_index(np.argmax(score_matrix, axis=None), score_matrix.shape)  # returns a tuple\n",
    "\tn,m = ind\n",
    "\talignement = []\n",
    "\talignement = traceback(n,m,traceback_matrix, seqA,seqB,alignement)\n",
    "\tprint_alignment(alignement,score_matrix)\n",
    "\treturn total_score(alignement, score_matrix)"
   ],
   "metadata": {
    "collapsed": false,
    "pycharm": {
     "name": "#%%\n"
    }
   }
  },
  {
   "cell_type": "code",
   "source": [
    "# Try Smith_Waterman algorithm\n",
    "s = Smith_Waterman(seqA=seqA, seqB=seqB, score_matrix=score, w=-3)"
   ],
   "metadata": {
    "collapsed": false,
    "pycharm": {
     "name": "#%%\n"
    }
   },
   "execution_count": 41,
   "outputs": [
    {
     "name": "stdout",
     "output_type": "stream",
     "text": [
      "No alignment\n"
     ]
    }
   ]
  },
  {
   "cell_type": "markdown",
   "source": [
    "#### (e) _(2 pt)_ Testing.\n",
    "Run a global and a local sequence alignment on the sequences ```halodurans.fasta```\n",
    "and ```lentus.fasta``` using ```blosum62.txt``` and a gap penalty of -8. Which is more appropriate?"
   ],
   "metadata": {
    "collapsed": false
   }
  },
  {
   "cell_type": "code",
   "execution_count": 42,
   "outputs": [
    {
     "name": "stdout",
     "output_type": "stream",
     "text": [
      "\u001B[32mAlignment for: halodurans.fasta & lentus.fasta\n",
      "\u001B[0m\n",
      "No alignment\n",
      "\u001B[32m\n",
      "Total score: N/A\u001B[0m\n"
     ]
    }
   ],
   "source": [
    "%run diazdelser-waterman.py 'halodurans.fasta' 'lentus.fasta' 'blosum62.txt' 8"
   ],
   "metadata": {
    "collapsed": false,
    "pycharm": {
     "name": "#%%\n"
    }
   }
  },
  {
   "cell_type": "code",
   "execution_count": 43,
   "outputs": [
    {
     "name": "stdout",
     "output_type": "stream",
     "text": [
      "\u001B[32mAlignment for: halodurans.fasta & lentus.fasta\n",
      "\u001B[0m\n",
      "TARGAHVLGNGYLSPSGLYTATQNIRQRIQNNTYSPYRSKVLAAVGAVHPTAMSTGSLSVYRNGTYTSNVNVGPASIEIE\n",
      "||  |:|||:|||: ||| |||  :  ||| |::|| : ||||| |||||||||||:|| | :| ||| |||||| |:: \n",
      "TAAEANVLGSGYLNTSGLSTATNKLHNRIQVNSWSPNKQKVLAAAGAVHPTAMSTGNLSAYTSGPYTSQVNVGPAVIDLG\n",
      "PGYTSFSARQGNQDVAAVAMVGSYRAPYNVGG-RGTNGAAGVLLIGANNARNVALELTSSGSTSGLSMNIIHMNNNIAWE\n",
      " || |||||  ||| | |||  :|||||:: |  |:||:| |:|:| : | ||| |||:| | ||||:| :|| || |||\n",
      "AGYQSFSARNNNQDTAGVAMANAYRAPYSI-GAAGSNGSAAVVLVGRSTASNVAQELTASPSPSGLSLNAVHMGNNGAWE\n",
      "IGQAVSALSGSGNRDLVKVAYLDASPAVGLVGISNNLAAITGAVHTGHGNNDHYSPESSIFSAGGAIRLDPHSAIGTDLV\n",
      ":|||:|::||||:  |||||||:||||||||||||||||||||||||||| |  |||  :||||| | ||||::||||||\n",
      "LGQAISSVSGSGSAGLVKVAYLEASPAVGLVGISNNLAAITGAVHTGHGNGDQTSPEGPVFSAGGRINLDPHTSIGTDLV\n",
      "AVRAGNGFIGRNH--------------------A----A---P-------------A------------------EV-Q-\n",
      "||: |:| :||||                    |    |   |             |                  :| : \n",
      "AVKVGSGTLGRNHAAAAAAAAAAAAAAAAAAAAAAAAAAPPPPAAAAAAAAAAAAAAQQQQQQQQQQQQQQQQQQQVRRS\n",
      "\u001B[32m\n",
      "Total score: 931\u001B[0m\n"
     ]
    }
   ],
   "source": [
    "%run diazdelser-needle.py 'halodurans.fasta' 'lentus.fasta' 'blosum62.txt' 8\n",
    "\n",
    "\n"
   ],
   "metadata": {
    "collapsed": false,
    "pycharm": {
     "name": "#%%\n"
    }
   }
  },
  {
   "cell_type": "markdown",
   "source": [
    "Clearly, something is wrong with my Smith_Waterman algorithm. I think it might have something to do\n",
    "with the scoring of the mismatches, but I'm not sure how to fix it."
   ],
   "metadata": {
    "collapsed": false,
    "pycharm": {
     "name": "#%% md\n"
    }
   }
  },
  {
   "cell_type": "code",
   "execution_count": 43,
   "outputs": [],
   "source": [],
   "metadata": {
    "collapsed": false,
    "pycharm": {
     "name": "#%%\n"
    }
   }
  }
 ],
 "metadata": {
  "kernelspec": {
   "name": "python3",
   "language": "python",
   "display_name": "Python 3 (ipykernel)"
  },
  "language_info": {
   "codemirror_mode": {
    "name": "ipython",
    "version": 3
   },
   "file_extension": ".py",
   "mimetype": "text/x-python",
   "name": "python",
   "nbconvert_exporter": "python",
   "pygments_lexer": "ipython3",
   "version": "3.8.8"
  }
 },
 "nbformat": 4,
 "nbformat_minor": 1
}