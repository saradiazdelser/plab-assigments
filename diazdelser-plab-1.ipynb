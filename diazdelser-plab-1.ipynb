{
 "cells": [
  {
   "cell_type": "markdown",
   "metadata": {
    "collapsed": true,
    "pycharm": {
     "name": "#%% md\n"
    }
   },
   "source": [
    "# Handout 01\n",
    "#### Sara Díaz del Ser  \n",
    "#### _(in collaboration with Paula Romero)_"
   ]
  },
  {
   "cell_type": "code",
   "execution_count": 1,
   "metadata": {
    "pycharm": {
     "name": "#%%\n"
    }
   },
   "outputs": [],
   "source": [
    "from math import factorial, sqrt, pi, e\n",
    "from tqdm.notebook import tqdm\n",
    "import random\n",
    "from collections import defaultdict, Counter\n",
    "import timeit\n",
    "import numpy as np"
   ]
  },
  {
   "cell_type": "markdown",
   "metadata": {
    "pycharm": {
     "name": "#%% md\n"
    }
   },
   "source": [
    "### Ex. 1 _(5 pts)_ Approximations to π"
   ]
  },
  {
   "cell_type": "markdown",
   "metadata": {
    "pycharm": {
     "name": "#%% md\n"
    }
   },
   "source": [
    "#### (a) _(2 pts)_ **Srinivasa Ramanujan calculates π**\n",
    "\n",
    "The mathematician Srinivasa Ramanujan found an infinite series that can be used to\n",
    "generate a numerical approximation of $\\pi$.\n",
    "\n",
    "Write a function called estimate_pi that uses this formula to compute and return an\n",
    "estimate of π. It should use a while loop to compute terms of the summation until the\n",
    "last term is smaller than 1e-15 (which is Python notation for $10^{−15}$). (‘Term’ refers\n",
    "to the expression after the summation sign, not the summation itself.) You can check\n",
    "the result by comparing it to math.pi. The error should be less than $10^{−15}$."
   ]
  },
  {
   "cell_type": "code",
   "execution_count": 2,
   "metadata": {
    "pycharm": {
     "name": "#%%\n"
    }
   },
   "outputs": [],
   "source": [
    "def estimate_pi():\n",
    "    \"\"\"Estimate pi using Srinivasa Ramanujan's infinite series\"\"\"\n",
    "    sum = 0\n",
    "    k = 0\n",
    "    while (k < 1e-15):\n",
    "        sum += (factorial(4 * k) * (1103 + 26390 * k)) / ((factorial(k) ** 4) * (396 ** (4 * k)))\n",
    "        k += 1\n",
    "\n",
    "    pi_inverse = 2 * np.sqrt(2) * sum / 9801\n",
    "    return (pi_inverse) ** (-1)\n"
   ]
  },
  {
   "cell_type": "code",
   "execution_count": 3,
   "metadata": {
    "pycharm": {
     "name": "#%%\n"
    }
   },
   "outputs": [
    {
     "data": {
      "text/plain": [
       "3.1415927300133055"
      ]
     },
     "execution_count": 3,
     "metadata": {},
     "output_type": "execute_result"
    }
   ],
   "source": [
    "estimate_pi()\n"
   ]
  },
  {
   "cell_type": "code",
   "execution_count": 4,
   "metadata": {
    "pycharm": {
     "name": "#%%\n"
    }
   },
   "outputs": [
    {
     "name": "stdout",
     "output_type": "stream",
     "text": [
      "This function's error is smaller than 1e-15.\n",
      "Error:  -7.642351240733092e-08\n"
     ]
    }
   ],
   "source": [
    "# Calculate the error\n",
    "error = np.pi - estimate_pi()\n",
    "if error < 1e-15:\n",
    "    print(\"This function's error is smaller than 1e-15.\\nError: \", error)\n"
   ]
  },
  {
   "cell_type": "markdown",
   "metadata": {},
   "source": [
    "#### (b) _(1 pt)_ **Leibniz’s alternat(-ive/-ing) series for π**"
   ]
  },
  {
   "cell_type": "code",
   "execution_count": 5,
   "metadata": {
    "pycharm": {
     "name": "#%%\n"
    }
   },
   "outputs": [],
   "source": [
    "def leibniz_pi(max_iter):\n",
    "    \"\"\"Estimate pi using Leibniz’s alternative series\"\"\"\n",
    "    sum = 0\n",
    "    n = 0\n",
    "    while (n < max_iter):\n",
    "        sum += ((-1) ** n) / (2 * n + 1)\n",
    "        n += 1\n",
    "    return sum * 4"
   ]
  },
  {
   "cell_type": "code",
   "execution_count": 6,
   "metadata": {
    "pycharm": {
     "name": "#%%\n"
    }
   },
   "outputs": [
    {
     "data": {
      "application/vnd.jupyter.widget-view+json": {
       "model_id": "36987db854fa409aadefbdb847f0f0c5",
       "version_major": 2,
       "version_minor": 0
      },
      "text/plain": [
       "Finding max iteration number:   0%|          | 0/10000 [00:00<?, ?it/s]"
      ]
     },
     "metadata": {},
     "output_type": "display_data"
    },
    {
     "name": "stdout",
     "output_type": "stream",
     "text": [
      "Number found:  152\n"
     ]
    }
   ],
   "source": [
    "# Determine how many iterations leibniz_pi() needs to find pi\n",
    "for i in tqdm(range(0, 10000), desc=\"Finding max iteration number\"):\n",
    "    if (round(leibniz_pi(max_iter=i), 2) == 3.14):\n",
    "        print(\"Number found: \", i)\n",
    "        break"
   ]
  },
  {
   "cell_type": "code",
   "execution_count": 7,
   "metadata": {
    "pycharm": {
     "name": "#%%\n"
    }
   },
   "outputs": [
    {
     "name": "stdout",
     "output_type": "stream",
     "text": [
      "Pi:  3.1350137774059244 \n",
      "Error for max_iter=152:  0.006578876183868765\n"
     ]
    }
   ],
   "source": [
    "# Calculate the error\n",
    "error = np.pi - leibniz_pi(max_iter=152)\n",
    "print(\"Pi: \", leibniz_pi(max_iter=152), \"\\nError for max_iter=152: \", error)"
   ]
  },
  {
   "cell_type": "markdown",
   "metadata": {
    "pycharm": {
     "name": "#%% md\n"
    }
   },
   "source": [
    "#### (c) _(2 pts)_ **How a (bad but tenacious) dart player calculates $\\pi$: the Monte-Carlo Technique**"
   ]
  },
  {
   "cell_type": "code",
   "execution_count": 8,
   "metadata": {
    "pycharm": {
     "name": "#%%\n"
    }
   },
   "outputs": [],
   "source": [
    "def monte_carlo_pi(size: int):\n",
    "    \"\"\"Estimate pi using the Monte Carlo Technique\"\"\"\n",
    "    circle = 0\n",
    "    total = 0\n",
    "\n",
    "    for i in range(size):\n",
    "        # The randomly generated points must be inside the limit region\n",
    "        x = random.uniform(-1, 1)\n",
    "        y = random.uniform(-1, 1)\n",
    "\n",
    "        # Check if each point is in the circle and add to that count\n",
    "        if (x ** 2 + y ** 2 <= 1):\n",
    "            circle += 1\n",
    "\n",
    "        # Add to total\n",
    "        total += 1\n",
    "\n",
    "    return 4 * (circle / total)\n"
   ]
  },
  {
   "cell_type": "code",
   "execution_count": 9,
   "metadata": {
    "pycharm": {
     "name": "#%%\n"
    }
   },
   "outputs": [
    {
     "data": {
      "application/vnd.jupyter.widget-view+json": {
       "model_id": "8297f23ecb564ba89b5c60bf66c0d98b",
       "version_major": 2,
       "version_minor": 0
      },
      "text/plain": [
       "  0%|          | 0/6 [00:00<?, ?it/s]"
      ]
     },
     "metadata": {},
     "output_type": "display_data"
    },
    {
     "name": "stdout",
     "output_type": "stream",
     "text": [
      "Sample of size 10 estimates pi as: 4.0.\n",
      "Margin error of -0.8584073464102069\n",
      "\n",
      "Sample of size 100 estimates pi as: 2.92.\n",
      "Margin error of 0.2215926535897932\n",
      "\n",
      "Sample of size 1000 estimates pi as: 3.164.\n",
      "Margin error of -0.02240734641020703\n",
      "\n",
      "Sample of size 10000 estimates pi as: 3.1548.\n",
      "Margin error of -0.01320734641020671\n",
      "\n",
      "Sample of size 100000 estimates pi as: 3.14804.\n",
      "Margin error of -0.006447346410206833\n",
      "\n",
      "Sample of size 1000000 estimates pi as: 3.141372.\n",
      "Margin error of 0.00022065358979306282\n",
      "\n"
     ]
    }
   ],
   "source": [
    "# For each differently-sized sample of points\n",
    "sizes = [10 ** (i) for i in range(1, 7)]\n",
    "\n",
    "for size in tqdm(sizes):\n",
    "    # Estimate pi\n",
    "    estimated_pi = monte_carlo_pi(size=size)\n",
    "    print(f\"Sample of size {size} estimates pi as: {estimated_pi}.\\nMargin error of {pi - estimated_pi}\\n\")"
   ]
  },
  {
   "cell_type": "markdown",
   "metadata": {},
   "source": [
    "### Ex. 3 _(4 pts)_ The Birthday Paradox\n"
   ]
  },
  {
   "cell_type": "markdown",
   "metadata": {},
   "source": [
    "#### (a) _(1 pts)_ **Write a function that checks for duplicates**"
   ]
  },
  {
   "cell_type": "code",
   "execution_count": 10,
   "metadata": {
    "pycharm": {
     "name": "#%%\n"
    }
   },
   "outputs": [],
   "source": [
    "def has_duplicates(input_list:list) -> bool:\n",
    "    \"\"\"Checks if list has duplicates\"\"\"\n",
    "    return (len(set(input_list)) != len(input_list))"
   ]
  },
  {
   "cell_type": "code",
   "execution_count": 11,
   "metadata": {
    "pycharm": {
     "name": "#%%\n"
    }
   },
   "outputs": [
    {
     "name": "stdout",
     "output_type": "stream",
     "text": [
      "Does the list: [2, 3, 4, 2] have duplicates? True\n",
      "Does the list: [2, 3, 4] have duplicates? False\n"
     ]
    }
   ],
   "source": [
    "# Example\n",
    "list_1, list_2 = [2,3,4,2], [2,3,4]\n",
    "print(f\"Does the list: {list_1} have duplicates? {has_duplicates(list_1)}\")\n",
    "print(f\"Does the list: {list_2} have duplicates? {has_duplicates(list_2)}\")"
   ]
  },
  {
   "cell_type": "code",
   "execution_count": 12,
   "metadata": {
    "pycharm": {
     "name": "#%%\n"
    }
   },
   "outputs": [],
   "source": [
    "# Instead of using sets, we can build a function from scratch to find duplicates\n",
    "def has_duplicates_from_scratch(input_list:list) -> bool:\n",
    "    \"\"\"Checks if list has duplicates without using set()\"\"\"\n",
    "    unique = []\n",
    "    for i in range(len(input_list)):\n",
    "        if input_list[i] in unique:\n",
    "            # has duplicates, return True\n",
    "            return True\n",
    "        else:\n",
    "            # add to unique list\n",
    "            unique.append(input_list[i])\n",
    "    return False"
   ]
  },
  {
   "cell_type": "code",
   "execution_count": 13,
   "metadata": {
    "pycharm": {
     "name": "#%%\n"
    }
   },
   "outputs": [
    {
     "name": "stdout",
     "output_type": "stream",
     "text": [
      "Does the list: [2, 3, 4, 2] have duplicates? True\n",
      "Does the list: [2, 3, 4] have duplicates? False\n"
     ]
    }
   ],
   "source": [
    "# Example\n",
    "list_1, list_2 = [2,3,4,2], [2,3,4]\n",
    "print(f\"Does the list: {list_1} have duplicates? {has_duplicates_from_scratch(list_1)}\")\n",
    "print(f\"Does the list: {list_2} have duplicates? {has_duplicates_from_scratch(list_2)}\")"
   ]
  },
  {
   "cell_type": "markdown",
   "metadata": {
    "pycharm": {
     "name": "#%% md\n"
    }
   },
   "source": [
    "#### (b.i) _(1 pts)_ **Estimate the probability on the basis generating 10000 trials of n = 27 birthdays and determine the fraction of trials where at least two people share a birthday.**"
   ]
  },
  {
   "cell_type": "code",
   "execution_count": 14,
   "metadata": {
    "pycharm": {
     "name": "#%%\n"
    }
   },
   "outputs": [],
   "source": [
    "def bday_probability(n:int=27,trials:int=10000) -> int:\n",
    "    \"\"\"Estimates probability of at least two people having the same birthday based on\n",
    "    10000 randomly-generated trials\"\"\"\n",
    "    matches = 0\n",
    "    for k in range(trials):\n",
    "        # Generate 365 random birthdays in a list\n",
    "        birthdays = [ random.randint(1,365) for i in range(n)]\n",
    "        # Check for duplicates\n",
    "        if has_duplicates(birthdays):\n",
    "            matches +=1\n",
    "    return matches/trials"
   ]
  },
  {
   "cell_type": "markdown",
   "metadata": {},
   "source": [
    "#### (b.ii) _(1 pts)_ **Compare your estimates to the approximated probability and the exact probabiliity**"
   ]
  },
  {
   "cell_type": "code",
   "execution_count": 15,
   "metadata": {
    "pycharm": {
     "name": "#%%\n"
    }
   },
   "outputs": [],
   "source": [
    "def approx_bday_prob(n:int=27, m:int=365) -> int:\n",
    "    \"\"\"Approximates probability of two people having the same birthday\"\"\"\n",
    "    return 1 - e**(-(n**2)/(2*m))"
   ]
  },
  {
   "cell_type": "code",
   "execution_count": 16,
   "metadata": {
    "pycharm": {
     "name": "#%%\n"
    }
   },
   "outputs": [],
   "source": [
    "def exact_bday_prob(students:int=27, m:int=365) -> int:\n",
    "    \"\"\"Calculates the exact probability of at least two people sharing the\n",
    "    same birthday\"\"\"\n",
    "    prob = 1\n",
    "    for n in range(students+1):\n",
    "        prob *= (m - n)/m\n",
    "    return 1-prob"
   ]
  },
  {
   "cell_type": "code",
   "execution_count": 17,
   "metadata": {
    "pycharm": {
     "name": "#%%\n"
    }
   },
   "outputs": [
    {
     "name": "stdout",
     "output_type": "stream",
     "text": [
      "Comparison of the methods of determining the probability of two bithdays coinciding on the same day, in a class of 27 students\n",
      "\n",
      "a) Generation of 10000 random trials: 0.6233\n",
      "\n",
      "b) Approximated probability: 0.6316162690635074\n",
      "Difference with a): 0.003716269063507416\n",
      "\n",
      "c) Exact probability: 0.6544614723423995\n",
      "Difference with a): 0.02476147234239945\n",
      "\n"
     ]
    }
   ],
   "source": [
    "# Comparison of all thrree methods\n",
    "print(f\"Comparison of the methods of determining the probability of two bithdays coinciding on the same day, \"\n",
    "      f\"in a class of 27 students\\n\")\n",
    "print(f\"a) Generation of 10000 random trials: {bday_probability()}\\n\")\n",
    "print(f\"b) Approximated probability: {approx_bday_prob()}\\nDifference with a): {abs(bday_probability() - approx_bday_prob())}\\n\")\n",
    "print(f\"c) Exact probability: {exact_bday_prob()}\\nDifference with a): {abs(bday_probability() - exact_bday_prob())}\\n\")\n"
   ]
  },
  {
   "cell_type": "markdown",
   "metadata": {},
   "source": [
    "#### (b.iii) _(1 pts)_ **Estimate the probability of at least three people have a non-unique birthday**"
   ]
  },
  {
   "cell_type": "code",
   "execution_count": 18,
   "metadata": {},
   "outputs": [],
   "source": [
    "def count_duplicates(input_list:list) -> bool:\n",
    "    \"\"\"Counts the number of non-unique items in a list\"\"\"\n",
    "    # Find the non-unique instances in the list, and calc total\n",
    "    return sum([each for each in Counter(input_list).values() if each > 1 ])"
   ]
  },
  {
   "cell_type": "code",
   "execution_count": 19,
   "metadata": {},
   "outputs": [],
   "source": [
    "def birthday_paradox(n:int=27,trials:int=10000,non_unique:int=3) -> int:\n",
    "    \"\"\"Estimates probability of at least thee people having a non-unique birthday\"\"\"\n",
    "    matches = 0\n",
    "    for k in range(trials):\n",
    "        # Generate 365 random birthdays in a list\n",
    "        birthdays = [ random.randint(1,365) for i in range(n)]\n",
    "        # Check if there are at least 3 non-unique birthdays\n",
    "        if count_duplicates(input_list=birthdays)>=3:\n",
    "            matches +=1\n",
    "    return matches/trials"
   ]
  },
  {
   "cell_type": "code",
   "execution_count": 20,
   "metadata": {
    "pycharm": {
     "name": "#%%\n"
    }
   },
   "outputs": [
    {
     "data": {
      "text/plain": [
       "0.2413"
      ]
     },
     "execution_count": 20,
     "metadata": {},
     "output_type": "execute_result"
    }
   ],
   "source": [
    "# Estimated probability of at least three people in a 27 person class sharing a non-unique birthday\n",
    "birthday_paradox()"
   ]
  },
  {
   "cell_type": "markdown",
   "metadata": {},
   "source": [
    "### Ex. 5 _(4 pts)_ Anagrams"
   ]
  },
  {
   "cell_type": "markdown",
   "metadata": {
    "pycharm": {
     "name": "#%% md\n"
    }
   },
   "source": [
    "#### (a) _(3 pts)_ **Write a program to find anagrams in a list.** \n",
    "Limit your output to words having at least 6 anagrams.\n"
   ]
  },
  {
   "cell_type": "code",
   "execution_count": 21,
   "metadata": {
    "pycharm": {
     "name": "#%%\n"
    }
   },
   "outputs": [],
   "source": [
    "def anagram_finder(file:str, limit:int=6) -> dict:\n",
    "    \"\"\"Find all anagrams in a list of words\"\"\"\n",
    "    with open (file, 'r') as f:\n",
    "        word_list = f.read().split()\n",
    "\n",
    "        processed_list = [ (\"\".join(sorted(list(word))), word) for word in word_list ]\n",
    "\n",
    "        anagrams = defaultdict(list)\n",
    "        for key, word in processed_list:\n",
    "            anagrams[key].append(word)\n",
    "\n",
    "        return [ word_list for word_list in anagrams.values() if len(word_list)>limit ]"
   ]
  },
  {
   "cell_type": "code",
   "execution_count": 22,
   "metadata": {
    "pycharm": {
     "name": "#%%\n"
    }
   },
   "outputs": [
    {
     "name": "stdout",
     "output_type": "stream",
     "text": [
      "Time:  0.3808194839999999\n"
     ]
    }
   ],
   "source": [
    "start = timeit.default_timer()\n",
    "results = anagram_finder(file=\"words.txt\")\n",
    "stop = timeit.default_timer()\n",
    "print('Time: ', stop - start)"
   ]
  },
  {
   "cell_type": "code",
   "execution_count": 23,
   "metadata": {},
   "outputs": [
    {
     "name": "stdout",
     "output_type": "stream",
     "text": [
      "\n",
      "Results:\n",
      "\n",
      "['abets', 'baste', 'bates', 'beast', 'beats', 'betas', 'tabes']\n",
      "['acers', 'acres', 'cares', 'carse', 'escar', 'races', 'scare', 'serac']\n",
      "['alerts', 'alters', 'artels', 'estral', 'laster', 'ratels', 'salter', 'slater', 'staler', 'stelar', 'talers']\n",
      "['algins', 'aligns', 'lasing', 'liangs', 'ligans', 'lingas', 'signal']\n",
      "['amens', 'manes', 'manse', 'means', 'mensa', 'names', 'nemas']\n",
      "['anestri', 'nastier', 'ratines', 'retains', 'retinas', 'retsina', 'stainer', 'stearin']\n",
      "['angriest', 'astringe', 'ganister', 'gantries', 'granites', 'ingrates', 'rangiest']\n",
      "['apers', 'asper', 'pares', 'parse', 'pears', 'prase', 'presa', 'rapes', 'reaps', 'spare', 'spear']\n",
      "['ardebs', 'bardes', 'beards', 'breads', 'debars', 'sabred', 'serdab']\n",
      "['ares', 'arse', 'ears', 'eras', 'rase', 'sear', 'sera']\n",
      "['aridest', 'astride', 'diaster', 'disrate', 'staider', 'tardies', 'tirades']\n",
      "['ariled', 'derail', 'dialer', 'laired', 'railed', 'redial', 'relaid']\n",
      "['arles', 'earls', 'lares', 'laser', 'lears', 'rales', 'reals', 'seral']\n",
      "['armets', 'master', 'maters', 'matres', 'ramets', 'stream', 'tamers']\n",
      "['arrest', 'rarest', 'raster', 'raters', 'starer', 'tarres', 'terras']\n",
      "['artiest', 'artiste', 'attires', 'iratest', 'ratites', 'striate', 'tastier']\n",
      "['aspen', 'napes', 'neaps', 'panes', 'peans', 'sneap', 'spean']\n",
      "['aspers', 'parses', 'passer', 'prases', 'repass', 'spares', 'sparse', 'spears']\n",
      "['ates', 'east', 'eats', 'etas', 'sate', 'seat', 'seta', 'teas']\n",
      "['capers', 'crapes', 'escarp', 'pacers', 'parsec', 'recaps', 'scrape', 'secpar', 'spacer']\n",
      "['caret', 'carte', 'cater', 'crate', 'react', 'recta', 'trace']\n",
      "['carets', 'cartes', 'caster', 'caters', 'crates', 'reacts', 'recast', 'traces']\n",
      "['cruets', 'cruset', 'curets', 'eructs', 'rectus', 'recuts', 'truces']\n",
      "['deist', 'diets', 'dites', 'edits', 'sited', 'stied', 'tides']\n",
      "['drapes', 'padres', 'parsed', 'rasped', 'spader', 'spared', 'spread']\n",
      "['earings', 'erasing', 'gainers', 'reagins', 'regains', 'reginas', 'searing', 'seringa']\n",
      "['emits', 'items', 'metis', 'mites', 'smite', 'stime', 'times']\n",
      "['empires', 'emprise', 'epimers', 'imprese', 'premies', 'premise', 'spireme']\n",
      "['enosis', 'eosins', 'essoin', 'noesis', 'noises', 'ossein', 'sonsie']\n",
      "['esprits', 'persist', 'priests', 'spriest', 'sprites', 'stirpes', 'stripes']\n",
      "['ester', 'reest', 'reset', 'steer', 'stere', 'terse', 'trees']\n",
      "['estrin', 'inerts', 'insert', 'inters', 'niters', 'nitres', 'sinter', 'triens', 'trines']\n",
      "['estrous', 'oestrus', 'ousters', 'sourest', 'souters', 'stoures', 'tussore']\n",
      "['lapse', 'leaps', 'pales', 'peals', 'pleas', 'salep', 'sepal', 'spale']\n",
      "['lavers', 'ravels', 'salver', 'serval', 'slaver', 'velars', 'versal']\n",
      "['least', 'setal', 'slate', 'stale', 'steal', 'stela', 'taels', 'tales', 'teals', 'tesla']\n",
      "['merits', 'mister', 'miters', 'mitres', 'remits', 'smiter', 'timers']\n",
      "['nestor', 'noters', 'stoner', 'tenors', 'tensor', 'toners', 'trones']\n",
      "['palest', 'palets', 'pastel', 'petals', 'plates', 'pleats', 'septal', 'staple']\n",
      "['paste', 'pates', 'peats', 'septa', 'spate', 'tapes', 'tepas']\n",
      "['peers', 'peres', 'perse', 'prees', 'prese', 'speer', 'spree']\n",
      "['peris', 'piers', 'pries', 'prise', 'ripes', 'speir', 'spier', 'spire']\n",
      "['resaw', 'sawer', 'sewar', 'sware', 'swear', 'wares', 'wears']\n"
     ]
    }
   ],
   "source": [
    "# Print out results \n",
    "print(f'\\nResults:\\n')\n",
    "print_lst = [ print(each) for each in results ]\n"
   ]
  },
  {
   "cell_type": "markdown",
   "metadata": {},
   "source": [
    "#### (b) _(1 pts)_ **Modify your code so it prints the largest set of anagrams first**"
   ]
  },
  {
   "cell_type": "code",
   "execution_count": 24,
   "metadata": {
    "pycharm": {
     "name": "#%%\n"
    }
   },
   "outputs": [],
   "source": [
    "def anagram_finder(file:str, limit:int=6,large_first:bool=False) -> dict:\n",
    "    \"\"\"Find all anagrams in a list of words\"\"\"\n",
    "    with open (file, 'r') as f:\n",
    "        word_list = f.read().split()\n",
    "\n",
    "        processed_list = [ (\"\".join(sorted(list(word))), word) for word in word_list ]\n",
    "\n",
    "        anagrams = defaultdict(list)\n",
    "        for key, word in processed_list:\n",
    "            anagrams[key].append(word)\n",
    "\n",
    "        # Make sure it can be printed in order\n",
    "        if large_first:\n",
    "            anagrams = { x: anagrams[x] for x in sorted(anagrams, key=lambda x: len(anagrams[x]), reverse=True) }\n",
    "\n",
    "        return [ word_list for word_list in anagrams.values() if len(word_list)>limit ]"
   ]
  },
  {
   "cell_type": "code",
   "execution_count": 25,
   "metadata": {
    "pycharm": {
     "name": "#%%\n"
    }
   },
   "outputs": [
    {
     "name": "stdout",
     "output_type": "stream",
     "text": [
      "Time:  0.3163872000000003\n"
     ]
    }
   ],
   "source": [
    "start = timeit.default_timer()\n",
    "# results = anagram_finder(file=\"words.txt\", large_first=False)\n",
    "results_sorted = anagram_finder(file=\"words.txt\", large_first=True)\n",
    "stop = timeit.default_timer()\n",
    "print('Time: ', stop - start)"
   ]
  },
  {
   "cell_type": "code",
   "execution_count": 26,
   "metadata": {
    "pycharm": {
     "name": "#%%\n"
    }
   },
   "outputs": [
    {
     "name": "stdout",
     "output_type": "stream",
     "text": [
      "\n",
      "Results:\n",
      "\n",
      "['alerts', 'alters', 'artels', 'estral', 'laster', 'ratels', 'salter', 'slater', 'staler', 'stelar', 'talers']\n",
      "['apers', 'asper', 'pares', 'parse', 'pears', 'prase', 'presa', 'rapes', 'reaps', 'spare', 'spear']\n",
      "['least', 'setal', 'slate', 'stale', 'steal', 'stela', 'taels', 'tales', 'teals', 'tesla']\n",
      "['capers', 'crapes', 'escarp', 'pacers', 'parsec', 'recaps', 'scrape', 'secpar', 'spacer']\n",
      "['estrin', 'inerts', 'insert', 'inters', 'niters', 'nitres', 'sinter', 'triens', 'trines']\n",
      "['acers', 'acres', 'cares', 'carse', 'escar', 'races', 'scare', 'serac']\n",
      "['anestri', 'nastier', 'ratines', 'retains', 'retinas', 'retsina', 'stainer', 'stearin']\n",
      "['arles', 'earls', 'lares', 'laser', 'lears', 'rales', 'reals', 'seral']\n",
      "['aspers', 'parses', 'passer', 'prases', 'repass', 'spares', 'sparse', 'spears']\n",
      "['ates', 'east', 'eats', 'etas', 'sate', 'seat', 'seta', 'teas']\n",
      "['carets', 'cartes', 'caster', 'caters', 'crates', 'reacts', 'recast', 'traces']\n",
      "['earings', 'erasing', 'gainers', 'reagins', 'regains', 'reginas', 'searing', 'seringa']\n",
      "['lapse', 'leaps', 'pales', 'peals', 'pleas', 'salep', 'sepal', 'spale']\n",
      "['palest', 'palets', 'pastel', 'petals', 'plates', 'pleats', 'septal', 'staple']\n",
      "['peris', 'piers', 'pries', 'prise', 'ripes', 'speir', 'spier', 'spire']\n",
      "['abets', 'baste', 'bates', 'beast', 'beats', 'betas', 'tabes']\n",
      "['algins', 'aligns', 'lasing', 'liangs', 'ligans', 'lingas', 'signal']\n",
      "['amens', 'manes', 'manse', 'means', 'mensa', 'names', 'nemas']\n",
      "['angriest', 'astringe', 'ganister', 'gantries', 'granites', 'ingrates', 'rangiest']\n",
      "['ardebs', 'bardes', 'beards', 'breads', 'debars', 'sabred', 'serdab']\n",
      "['ares', 'arse', 'ears', 'eras', 'rase', 'sear', 'sera']\n",
      "['aridest', 'astride', 'diaster', 'disrate', 'staider', 'tardies', 'tirades']\n",
      "['ariled', 'derail', 'dialer', 'laired', 'railed', 'redial', 'relaid']\n",
      "['armets', 'master', 'maters', 'matres', 'ramets', 'stream', 'tamers']\n",
      "['arrest', 'rarest', 'raster', 'raters', 'starer', 'tarres', 'terras']\n",
      "['artiest', 'artiste', 'attires', 'iratest', 'ratites', 'striate', 'tastier']\n",
      "['aspen', 'napes', 'neaps', 'panes', 'peans', 'sneap', 'spean']\n",
      "['caret', 'carte', 'cater', 'crate', 'react', 'recta', 'trace']\n",
      "['cruets', 'cruset', 'curets', 'eructs', 'rectus', 'recuts', 'truces']\n",
      "['deist', 'diets', 'dites', 'edits', 'sited', 'stied', 'tides']\n",
      "['drapes', 'padres', 'parsed', 'rasped', 'spader', 'spared', 'spread']\n",
      "['emits', 'items', 'metis', 'mites', 'smite', 'stime', 'times']\n",
      "['empires', 'emprise', 'epimers', 'imprese', 'premies', 'premise', 'spireme']\n",
      "['enosis', 'eosins', 'essoin', 'noesis', 'noises', 'ossein', 'sonsie']\n",
      "['esprits', 'persist', 'priests', 'spriest', 'sprites', 'stirpes', 'stripes']\n",
      "['ester', 'reest', 'reset', 'steer', 'stere', 'terse', 'trees']\n",
      "['estrous', 'oestrus', 'ousters', 'sourest', 'souters', 'stoures', 'tussore']\n",
      "['lavers', 'ravels', 'salver', 'serval', 'slaver', 'velars', 'versal']\n",
      "['merits', 'mister', 'miters', 'mitres', 'remits', 'smiter', 'timers']\n",
      "['nestor', 'noters', 'stoner', 'tenors', 'tensor', 'toners', 'trones']\n",
      "['paste', 'pates', 'peats', 'septa', 'spate', 'tapes', 'tepas']\n",
      "['peers', 'peres', 'perse', 'prees', 'prese', 'speer', 'spree']\n",
      "['resaw', 'sawer', 'sewar', 'sware', 'swear', 'wares', 'wears']\n"
     ]
    }
   ],
   "source": [
    "# Print out results \n",
    "print(f'\\nResults:\\n')\n",
    "print_lst = [ print(each) for each in results_sorted ]\n"
   ]
  },
  {
   "cell_type": "markdown",
   "metadata": {},
   "source": [
    "#### (c) _(1 pts)_ **Which set of 8 letters contains the most anagrams and what are they?**\n",
    "Hint:the solution has seven anagrams\n"
   ]
  },
  {
   "cell_type": "code",
   "execution_count": 27,
   "metadata": {
    "pycharm": {
     "name": "#%%\n"
    }
   },
   "outputs": [
    {
     "name": "stdout",
     "output_type": "stream",
     "text": [
      "Set of 8 letters that contains the most anagrams:\n",
      "['acers', 'acres', 'cares', 'carse', 'escar', 'races', 'scare', 'serac']\n"
     ]
    }
   ],
   "source": [
    "# Find the ones with 8 letters\n",
    "eight_letters = [ each for each in results if len(each)== 8 ]\n",
    "\n",
    "# Print the biggest one\n",
    "print(f\"Set of 8 letters that contains the most anagrams:\\n{max(eight_letters, key=len)}\")"
   ]
  },
  {
   "cell_type": "markdown",
   "metadata": {
    "pycharm": {
     "is_executing": true,
     "name": "#%% md\n"
    }
   },
   "source": [
    "### Ex. 4 _(2 pts)_ Making Triangles"
   ]
  },
  {
   "cell_type": "markdown",
   "metadata": {},
   "source": [
    "#### _(3 pts)_ Imagine you are given a stick of length 1 (meter) and you break the stick randomly at two points breaking leaving you with 3 smaller sticks of random length. How likely is it that the three sticks can be combined to form 3 sides of a triangle?\n",
    "\n",
    "Write Python code to simulate 1 000 000 trials splitting the stick randomly into 3 pieces and estimate the probability that a triangle can be formed from the three pieces"
   ]
  },
  {
   "cell_type": "code",
   "execution_count": 28,
   "metadata": {
    "pycharm": {
     "name": "#%%\n"
    }
   },
   "outputs": [],
   "source": [
    "# Calculate probability of triangle\n",
    "def is_triangle(list_num:list) -> bool:\n",
    "    \"\"\"Determine if three given sticks are a triangle\"\"\"\n",
    "    angle = np.arccos(min(list_num[1],list_num[0])/max(list_num[1],list_num[0])) + \\\n",
    "            np.arccos(min(list_num[2],list_num[0])/max(list_num[2],list_num[0])) + \\\n",
    "            np.arccos(min(list_num[1],list_num[2])/max(list_num[1],list_num[2]))\n",
    "    if round(angle) == round(np.pi):\n",
    "        return True\n",
    "    return False\n",
    "\n",
    "def prob_is_triangle(trials:int=1e6)-> float:\n",
    "    \"\"\"Simulate 1 000 000 trials splitting the stick randomly into 3 pieces\n",
    "    and estimate the probability that a triangle can be formed from the three pieces.\"\"\"\n",
    "    count = 0\n",
    "    # Simulate 1e6 trials\n",
    "    for i in tqdm(range(int(trials))):\n",
    "        # Generate three random pieces of stick\n",
    "        random_int = [ random.randint(1,100)/100 for i in range(3)]\n",
    "        three = [ n/sum(random_int) for n in random_int ]\n",
    "        if is_triangle(three):\n",
    "            count+=1\n",
    "    # Estimate the probability\n",
    "    return count/trials\n"
   ]
  },
  {
   "cell_type": "code",
   "execution_count": 29,
   "metadata": {},
   "outputs": [
    {
     "data": {
      "application/vnd.jupyter.widget-view+json": {
       "model_id": "75745b140a3c45f3bd05b08a1ff75774",
       "version_major": 2,
       "version_minor": 0
      },
      "text/plain": [
       "  0%|          | 0/1000000 [00:00<?, ?it/s]"
      ]
     },
     "metadata": {},
     "output_type": "display_data"
    },
    {
     "data": {
      "text/plain": [
       "0.465666"
      ]
     },
     "execution_count": 29,
     "metadata": {},
     "output_type": "execute_result"
    }
   ],
   "source": [
    "prob_is_triangle()"
   ]
  },
  {
   "cell_type": "markdown",
   "metadata": {},
   "source": [
    "### Ex. 2 _(5 pts)_ Happy numbers\n",
    "\n",
    "Happy numbers are defined by the following process: Start with a positive number. Replace the number with the sum of the squares of its digits and repeat until you reach the number 1 or the process enters a loop not involving the number 1. A number that reaches 1 is called a happy number all other numbers are unhappy. "
   ]
  },
  {
   "cell_type": "markdown",
   "metadata": {},
   "source": [
    "#### (a) _(2 pts)_ Find all happy numbers between 1 and 100 by writing a function `is_happy(n)` that checks whether a number is happy or unhappy. It should return `true` if the the number is happy and `false` otherwise."
   ]
  },
  {
   "cell_type": "code",
   "execution_count": 30,
   "metadata": {},
   "outputs": [],
   "source": [
    "def is_happy(n):\n",
    "    \"\"\"Checks if number is happy, using a WHILE LOOP\"\"\"\n",
    "    num = set()\n",
    "    while n != 1:\n",
    "        n = sum(int(i)**2 for i in str(n))\n",
    "        if n in num:\n",
    "            return False\n",
    "        num.add(n)\n",
    "    return True"
   ]
  },
  {
   "cell_type": "code",
   "execution_count": 31,
   "metadata": {},
   "outputs": [
    {
     "data": {
      "text/plain": [
       "[1, 7, 10, 13, 19, 23, 28, 31, 32, 44, 49, 68, 70, 79, 82, 86, 91, 94, 97, 100]"
      ]
     },
     "execution_count": 31,
     "metadata": {},
     "output_type": "execute_result"
    }
   ],
   "source": [
    "# Print out happy numbers from 1 to 100\n",
    "happy_numbers = [ i for i in range(1,101) if is_happy(i) ]\n",
    "happy_numbers"
   ]
  },
  {
   "cell_type": "markdown",
   "metadata": {},
   "source": [
    "#### (b) _(1 pt)_ Solve the problem (a) in two different ways using i. while-loops and ii. recursion."
   ]
  },
  {
   "cell_type": "code",
   "execution_count": 32,
   "metadata": {},
   "outputs": [],
   "source": [
    "def is_happy2(n):\n",
    "    \"\"\"Checks if number is happy, using a recursion\"\"\"\n",
    "    n = sum(int(i)**2 for i in str(n))\n",
    "    if n == 1:\n",
    "        return True\n",
    "    \n",
    "    # If the result of the sum is not one, but it's a single digit [2,9], stop recursion\n",
    "    elif n in range(2,10):\n",
    "        return False\n",
    "    \n",
    "    # Continue recursion\n",
    "    else:\n",
    "        result = is_happy2(n)\n",
    "        return result"
   ]
  },
  {
   "cell_type": "code",
   "execution_count": 33,
   "metadata": {},
   "outputs": [
    {
     "data": {
      "text/plain": [
       "[1, 7, 10, 13, 19, 23, 28, 31, 32, 44, 49, 68, 70, 79, 82, 86, 91, 94, 97, 100]"
      ]
     },
     "execution_count": 33,
     "metadata": {},
     "output_type": "execute_result"
    }
   ],
   "source": [
    "happy_numbers = [ i for i in range(1,101) if is_happy2(i) ]\n",
    "happy_numbers"
   ]
  },
  {
   "cell_type": "markdown",
   "metadata": {},
   "source": [
    "#### (c) _(2 pts)_ Modify (either the iterative or the recursive version of is_happy) to take an additional argument p (i.e. def how_happy(n,p): and instead squaring digits raise each digit to the power of p and then take the sum of the powers. "
   ]
  },
  {
   "cell_type": "code",
   "execution_count": 34,
   "metadata": {},
   "outputs": [],
   "source": [
    "def how_happy(n, p):\n",
    "    \"\"\"Checks how happy a number is, using a recursion\"\"\"\n",
    "    n = sum(int(i)**p for i in str(n))\n",
    "    if n == 1:\n",
    "        return 'Happy'\n",
    "    \n",
    "    elif n == 4:\n",
    "        return 'Almost happy'\n",
    "    \n",
    "    # If the result of the sum is not one, but it's a single digit [2,9], stop recursion\n",
    "    elif (n in range(2,10)) and (n != 4):\n",
    "        return 'Unhappy'\n",
    "    \n",
    "    # Continue recursion\n",
    "    else:\n",
    "        result = how_happy(n, p)\n",
    "        return result"
   ]
  },
  {
   "cell_type": "code",
   "execution_count": 35,
   "metadata": {},
   "outputs": [
    {
     "data": {
      "text/plain": [
       "['Happy',\n",
       " 'Almost happy',\n",
       " 'Unhappy',\n",
       " 'Almost happy',\n",
       " 'Almost happy',\n",
       " 'Almost happy',\n",
       " 'Happy',\n",
       " 'Almost happy',\n",
       " 'Almost happy',\n",
       " 'Happy',\n",
       " 'Unhappy',\n",
       " 'Unhappy',\n",
       " 'Happy',\n",
       " 'Almost happy',\n",
       " 'Almost happy',\n",
       " 'Almost happy',\n",
       " 'Almost happy',\n",
       " 'Almost happy',\n",
       " 'Happy',\n",
       " 'Almost happy',\n",
       " 'Unhappy',\n",
       " 'Unhappy',\n",
       " 'Happy',\n",
       " 'Almost happy',\n",
       " 'Almost happy',\n",
       " 'Almost happy',\n",
       " 'Almost happy',\n",
       " 'Happy',\n",
       " 'Almost happy',\n",
       " 'Unhappy',\n",
       " 'Happy',\n",
       " 'Happy',\n",
       " 'Almost happy',\n",
       " 'Almost happy',\n",
       " 'Almost happy',\n",
       " 'Almost happy',\n",
       " 'Almost happy',\n",
       " 'Almost happy',\n",
       " 'Almost happy',\n",
       " 'Almost happy',\n",
       " 'Almost happy',\n",
       " 'Almost happy',\n",
       " 'Almost happy',\n",
       " 'Happy',\n",
       " 'Almost happy',\n",
       " 'Almost happy',\n",
       " 'Almost happy',\n",
       " 'Almost happy',\n",
       " 'Happy',\n",
       " 'Almost happy',\n",
       " 'Almost happy',\n",
       " 'Almost happy',\n",
       " 'Almost happy',\n",
       " 'Almost happy',\n",
       " 'Almost happy',\n",
       " 'Almost happy',\n",
       " 'Almost happy',\n",
       " 'Almost happy',\n",
       " 'Almost happy',\n",
       " 'Almost happy',\n",
       " 'Almost happy',\n",
       " 'Almost happy',\n",
       " 'Almost happy',\n",
       " 'Almost happy',\n",
       " 'Almost happy',\n",
       " 'Almost happy',\n",
       " 'Almost happy',\n",
       " 'Happy',\n",
       " 'Almost happy',\n",
       " 'Happy',\n",
       " 'Almost happy',\n",
       " 'Almost happy',\n",
       " 'Almost happy',\n",
       " 'Almost happy',\n",
       " 'Almost happy',\n",
       " 'Almost happy',\n",
       " 'Almost happy',\n",
       " 'Unhappy',\n",
       " 'Happy',\n",
       " 'Almost happy',\n",
       " 'Almost happy',\n",
       " 'Happy',\n",
       " 'Almost happy',\n",
       " 'Almost happy',\n",
       " 'Almost happy',\n",
       " 'Happy',\n",
       " 'Unhappy',\n",
       " 'Almost happy',\n",
       " 'Almost happy',\n",
       " 'Almost happy',\n",
       " 'Happy',\n",
       " 'Almost happy',\n",
       " 'Almost happy',\n",
       " 'Happy',\n",
       " 'Almost happy',\n",
       " 'Almost happy',\n",
       " 'Happy',\n",
       " 'Almost happy',\n",
       " 'Almost happy',\n",
       " 'Happy']"
      ]
     },
     "execution_count": 35,
     "metadata": {},
     "output_type": "execute_result"
    }
   ],
   "source": [
    "happy_numbers = [ how_happy(i, 2) for i in range(1,101) ]\n",
    "happy_numbers"
   ]
  },
  {
   "cell_type": "code",
   "execution_count": null,
   "metadata": {},
   "outputs": [],
   "source": []
  }
 ],
 "metadata": {
  "kernelspec": {
   "display_name": "Python 3",
   "language": "python",
   "name": "python3"
  },
  "language_info": {
   "codemirror_mode": {
    "name": "ipython",
    "version": 3
   },
   "file_extension": ".py",
   "mimetype": "text/x-python",
   "name": "python",
   "nbconvert_exporter": "python",
   "pygments_lexer": "ipython3",
   "version": "3.8.8"
  }
 },
 "nbformat": 4,
 "nbformat_minor": 1
}
