{
 "cells": [
  {
   "cell_type": "markdown",
   "metadata": {},
   "source": [
    "# Handout 02\n",
    "#### Sara Díaz del Ser\n",
    "_(in collaboration with Paula Romero)_"
   ]
  },
  {
   "cell_type": "code",
   "execution_count": 1,
   "metadata": {
    "pycharm": {
     "name": "#%%\n"
    }
   },
   "outputs": [],
   "source": [
    "from tqdm.notebook import tqdm\n",
    "import random\n",
    "from collections import defaultdict, Counter\n",
    "import timeit\n",
    "import numpy as np\n",
    "import re\n",
    "from itertools import product\n",
    "from copy import deepcopy"
   ]
  },
  {
   "cell_type": "markdown",
   "metadata": {},
   "source": [
    "### Ex. 1 _(4 pts)_ One hundred ways to get to one hundred (more or less)\n",
    "\n",
    "Write a program that outputs all possibilities to generate the number 100 from the digits\n",
    "1, 2, 3, 4, 5, 6, 7, 8, 9 (in that order) either by putting a ‘+’, ‘−’, ‘∗’, ‘/’, or nothing between\n",
    "the digits, e.g. 1 + 2 + 3 −4 + 5 + 6 + 78 + 9 = 100 or 1 + 23 ∗4 + 56/7 + 8 −9 = 100. \n",
    "#### Usual arithmetic rules apply. How many possibilities exist?\n",
    "\n",
    "Hint: You can construct all possible expressions as strings and use the eval function.\n",
    "You might also want to at least look at the itertools module of Python, specifically\n",
    "the combinatoric generators to avoid deeply nested loops. Don’t forget: recursion is also\n",
    "(always) a possibility. . ."
   ]
  },
  {
   "cell_type": "code",
   "execution_count": 2,
   "metadata": {},
   "outputs": [
    {
     "data": {
      "application/vnd.jupyter.widget-view+json": {
       "model_id": "ef8812c8e4a44d89a9c547375a57cbef",
       "version_major": 2,
       "version_minor": 0
      },
      "text/plain": [
       "0it [00:00, ?it/s]"
      ]
     },
     "metadata": {},
     "output_type": "display_data"
    },
    {
     "name": "stdout",
     "output_type": "stream",
     "text": [
      "Number of possibilities to generate the number 100:  376\n"
     ]
    }
   ],
   "source": [
    "result = 0\n",
    "number = 100\n",
    "for i in tqdm(product(['+','-','*','/',''],repeat=8)):\n",
    "    s = '1'\n",
    "    for operator,digit in zip(i,'23456789'):\n",
    "        s = str(s + operator + digit)\n",
    "        count = eval(s)\n",
    "        if(count==number):\n",
    "            result += 1\n",
    "print(\"Number of possibilities to generate the number 100: \", result)"
   ]
  },
  {
   "cell_type": "markdown",
   "metadata": {},
   "source": [
    "### Ex. 3 _(4 pts)_ Forbidden letters"
   ]
  },
  {
   "cell_type": "markdown",
   "metadata": {},
   "source": [
    "#### (a) _(0 pts)_ Write a function named avoids that takes a word and a string of forbidden letters, and that returns True if the word doesn’t use any of the forbidden letters.\n",
    "(See exercise 9.3 of ThinkPython)."
   ]
  },
  {
   "cell_type": "code",
   "execution_count": 3,
   "metadata": {
    "pycharm": {
     "name": "#%%\n"
    }
   },
   "outputs": [],
   "source": [
    "def avoids(word:str, forbidden:str) -> bool:\n",
    "    \"\"\"Returns True if the input word doesn't use any of the forbidden letters.\"\"\"\n",
    "    regex = '|'.join(list(forbidden))\n",
    "    if re.search('[{0}]'.format(regex), word):\n",
    "        return False\n",
    "    return True"
   ]
  },
  {
   "cell_type": "code",
   "execution_count": 4,
   "metadata": {
    "pycharm": {
     "name": "#%%\n"
    }
   },
   "outputs": [
    {
     "name": "stdout",
     "output_type": "stream",
     "text": [
      "Avoids zby? True\n",
      "Avoids skj? False\n"
     ]
    }
   ],
   "source": [
    "# Example\n",
    "print(f\"Avoids zby? {avoids('supercalifragilisticexpialidocious', 'zby')}\")\n",
    "print(f\"Avoids skj? {avoids('supercalifragilisticexpialidocious', 'skj')}\")"
   ]
  },
  {
   "cell_type": "markdown",
   "metadata": {
    "pycharm": {
     "name": "#%% md\n"
    }
   },
   "source": [
    "#### (b) _(4 pts)_ Write some Python code to identify a combination of 6 forbidden letters that aims to exclude the smallest number of words from the file words.txt?\n",
    "(Hint: You could start with the letter contained in the fewest words and go from there. Your\n",
    "solution does not have to find the absolute best combination of 6 letters, but your\n",
    "solution should be “reasonably” good.)"
   ]
  },
  {
   "cell_type": "code",
   "execution_count": 5,
   "metadata": {
    "pycharm": {
     "name": "#%%\n"
    }
   },
   "outputs": [],
   "source": [
    "def forbidden_letter(file:str) -> str:\n",
    "    \"\"\"Finds the letter that appears in the smallest number of words in the input file\"\"\"\n",
    "    with open (file, 'r') as f:\n",
    "        # Create a flattened list of all the letters\n",
    "        word_list = f.read().split()\n",
    "        letters = [ list(word) for word in word_list ]\n",
    "        flattened_list = [item for sublist in letters for item in sublist]\n",
    "        # Count them\n",
    "        count = Counter(flattened_list)\n",
    "        # Order the list from most common (first) to least common (last)\n",
    "        least_common = count.most_common()[-1]\n",
    "        return least_common[0]"
   ]
  },
  {
   "cell_type": "code",
   "execution_count": 6,
   "metadata": {
    "pycharm": {
     "name": "#%%\n"
    }
   },
   "outputs": [
    {
     "name": "stdout",
     "output_type": "stream",
     "text": [
      "Forbidden letter: q\n",
      "Time:  0.28072309299999887\n"
     ]
    }
   ],
   "source": [
    "# Example\n",
    "start = timeit.default_timer()\n",
    "results = forbidden_letter(file='words.txt')\n",
    "print(f\"Forbidden letter: {results}\")\n",
    "stop = timeit.default_timer()\n",
    "print('Time: ', stop - start)"
   ]
  },
  {
   "cell_type": "code",
   "execution_count": 7,
   "metadata": {
    "pycharm": {
     "name": "#%%\n"
    }
   },
   "outputs": [],
   "source": [
    "def forbidden_letters(file:str, n:int=6) -> str:\n",
    "    \"\"\"Finds the 6 letters that appears in the smallest number of words in the input file\"\"\"\n",
    "    with open (file, 'r') as f:\n",
    "        # Create a flattened list of all the letters\n",
    "        word_list = f.read().split()\n",
    "        letters = [ list(word) for word in word_list ]\n",
    "        flattened_list = [item for sublist in letters for item in sublist]\n",
    "        # Count them\n",
    "        count = Counter(flattened_list)\n",
    "        # Order the list from most common (first) to least common (last)\n",
    "        least_common = count.most_common()[-n:]\n",
    "        return [ each[0] for each in least_common ]"
   ]
  },
  {
   "cell_type": "code",
   "execution_count": 8,
   "metadata": {
    "pycharm": {
     "name": "#%%\n"
    }
   },
   "outputs": [
    {
     "name": "stdout",
     "output_type": "stream",
     "text": [
      "Forbidden letters: ['v', 'w', 'z', 'x', 'j', 'q']\n",
      "Time:  0.1810955659999962\n"
     ]
    }
   ],
   "source": [
    "# Example\n",
    "start = timeit.default_timer()\n",
    "letters = forbidden_letters(file='words.txt')\n",
    "print(f\"Forbidden letters: {letters}\")\n",
    "stop = timeit.default_timer()\n",
    "print('Time: ', stop - start)"
   ]
  },
  {
   "cell_type": "code",
   "execution_count": 9,
   "metadata": {
    "pycharm": {
     "name": "#%%\n"
    }
   },
   "outputs": [],
   "source": [
    "# Check how many words are left if we remove the 6 forbidden letters\n",
    "def words_remain(file:str, forbidden_letters:list) -> float:\n",
    "    \"\"\"Returns percentage of words left if we remove the 6 forbidden letters.\"\"\"\n",
    "    with open (file, 'r') as f:\n",
    "        word_list = f.read().split()\n",
    "        remain = [ word for word in word_list if avoids(word, forbidden=\"\".join(forbidden_letters)) ]\n",
    "        return (len(remain)/len(word_list)) * 100"
   ]
  },
  {
   "cell_type": "code",
   "execution_count": 10,
   "metadata": {
    "pycharm": {
     "name": "#%%\n"
    }
   },
   "outputs": [
    {
     "name": "stdout",
     "output_type": "stream",
     "text": [
      "Words remaining: 77.68%\n",
      "Time:  0.23290224600000187\n"
     ]
    }
   ],
   "source": [
    "# Example\n",
    "start = timeit.default_timer()\n",
    "results = words_remain(file='words.txt', forbidden_letters=letters)\n",
    "print(f\"Words remaining: {round(results, 2)}%\")\n",
    "stop = timeit.default_timer()\n",
    "print('Time: ', stop - start)"
   ]
  },
  {
   "cell_type": "markdown",
   "metadata": {
    "pycharm": {
     "name": "#%% md\n"
    }
   },
   "source": [
    "### Ex. 4 _(5 pts)_ A nice word puzzle and an even better programming exercise"
   ]
  },
  {
   "cell_type": "markdown",
   "metadata": {
    "pycharm": {
     "name": "#%% md\n"
    }
   },
   "source": [
    "#### What is the longest English word, that remains a valid English word, as you remove its letters one at a time?\n",
    "\n",
    "Now, letters can be removed from either end, or the middle, but you can’t rearrange any\n",
    "of the letters. Every time you drop a letter, you wind up with another English word. If\n",
    "you do that, you’re eventually going to wind up with one letter and that too is going to be\n",
    "an English word—one that’s found in the dictionary. We want to know what’s the longest\n",
    "word and how many letters does it have?\n",
    "\n",
    "Here is a little modest example: Sprite. You start off with sprite, you take a letter off, one\n",
    "from the interior of the word, take the r away, and we’re left with the word spite, then we\n",
    "take the e off the end, we’re left with spit, we take the s off, we’re left with pit, it, and I. (Ex.\n",
    "12.4 from Think Python, adapted from http://www.cartalk.com/content/puzzlers.)\n",
    "\n",
    "Write a program to find all words that can be reduced in this way, and then find the longest\n",
    "one. Use the file words.txt as a dictionary of valid words for this exercise.\n",
    "\n",
    "This exercise is a little more challenging than most and a few hints are given for solving this\n",
    "problem are given in Think Python. When trying this exercise please note that the provided\n",
    "list of words words.txt does not contain the one letter words ‘a’ and ‘i’, you might want\n",
    "to add them to your list of words. (Depending on your approach you might also want to\n",
    "add the empty word ' ' )"
   ]
  },
  {
   "cell_type": "code",
   "execution_count": 11,
   "metadata": {
    "pycharm": {
     "name": "#%%\n"
    }
   },
   "outputs": [],
   "source": [
    "# Turn word list into a dictionary (add a and i)\n",
    "def create_dictionary(file:str) -> dict:\n",
    "    \"\"\"Create a dictionary from a list of words in a .txt file\"\"\"\n",
    "    with open (file, 'r') as f:\n",
    "        # Create list of all the letters\n",
    "        word_list = f.read().split()\n",
    "        # Manually add 'a' and 'i'\n",
    "        word_list.append('a')\n",
    "        word_list.append('i')\n",
    "        return { word:True for word in word_list }"
   ]
  },
  {
   "cell_type": "code",
   "execution_count": 12,
   "metadata": {},
   "outputs": [],
   "source": [
    "def is_real(word:str, word_dic:dict) -> bool:\n",
    "    \"\"\"Checks if word exists in dictionary\"\"\"\n",
    "    if word_dic.get(word):\n",
    "        return True\n",
    "    return False"
   ]
  },
  {
   "cell_type": "code",
   "execution_count": 13,
   "metadata": {},
   "outputs": [],
   "source": [
    "def is_reducible(word:str, word_dic:dict) -> bool:\n",
    "    \"\"\"Checks if word can be reduced to other existing words\"\"\"        \n",
    "    # Get all possible words if you remove one letter\n",
    "    possible_words = [ word[:i] + word[i+1:] for i in range(len(word)) if word_dic.get(str(word[:i] + word[i+1:]))]\n",
    "\n",
    "    for new_word in possible_words:\n",
    "        # Check if the remaining word exists\n",
    "        if is_real(new_word, word_dic):\n",
    "            \n",
    "            # Only continue to reduce it of it's more than 1 letter long\n",
    "            if len(new_word) > 1:\n",
    "                return is_reducible(new_word, word_dic)  \n",
    "                \n",
    "            elif len(new_word) == 1:\n",
    "                return True     \n",
    "            \n",
    "        return False"
   ]
  },
  {
   "cell_type": "code",
   "execution_count": 14,
   "metadata": {},
   "outputs": [],
   "source": [
    "def all_reducible(dic_file:str='words.txt'):\n",
    "    \"\"\"Find find all the words that can be reduced one letter a a timee and still be an existing word\"\"\"\n",
    "    # Create word dic\n",
    "    word_dic = create_dictionary(file=dic_file)\n",
    "\n",
    "    # Check every word in the dic to see if it's reducible\n",
    "    reducible_list = [ word for word in list(word_dic.keys()) if is_reducible(word=word, word_dic=word_dic) ] \n",
    "\n",
    "    return reducible_list"
   ]
  },
  {
   "cell_type": "code",
   "execution_count": 15,
   "metadata": {},
   "outputs": [
    {
     "name": "stdout",
     "output_type": "stream",
     "text": [
      "Time:  1.112044699000002\n"
     ]
    }
   ],
   "source": [
    "# Get all the reducible words from the list\n",
    "start = timeit.default_timer()\n",
    "reducible_list = all_reducible()\n",
    "stop = timeit.default_timer()\n",
    "print('Time: ', stop - start)"
   ]
  },
  {
   "cell_type": "code",
   "execution_count": 16,
   "metadata": {},
   "outputs": [
    {
     "name": "stdout",
     "output_type": "stream",
     "text": [
      "Found 7024 reducible words in the given dictionary.\n",
      "Longest reducible word in the given dictionary is: 'complecting'\n"
     ]
    }
   ],
   "source": [
    "# Get the longest one\n",
    "print(f\"Found {len(reducible_list)} reducible words in the given dictionary.\")\n",
    "print(f\"Longest reducible word in the given dictionary is: '{max(reducible_list, key = len)}'\")"
   ]
  },
  {
   "cell_type": "markdown",
   "metadata": {},
   "source": [
    "### Ex. 2 _(7 pts)_ Eight queens\n",
    "\n",
    "The game of chess is played on a checkered board consisting of 64 squares arranged on an\n",
    "8 by 8 grid. Different types of pieces are placed on the board, each of which is allowed\n",
    "different types of moves. A piece can capture another piece (which is subsequently removed\n",
    "from the board) if it can move to the square occupied by the other piece in a single turn.\n",
    "Here, we are not really interested in the rules of the game, instead, we are only interested\n",
    "in the movements of the piece called queen. The queen is the most powerful piece in chess,\n",
    "it can move along the board in any direction, horizontally, vertically one or more squares.\n",
    "Thus any other piece placed in a straight horizontal, vertical, or diagonal line (with no\n",
    "intervening pieces) can be captured by the queen. The “eight queens” problem asks you to\n",
    "place as many queens as possible on a chessboard so that no queen can capture any other\n",
    "queen. (Note, that there cannot be more than 8 queens on an 8 by 8 chessboard, as this\n",
    "requires at least one row and column to contain more than one queen, each of which would\n",
    "be able to capture the other.)"
   ]
  },
  {
   "cell_type": "markdown",
   "metadata": {},
   "source": [
    "#### (a) _(4 pts)_ Write a program that finds and prints a solution for the eight queens problem, placing eight queens on the board in such a way that no queen can capture any other. \n",
    "\n",
    "(In chess, columns are labeled a to h (left to right) and rows 1 to 8 (bottom to top). You can print the positions as a1, b5, c3, . . . for the eight queens.)"
   ]
  },
  {
   "cell_type": "code",
   "execution_count": 17,
   "metadata": {},
   "outputs": [],
   "source": [
    "def is_available(pos) -> bool:\n",
    "    \"\"\"Check if a queen can be placed without being caught in the given position on the board\"\"\"\n",
    "    # Check is spot is viable for a queen\n",
    "    m,n = pos\n",
    "    size = len(board)\n",
    "\n",
    "    # Check out horizontal (rows) and horizontal (columns)\n",
    "    for k in range(0,size):\n",
    "        if board[m][k]==1 or board[k][n]==1:\n",
    "            return False\n",
    "\n",
    "    # Check out in diagonal\n",
    "    for k in range(0,size):\n",
    "        for l in range(0,size):\n",
    "            if (k+l==m+n) or (k-l==m-n):\n",
    "                if board[k][l]==1:\n",
    "                    return False\n",
    "    return True\n"
   ]
  },
  {
   "cell_type": "code",
   "execution_count": 18,
   "metadata": {},
   "outputs": [],
   "source": [
    "def arrange_queens(n:int=8, start:int=0) -> bool:\n",
    "    \"\"\"Arrange a given number of queens on the board so they won't capture eachother\"\"\"\n",
    "    if n==0:\n",
    "        return True\n",
    "\n",
    "    for j in range(0,N):\n",
    "\n",
    "        # If the spot is available\n",
    "        if (is_available((start,j))) and (board[start][j]!=1):\n",
    "\n",
    "            # Add queen\n",
    "            board[start][j] = 1\n",
    "\n",
    "            # Backtrack\n",
    "            if arrange_queens(n-1, start=start+1):\n",
    "                return True\n",
    "            \n",
    "\n",
    "            board[start][j] = 0\n",
    "    return False"
   ]
  },
  {
   "cell_type": "code",
   "execution_count": 19,
   "metadata": {},
   "outputs": [
    {
     "name": "stdout",
     "output_type": "stream",
     "text": [
      "Board:\n",
      "[[0 1 0 0]\n",
      " [0 0 0 1]\n",
      " [1 0 0 0]\n",
      " [0 0 1 0]]\n",
      "\n",
      "Successfully placed 4 queens: ['4b', '3d', '2a', '1c']\n"
     ]
    }
   ],
   "source": [
    "# Create an 8x8 empty matrix\n",
    "N = 4\n",
    "board = np.zeros((N, N), dtype=int)\n",
    "queens_placed = []\n",
    "\n",
    "# Arrange n queens on the board\n",
    "arrange_queens(N)\n",
    "print(f'Board:\\n{board}')\n",
    "\n",
    "# Find where the queens are placed\n",
    "for i in range(0,N):\n",
    "    for j in range(0,N):\n",
    "        if board[i][j]==1:\n",
    "\n",
    "            # Add to list as letter-number combo:  \n",
    "            # letter should be +1 (python's num start at 0), \n",
    "            # numbers go from bottom (1) to top (8)\n",
    "\n",
    "            queens_placed.append(f\"{-i+N}{chr(ord('`')+j+1)}\")\n",
    "\n",
    "# Print out queen coordinates\n",
    "if len(queens_placed) == N:\n",
    "    print(f'\\nSuccessfully placed {N} queens: {queens_placed}')\n"
   ]
  },
  {
   "cell_type": "markdown",
   "metadata": {},
   "source": [
    "#### (b) _(0 pts)_ Make sure your program is able to also solve the more general problem of placing n queens on an n ×n board."
   ]
  },
  {
   "cell_type": "code",
   "execution_count": 20,
   "metadata": {},
   "outputs": [
    {
     "name": "stdout",
     "output_type": "stream",
     "text": [
      "Board:\n",
      "[[0 1 0 0 0 0]\n",
      " [0 0 0 1 0 0]\n",
      " [0 0 0 0 0 1]\n",
      " [1 0 0 0 0 0]\n",
      " [0 0 1 0 0 0]\n",
      " [0 0 0 0 1 0]]\n",
      "\n",
      "Successfully placed 6 queens: ['6b', '5d', '4f', '3a', '2c', '1e']\n"
     ]
    }
   ],
   "source": [
    "# Changed the 8 to 6 --  works! (anything over 10 will take foreveeeer to load)\n",
    "# I tried using a wrapper function but since I'm not returning the board variable it doesn't work\n",
    "\n",
    "N = 6\n",
    "board = np.zeros((N, N), dtype=int)\n",
    "queens_placed = []\n",
    "# Arrange n queens on the board\n",
    "arrange_queens(N)\n",
    "print(f'Board:\\n{board}')\n",
    "\n",
    "# Find where the queens are placed\n",
    "for i in range(0,N):\n",
    "    for j in range(0,N):\n",
    "        if board[i][j]==1:\n",
    "            # Add to list as letter-number combo:  \n",
    "            # letter should be +1 (python's num start at 0), \n",
    "            # numbers go from bottom (1) to top (8)\n",
    "            queens_placed.append(f\"{-i+N}{chr(ord('`')+j+1)}\")\n",
    "\n",
    "# Print out queen coordinates\n",
    "if len(queens_placed) == N:\n",
    "    print(f'\\nSuccessfully placed {N} queens: {queens_placed}')"
   ]
  },
  {
   "cell_type": "markdown",
   "metadata": {},
   "source": [
    "#### (c)  _(3 pts)_ Modify your program to find the total number of possible solutions to the n queens problem instead of a single solution. \n",
    "\n",
    "(You do not need to print all the solutions, just determine the number of possible solutions!) "
   ]
  },
  {
   "cell_type": "code",
   "execution_count": 21,
   "metadata": {},
   "outputs": [],
   "source": [
    "def arrange_queens(n:int=8, start:int=0) -> bool:\n",
    "    \"\"\"Arrange a given number of queens on the board so they won't capture eachother\"\"\"\n",
    "    if n==0:\n",
    "        global solutions\n",
    "        \n",
    "        # add current solution to total\n",
    "        solutions.append(deepcopy(board))\n",
    "        return True\n",
    "\n",
    "    for j in range(0,N):\n",
    "        # If the spot is available\n",
    "        if (is_available((start,j))) and (board[start][j]!=1):\n",
    "\n",
    "            # Add queen\n",
    "            board[start][j] = 1\n",
    "\n",
    "            # Backtrack\n",
    "            arrange_queens(n-1, start=start+1)\n",
    "            \n",
    "            # Clear\n",
    "            board[start][j] = 0\n",
    "            \n",
    "    return False"
   ]
  },
  {
   "cell_type": "code",
   "execution_count": 32,
   "metadata": {},
   "outputs": [
    {
     "name": "stdout",
     "output_type": "stream",
     "text": [
      "Unique solutions:\n",
      " 2\n",
      "\n",
      "Solution Board 0:\n",
      " [[0 1 0 0]\n",
      " [0 0 0 1]\n",
      " [1 0 0 0]\n",
      " [0 0 1 0]]\n",
      "\n",
      "Solution Board 1:\n",
      " [[0 0 1 0]\n",
      " [1 0 0 0]\n",
      " [0 0 0 1]\n",
      " [0 1 0 0]]\n"
     ]
    }
   ],
   "source": [
    "# Create an 8x8 empty matrix\n",
    "N = 4\n",
    "board = np.zeros((N, N), dtype=int)\n",
    "solutions = []\n",
    "\n",
    "# Arrange n queens on the board\n",
    "arrange_queens(N)\n",
    "\n",
    "print(\"Unique solutions:\\n\",len(solutions))\n",
    "\n",
    "for i, sol in enumerate(solutions):\n",
    "    print(f\"\\nSolution Board {i}:\\n\",sol)"
   ]
  },
  {
   "cell_type": "markdown",
   "metadata": {},
   "source": [
    "#### What is the smallest n, for which at least one solution exists? What is the smallest n, for which more than one solution exists? \n",
    "(For this exercise you do not need to print the individual solutions.)\n"
   ]
  },
  {
   "cell_type": "markdown",
   "metadata": {},
   "source": [
    "* The smallest n for which at least one solution exists is n=0 (since tecnically the board will be empty). The next one would be n=1, that also has 1 solution.\n",
    "* The smallest n for which more than one solution exists is n=4, which has 2 possible solutions."
   ]
  },
  {
   "cell_type": "markdown",
   "metadata": {},
   "source": [
    "#### (d) _(0 pts)_ Depending on your approach and implementation, you might be able to also determine the number of possible solutions for the n queens problems also for larger n > 8 in a reasonable time. How large is n allowed to be so that your implementation/algorithm finds the number of possible solution within a few seconds?"
   ]
  },
  {
   "cell_type": "markdown",
   "metadata": {},
   "source": [
    "* n=10 is the largest implementation of the algorithm that does not take more than a few seconds to solve"
   ]
  }
 ],
 "metadata": {
  "kernelspec": {
   "display_name": "Python 3",
   "language": "python",
   "name": "python3"
  },
  "language_info": {
   "codemirror_mode": {
    "name": "ipython",
    "version": 3
   },
   "file_extension": ".py",
   "mimetype": "text/x-python",
   "name": "python",
   "nbconvert_exporter": "python",
   "pygments_lexer": "ipython3",
   "version": "3.8.8"
  }
 },
 "nbformat": 4,
 "nbformat_minor": 1
}
