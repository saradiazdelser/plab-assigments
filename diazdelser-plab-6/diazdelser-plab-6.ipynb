{
 "cells": [
  {
   "cell_type": "markdown",
   "source": [
    "# Handout 05\n",
    "#### Sara Díaz del Ser"
   ],
   "metadata": {
    "collapsed": false
   }
  },
  {
   "cell_type": "code",
   "execution_count": 20,
   "outputs": [],
   "source": [
    "import matplotlib.pyplot as plt\n",
    "import numpy as np\n",
    "from termcolor import colored\n",
    "plt.style.use('dark_background')\n",
    "from data.showtree import showtree"
   ],
   "metadata": {
    "collapsed": false,
    "pycharm": {
     "name": "#%%\n"
    }
   }
  },
  {
   "cell_type": "code",
   "execution_count": 2,
   "outputs": [],
   "source": [
    "# Files\n",
    "small_distances_file = './data/small-distances.txt'\n",
    "diistances_file = './data/distances.txt'"
   ],
   "metadata": {
    "collapsed": false,
    "pycharm": {
     "name": "#%%\n"
    }
   }
  },
  {
   "cell_type": "markdown",
   "source": [
    "### Ex. 1 _(15 pts)_ Hierarchical clustering algorithm"
   ],
   "metadata": {
    "collapsed": false
   }
  },
  {
   "cell_type": "markdown",
   "source": [
    "#### (a) _(2 pts)_ Reading in distance matrices\n",
    "Assume that all the distances have already been calculated and are stored in a text file\n",
    "similar to the Blosum matrices of the previous weeks. Two files, one containing pair-\n",
    "wise distances between 5 objects (```small-distances.txt```) and one containing pairwise\n",
    "distances between 13 objects (```distances.txt```) are given. Write a function that is able\n",
    "to read distance matrices and store them, for instance, in a dictionary of dictionaries\n",
    "so that distances can be accessed like ```dist['D']['B']```."
   ],
   "metadata": {
    "collapsed": false
   }
  },
  {
   "cell_type": "code",
   "execution_count": 33,
   "outputs": [],
   "source": [
    "def read_distance_matrix(filename:str) -> dict:\n",
    "\t\"\"\"Read a distance matrix from a .txt file and return it as a dictionary\"\"\"\n",
    "\twith open(small_distances_file, 'r') as f:\n",
    "\t\tfile = [ list(filter(None, row.strip().split(' '))) for row in f.readlines() ]\n",
    "\t# Save first row as headers\n",
    "\theader = file[0]\n",
    "\t# Strip first column (is also headers)\n",
    "\tmatrix = [ x[1:] for x in file[1:]]\n",
    "\n",
    "\td = { key : dict(zip(header, val)) for key,val in dict(zip(header, matrix)).items() }\n",
    "\treturn d"
   ],
   "metadata": {
    "collapsed": false,
    "pycharm": {
     "name": "#%%\n"
    }
   }
  },
  {
   "cell_type": "code",
   "execution_count": 73,
   "outputs": [
    {
     "data": {
      "text/plain": "'2'"
     },
     "execution_count": 73,
     "metadata": {},
     "output_type": "execute_result"
    }
   ],
   "source": [
    "# Test it\n",
    "d = read_distance_matrix(diistances_file)\n",
    "d['D']['B']"
   ],
   "metadata": {
    "collapsed": false,
    "pycharm": {
     "name": "#%%\n"
    }
   }
  },
  {
   "cell_type": "markdown",
   "source": [
    "#### (b) _(2 pts)_ Number of elements of a nested tuple\n",
    "First, write a function that counts the number of elementary objects in a nested tuple.\n",
    "I.e., the function should return 3 for (('A','B'),'C') and 5 for ((('A','B'),'C'),('D','E')).\n",
    "This function will be helpful when determining cluster distances."
   ],
   "metadata": {
    "collapsed": false
   }
  },
  {
   "cell_type": "code",
   "execution_count": 38,
   "outputs": [],
   "source": [
    "# Flatten the nested tuples\n",
    "def flatten(nested_tuple):\n",
    "\t\"\"\"Generator that flattens a tuple\"\"\"\n",
    "\tfor i in nested_tuple:\n",
    "\t\tyield from [i] if not isinstance(i, tuple) else flatten(i)"
   ],
   "metadata": {
    "collapsed": false,
    "pycharm": {
     "name": "#%%\n"
    }
   }
  },
  {
   "cell_type": "code",
   "execution_count": 39,
   "outputs": [],
   "source": [
    "# Get length of flattened generator\n",
    "def n_elements(nested_tuple):\n",
    "\t\"\"\"Number of elementary objects in a nested tuple\"\"\"\n",
    "\tg = flatten(nested_tuple)\n",
    "\treturn sum(1 for _ in g)"
   ],
   "metadata": {
    "collapsed": false,
    "pycharm": {
     "name": "#%%\n"
    }
   }
  },
  {
   "cell_type": "code",
   "execution_count": 40,
   "outputs": [
    {
     "name": "stdout",
     "output_type": "stream",
     "text": [
      "3\n",
      "5\n"
     ]
    }
   ],
   "source": [
    "# Test it\n",
    "print(n_elements((('A','B'),'C')))\n",
    "print(n_elements(((('A','B'),'C'),('D','E'))))"
   ],
   "metadata": {
    "collapsed": false,
    "pycharm": {
     "name": "#%%\n"
    }
   }
  },
  {
   "cell_type": "markdown",
   "source": [
    "#### (c) _(4 pts)_ Merging clusters\n",
    "When two clusters are merged the distance of the merged cluster to all other clusters\n",
    "has to be determined. Given two clusters R and S that are merged to a new cluster\n",
    "M = (R, S) the distance of M to a cluster T can be determined using\n",
    "\n",
    "$$ d(M, T) = \\frac{1}{|R|+|S|} *(|R| d(R, T) + |S| d(S, T)) $$\n",
    "\n",
    "Write a function taking three parameters: a distance matrix (i.e. a dictionary of dic-\n",
    "tionaries as in exercise 1) and two clusters (represented as strings/tuples) that merges\n",
    "two clusters by updating the distance matrix.\n",
    "\n",
    "Note, that after merging clusters R and S to cluster M = (R, S) the clusters R and\n",
    "S are no longer needed. Their keys should be removed from the distance matrix. You\n",
    "can use del ```dist[key]``` to remove a key from a dictionary. To remove R, for instance,\n",
    "you not only need to remove ```dist[R]``` but also ```dist[T][R]``` for all other clusters T.\n"
   ],
   "metadata": {
    "collapsed": false,
    "pycharm": {
     "name": "#%% md\n"
    }
   }
  },
  {
   "cell_type": "code",
   "execution_count": 67,
   "outputs": [],
   "source": [
    "def calc_distance(dist:dict, R:str or tuple, S:str or tuple, T:str or tuple):\n",
    "\t\"\"\"Calculate distance from merged (RS) node to new (T) node\"\"\"\n",
    "\t# Calculate R, S and T\n",
    "\tnR = n_elements(R)\n",
    "\tnS = n_elements(S)\n",
    "\tnT = n_elements(T)\n",
    "\treturn (1/(abs(nR)+abs(nS)))*(int(abs(nR)* dist[R][T]) + int(abs(nS)*dist[S][T]))"
   ],
   "metadata": {
    "collapsed": false,
    "pycharm": {
     "name": "#%%\n"
    }
   }
  },
  {
   "cell_type": "code",
   "execution_count": 74,
   "outputs": [],
   "source": [
    "def cluster_merger(dist:dict, R:str or tuple, S:str or tuple) -> dict:\n",
    "\t\"\"\"Merges the given two clusters\"\"\"\n",
    "\t# Merge cluster\n",
    "\tnew_cluster = (R,S)\n",
    "\n",
    "\t# Add merged node to the distance matrix\n",
    "\tdist[new_cluster] = { node : calc_distance(dist,R,S,node) for node in dist.keys()}\n",
    "\t[ row.update({ new_cluster: calc_distance(dist,R,S,node) }) for node,row in dist.items()]\n",
    "\n",
    "\t# Remove keys from distance matrix\n",
    "\tdist.pop(R)\n",
    "\tdist.pop(S)\n",
    "\t[ (row.pop(S), row.pop(R)) for row in dist.values()]\n",
    "\n",
    "\treturn dist"
   ],
   "metadata": {
    "collapsed": false,
    "pycharm": {
     "name": "#%%\n"
    }
   }
  },
  {
   "cell_type": "code",
   "execution_count": 75,
   "outputs": [
    {
     "data": {
      "text/plain": "{'B': {'B': '0', 'D': '2', 'E': '3', ('A', 'C'): 4.5},\n 'D': {'B': '2', 'D': '0', 'E': '3', ('A', 'C'): 2.5},\n 'E': {'B': '3', 'D': '3', 'E': '0', ('A', 'C'): 5.5},\n ('A', 'C'): {'B': 4.5, 'D': 2.5, 'E': 5.5, ('A', 'C'): 0.0}}"
     },
     "execution_count": 75,
     "metadata": {},
     "output_type": "execute_result"
    }
   ],
   "source": [
    "cluster_merger(d,'A','C')"
   ],
   "metadata": {
    "collapsed": false,
    "pycharm": {
     "name": "#%%\n"
    }
   }
  },
  {
   "cell_type": "markdown",
   "source": [
    "### (d) _(3 pts)_ Find closest clusters\n",
    "Write a function that takes a distance matrix as input and returns the two clusters that\n",
    "should be merged, i.e. whose distance is smallest."
   ],
   "metadata": {
    "collapsed": false,
    "pycharm": {
     "name": "#%% md\n"
    }
   }
  },
  {
   "cell_type": "code",
   "execution_count": 43,
   "outputs": [
    {
     "data": {
      "text/plain": "{'A': {'A': '0', 'B': '4', 'C': '1', 'D': '2', 'E': '5'},\n 'B': {'A': '4', 'B': '0', 'C': '5', 'D': '2', 'E': '3'},\n 'C': {'A': '1', 'B': '5', 'C': '0', 'D': '3', 'E': '6'},\n 'D': {'A': '2', 'B': '2', 'C': '3', 'D': '0', 'E': '3'},\n 'E': {'A': '5', 'B': '3', 'C': '6', 'D': '3', 'E': '0'}}"
     },
     "execution_count": 43,
     "metadata": {},
     "output_type": "execute_result"
    }
   ],
   "source": [
    "def find_closest_clusters(dist_matrix) -> list:\n",
    "\t\"\"\"Find the two clusters whose distance is smallest \"\"\"\n",
    "\treturn"
   ],
   "metadata": {
    "collapsed": false,
    "pycharm": {
     "name": "#%%\n"
    }
   }
  },
  {
   "cell_type": "markdown",
   "source": [
    "### (e) _(4 pts)_ Hierarchical clustering\n",
    "Write a function implementing the hierarchical clustering according to the pseudocode.\n",
    "The function should return the final clustering as a tuple and the heights for each\n",
    "cluster. The height should be stored as a dictionary, where the key is the cluster and\n",
    "the value the height. Test your program using the two files ```small-distances.txt``` and\n",
    "```distances.txt```. To visualize the result you can use the function ```showtree``` provided in\n",
    "```showtree.py``` by copying that file from the workshop folder and using:\n",
    " ```from showtree import showtree```"
   ],
   "metadata": {
    "collapsed": false
   }
  }
 ],
 "metadata": {
  "kernelspec": {
   "display_name": "Python 3",
   "language": "python",
   "name": "python3"
  },
  "language_info": {
   "codemirror_mode": {
    "name": "ipython",
    "version": 2
   },
   "file_extension": ".py",
   "mimetype": "text/x-python",
   "name": "python",
   "nbconvert_exporter": "python",
   "pygments_lexer": "ipython2",
   "version": "2.7.6"
  }
 },
 "nbformat": 4,
 "nbformat_minor": 0
}