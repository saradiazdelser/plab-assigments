{
 "cells": [
  {
   "cell_type": "markdown",
   "source": [
    "# Handout 06 – RESUMBITED\n",
    "#### Sara Díaz del Ser\n",
    "\n",
    "In collaboration with Paula Romero"
   ],
   "metadata": {
    "collapsed": false
   }
  },
  {
   "cell_type": "code",
   "execution_count": 218,
   "outputs": [],
   "source": [
    "import matplotlib.pyplot as plt\n",
    "import numpy as np\n",
    "import pandas as pd\n",
    "from termcolor import colored\n",
    "plt.style.use('dark_background')\n",
    "from data.showtree import showtree, asciitree"
   ],
   "metadata": {
    "collapsed": false,
    "pycharm": {
     "name": "#%%\n"
    }
   }
  },
  {
   "cell_type": "code",
   "execution_count": 219,
   "outputs": [],
   "source": [
    "# Files\n",
    "small_distances_file = './data/small-distances.txt'\n",
    "diistances_file = './data/distances.txt'"
   ],
   "metadata": {
    "collapsed": false,
    "pycharm": {
     "name": "#%%\n"
    }
   }
  },
  {
   "cell_type": "markdown",
   "source": [
    "### Ex. 1 _(15 pts)_ Hierarchical clustering algorithm"
   ],
   "metadata": {
    "collapsed": false
   }
  },
  {
   "cell_type": "markdown",
   "source": [
    "#### (a) _(2 pts)_ Reading in distance matrices\n",
    "Assume that all the distances have already been calculated and are stored in a text file\n",
    "similar to the Blosum matrices of the previous weeks. Two files, one containing pair-\n",
    "wise distances between 5 objects (```small-distances.txt```) and one containing pairwise\n",
    "distances between 13 objects (```distances.txt```) are given. Write a function that is able\n",
    "to read distance matrices and store them, for instance, in a dictionary of dictionaries\n",
    "so that distances can be accessed like ```dist['D']['B']```."
   ],
   "metadata": {
    "collapsed": false
   }
  },
  {
   "cell_type": "code",
   "execution_count": 220,
   "outputs": [],
   "source": [
    "def read_distance_matrix(filename:str) -> dict:\n",
    "\t\"\"\"Read a distance matrix from a .txt file and return it as a dictionary\"\"\"\n",
    "\twith open(filename, 'r') as f:\n",
    "\t\tfile = [ list(filter(None, row.strip().split(' '))) for row in f.readlines() ]\n",
    "\t# Save first row as headers\n",
    "\theader = file[0]\n",
    "\t# Strip first column (is also headers)\n",
    "\t# map(int, val) turns all numbers into int instead of str\n",
    "\tmatrix = [ list(map(int,x[1:])) for x in file[1:]]\n",
    "\n",
    "\td = { key : dict(zip(header, val)) for key,val in dict(zip(header, matrix)).items() }\n",
    "\treturn d"
   ],
   "metadata": {
    "collapsed": false,
    "pycharm": {
     "name": "#%%\n"
    }
   }
  },
  {
   "cell_type": "code",
   "execution_count": 221,
   "outputs": [
    {
     "data": {
      "text/plain": "2"
     },
     "execution_count": 221,
     "metadata": {},
     "output_type": "execute_result"
    }
   ],
   "source": [
    "# Test it\n",
    "d = read_distance_matrix(small_distances_file)\n",
    "d['D']['B']"
   ],
   "metadata": {
    "collapsed": false,
    "pycharm": {
     "name": "#%%\n"
    }
   }
  },
  {
   "cell_type": "markdown",
   "source": [
    "#### (b) _(2 pts)_ Number of elements of a nested tuple\n",
    "First, write a function that counts the number of elementary objects in a nested tuple.\n",
    "I.e., the function should return 3 for (('A','B'),'C') and 5 for ((('A','B'),'C'),('D','E')).\n",
    "This function will be helpful when determining cluster distances."
   ],
   "metadata": {
    "collapsed": false
   }
  },
  {
   "cell_type": "code",
   "execution_count": 222,
   "outputs": [],
   "source": [
    "# Flatten the nested tuples\n",
    "def flatten(nested_tuple):\n",
    "\t\"\"\"Generator that flattens a tuple\"\"\"\n",
    "\tfor i in nested_tuple:\n",
    "\t\tyield from [i] if not isinstance(i, tuple) else flatten(i)"
   ],
   "metadata": {
    "collapsed": false,
    "pycharm": {
     "name": "#%%\n"
    }
   }
  },
  {
   "cell_type": "code",
   "execution_count": 223,
   "outputs": [],
   "source": [
    "# Get length of flattened generator\n",
    "def n_elements(nested_tuple):\n",
    "\t\"\"\"Number of elementary objects in a nested tuple\"\"\"\n",
    "\tg = flatten(nested_tuple)\n",
    "\treturn sum(1 for _ in g)"
   ],
   "metadata": {
    "collapsed": false,
    "pycharm": {
     "name": "#%%\n"
    }
   }
  },
  {
   "cell_type": "code",
   "execution_count": 224,
   "outputs": [
    {
     "name": "stdout",
     "output_type": "stream",
     "text": [
      "3\n",
      "5\n"
     ]
    }
   ],
   "source": [
    "# Test it\n",
    "print(n_elements((('A','B'),'C')))\n",
    "print(n_elements(((('A','B'),'C'),('D','E'))))"
   ],
   "metadata": {
    "collapsed": false,
    "pycharm": {
     "name": "#%%\n"
    }
   }
  },
  {
   "cell_type": "markdown",
   "source": [
    "#### (c) _(4 pts)_ Merging clusters\n",
    "When two clusters are merged the distance of the merged cluster to all other clusters\n",
    "has to be determined. Given two clusters R and S that are merged to a new cluster\n",
    "M = (R, S) the distance of M to a cluster T can be determined using\n",
    "\n",
    "$$ d(M, T) = \\frac{1}{|R|+|S|} *(|R| d(R, T) + |S| d(S, T)) $$\n",
    "\n",
    "Write a function taking three parameters: a distance matrix (i.e. a dictionary of dic-\n",
    "tionaries as in exercise 1) and two clusters (represented as strings/tuples) that merges\n",
    "two clusters by updating the distance matrix.\n",
    "\n",
    "Note, that after merging clusters R and S to cluster M = (R, S) the clusters R and\n",
    "S are no longer needed. Their keys should be removed from the distance matrix. You\n",
    "can use del ```dist[key]``` to remove a key from a dictionary. To remove R, for instance,\n",
    "you not only need to remove ```dist[R]``` but also ```dist[T][R]``` for all other clusters T.\n"
   ],
   "metadata": {
    "collapsed": false,
    "pycharm": {
     "name": "#%% md\n"
    }
   }
  },
  {
   "cell_type": "code",
   "execution_count": 225,
   "outputs": [],
   "source": [
    "def calc_distance(dist:dict, R:str or tuple, S:str or tuple, T:str or tuple):\n",
    "\t\"\"\"Calculate distance from merged (RS) node to new (T) node\"\"\"\n",
    "\t# Calculate R, S and T\n",
    "\tnR = n_elements(R)\n",
    "\tnS = n_elements(S)\n",
    "\treturn (1/(abs(nR)+abs(nS)))*(int(abs(nR)* dist[R].get(T,0) + int(abs(nS)*dist[S].get(T,0))))"
   ],
   "metadata": {
    "collapsed": false,
    "pycharm": {
     "name": "#%%\n"
    }
   }
  },
  {
   "cell_type": "code",
   "execution_count": 226,
   "outputs": [],
   "source": [
    "def cluster_merger(dist:dict, R:str or tuple, S:str or tuple) -> tuple:\n",
    "\t\"\"\"Merges the given two clusters\"\"\"\n",
    "\t# Merge cluster\n",
    "\tM = (R,S)\n",
    "\n",
    "\t# Add merged node to the distance matrix\n",
    "\tdist[M] = { node : calc_distance(dist,R,S,node) for node in dist.keys()}\n",
    "\t[ row.update({ M: calc_distance(dist,R,S,node) }) for node,row in dist.items()]\n",
    "\treturn dist, M"
   ],
   "metadata": {
    "collapsed": false,
    "pycharm": {
     "name": "#%%\n"
    }
   }
  },
  {
   "cell_type": "code",
   "execution_count": 227,
   "outputs": [],
   "source": [
    "def remove_clusters(dist:dict, R:str or tuple,S:str or tuple):\n",
    "\t# Remove keys from distance matrix\n",
    "\tdist.pop(R)\n",
    "\tdist.pop(S)\n",
    "\t[ (row.pop(S), row.pop(R)) for row in dist.values()]\n",
    "\n",
    "\treturn dist"
   ],
   "metadata": {
    "collapsed": false,
    "pycharm": {
     "name": "#%%\n"
    }
   }
  },
  {
   "cell_type": "code",
   "execution_count": 228,
   "outputs": [],
   "source": [
    "d, T = cluster_merger(d,'A','C')\n",
    "d = remove_clusters(d,'A','C')"
   ],
   "metadata": {
    "collapsed": false,
    "pycharm": {
     "name": "#%%\n"
    }
   }
  },
  {
   "cell_type": "markdown",
   "source": [
    "### (d) _(3 pts)_ Find closest clusters\n",
    "Write a function that takes a distance matrix as input and returns the two clusters that\n",
    "should be merged, i.e. whose distance is smallest."
   ],
   "metadata": {
    "collapsed": false,
    "pycharm": {
     "name": "#%% md\n"
    }
   }
  },
  {
   "cell_type": "code",
   "execution_count": 229,
   "outputs": [],
   "source": [
    "import copy\n",
    "def find_closest_clusters(dist:dict) -> tuple:\n",
    "\t\"\"\"Find the two clusters in given distance matrix whose distance is smallest\"\"\"\n",
    "\t# Remove same key from nested dict (distance is 0)\n",
    "\tc = copy.deepcopy(dist)\n",
    "\t[ c[key].pop(key) for key,val in c.items()]\n",
    "\t# Find minimum\n",
    "\tminim = [(each, min(c[each],key = c[each].get)) for each in c.keys()]\n",
    "\tdictionary ={ (x,y) : c[x][y] for x,y in minim }\n",
    "\treturn min(dictionary, key=dictionary.get)\n"
   ],
   "metadata": {
    "collapsed": false,
    "pycharm": {
     "name": "#%%\n"
    }
   }
  },
  {
   "cell_type": "code",
   "execution_count": 230,
   "outputs": [
    {
     "data": {
      "text/plain": "('B', 'D')"
     },
     "execution_count": 230,
     "metadata": {},
     "output_type": "execute_result"
    }
   ],
   "source": [
    "find_closest_clusters(d)\n"
   ],
   "metadata": {
    "collapsed": false,
    "pycharm": {
     "name": "#%%\n"
    }
   }
  },
  {
   "cell_type": "markdown",
   "source": [
    "### (e) _(4 pts)_ Hierarchical clustering\n",
    "Write a function implementing the hierarchical clustering according to the pseudocode.\n",
    "The function should return the final clustering as a tuple and the heights for each\n",
    "cluster. The height should be stored as a dictionary, where the key is the cluster and\n",
    "the value the height. Test your program using the two files ```small-distances.txt``` and\n",
    "```distances.txt```. To visualize the result you can use the function ```showtree``` provided in\n",
    "```showtree.py``` by copying that file from the workshop folder and using:\n",
    " ```from showtree import showtree```"
   ],
   "metadata": {
    "collapsed": false
   }
  },
  {
   "cell_type": "code",
   "execution_count": 231,
   "outputs": [],
   "source": [
    "def HierCluster(n, D): #Cluster n objects with pairwise distances D\n",
    "\t# F = all current clusters.\n",
    "\t# Initially, F consists of all n one-element clusters C0.\n",
    "\tF = n\n",
    "\t# Each cluster is associated with a height h.\n",
    "\t# The height of all initial one-element clusters v is h(C0)=0.\n",
    "\theight = { el : 0 for el in F}\n",
    "\t# while There is more than one cluster in F do\n",
    "\twhile len(F)>1:\n",
    "\t\t# Find the two closest clusters C1,C2 according to D\n",
    "\t\tc1,c2 = find_closest_clusters(D)\n",
    "\t\t# Merge C1 and C2 by forming a new cluster C with children C1 and C2.\n",
    "\t\t# Determine the distance of the new cluster C to all clusters in F / (C1,C2)\n",
    "\t\tD, C = cluster_merger(D,c1,c2)\n",
    "\t\t# Set the height of C to D(C1,C2)/2\n",
    "\t\theight[C] = D[c1][c2]/2\n",
    "\t\t# (Remove the distances from and to C1 and C2 from D.)\n",
    "\t\tD = remove_clusters(D,c1,c2)\n",
    "\t\t# Remove C1 and C2 from F and add C to F\n",
    "\t\t# Tuples are immutable so, turn it into a list, remove\n",
    "\t\tF = list(F)\n",
    "\t\tF.remove(c1), F.remove(c2), F.append(C)\n",
    "\t\tF = tuple(F)\n",
    "\t# return final vertex in F\n",
    "\treturn tuple(list(F)[0]), height\n"
   ],
   "metadata": {
    "collapsed": false,
    "pycharm": {
     "name": "#%%\n"
    }
   }
  },
  {
   "cell_type": "code",
   "execution_count": 232,
   "outputs": [],
   "source": [
    "# Test it\n",
    "D = read_distance_matrix(small_distances_file)\n",
    "n = ('A', 'B', 'C', 'D', 'E')\n",
    "tree, height = HierCluster(n, D)"
   ],
   "metadata": {
    "collapsed": false,
    "pycharm": {
     "name": "#%%\n"
    }
   }
  },
  {
   "cell_type": "code",
   "execution_count": 233,
   "outputs": [
    {
     "name": "stdout",
     "output_type": "stream",
     "text": [
      "      |\n",
      "  /---+---\\\n",
      "  |       |\n",
      "  |     /-+---\\\n",
      "  |     |     |\n",
      "/-+-\\   |   /-+-\\\n",
      "|   |   |   |   |\n",
      "A   C   E   B   D\n"
     ]
    }
   ],
   "source": [
    "# Display\n",
    "asciitree(tree)"
   ],
   "metadata": {
    "collapsed": false,
    "pycharm": {
     "name": "#%%\n"
    }
   }
  },
  {
   "cell_type": "code",
   "execution_count": 234,
   "outputs": [],
   "source": [
    "# Test it\n",
    "D2 = read_distance_matrix(diistances_file)\n",
    "n2 = ('A', 'B', 'C', 'D', 'E', 'F', 'G', 'H', 'I', 'J', 'K', 'L', 'M')\n",
    "tree2, height2 = HierCluster(n2, D2)"
   ],
   "metadata": {
    "collapsed": false,
    "pycharm": {
     "name": "#%%\n"
    }
   }
  },
  {
   "cell_type": "code",
   "execution_count": 235,
   "outputs": [
    {
     "name": "stdout",
     "output_type": "stream",
     "text": [
      "  |\n",
      "/-+---------------------------\\\n",
      "|                             |\n",
      "|         /-------------------+-------\\\n",
      "|         |                           |\n",
      "|     /---+---\\                       |\n",
      "|     |       |                       |\n",
      "|     |     /-+-------\\           /---+---\\\n",
      "|     |     |         |           |       |\n",
      "|     |     |     /---+---\\       |     /-+---\\\n",
      "|     |     |     |       |       |     |     |\n",
      "|   /-+-\\   |   /-+-\\   /-+-\\   /-+-\\   |   /-+-\\\n",
      "|   |   |   |   |   |   |   |   |   |   |   |   |\n",
      "M   E   G   J   A   K   B   L   C   H   D   F   I\n"
     ]
    }
   ],
   "source": [
    "# Display\n",
    "asciitree(tree2)"
   ],
   "metadata": {
    "collapsed": false,
    "pycharm": {
     "name": "#%%\n"
    }
   }
  },
  {
   "cell_type": "markdown",
   "source": [
    "### Ex.2 _(Optional: 2 pts)_ Object oriented approach\n",
    "The proposed implementation represents the trees, which in turn represent clusters, as nested\n",
    "tuples. However, Python is (also) an object-oriented language and it seems a good idea to\n",
    "represent clusters using classes. Rewrite the hierarchical clustering code by representing\n",
    "clusters/trees as classes with a set of appropriate methods.\n",
    "\n",
    "To get you started see, for instance,\n",
    "https://stackoverflow.com/questions/36263402/tree-class-implementation-with-node-and-leaf\n",
    "for an implementation of a tree data structure using a base class and two sub-classes rep-\n",
    "resenting either inner nodes or leaves of the tree. For your class you might want to have\n",
    "methods/fields for returning the height or the number of elements, i.e. leaves.\n",
    "\n",
    "You can still use a dictionary for all pairwise distances. However, you will need to im-\n",
    "plement the methods ```__hash__``` and ```__eq__``` for your classes. see, for instance,\n",
    "https://stackoverflow.com/questions/4901815/object-of-custom-type-as-dictionary-key.\n",
    "(Note, that your class should be immutable.)\n",
    "\n",
    "Note, that the modified versions of the clustering functions from exercises 3-5 can remain\n",
    "global functions and do not (or should not) be methods of the class representing the tree.\n",
    "The tree class should just replace the tuple representation and the dictionary keeping track\n",
    "of the heights."
   ],
   "metadata": {
    "collapsed": false,
    "pycharm": {
     "name": "#%% md\n"
    }
   }
  },
  {
   "cell_type": "code",
   "execution_count": 235,
   "outputs": [],
   "source": [],
   "metadata": {
    "collapsed": false,
    "pycharm": {
     "name": "#%%\n"
    }
   }
  },
  {
   "cell_type": "markdown",
   "source": [
    "### Ex 3. _(15 pts)_ Nussinov folding algorithm"
   ],
   "metadata": {
    "collapsed": false,
    "pycharm": {
     "name": "#%% md\n"
    }
   }
  },
  {
   "cell_type": "markdown",
   "source": [
    "#### (a) _(6 pts)_ Nussinov algorithm: Dynamic programming matrix\n",
    "Implement the Nussinov folding algorithm, constructing the dynamic programming\n",
    "matrix N(i, j). Your function should take an RNA sequence as argument and return\n",
    "the completed dynaminc programming matrix."
   ],
   "metadata": {
    "collapsed": false
   }
  },
  {
   "cell_type": "code",
   "execution_count": 236,
   "outputs": [],
   "source": [
    "def delta(i:int,j:int) -> int:\n",
    "\t\"\"\"Checks if bases at position i and j do (1) or do not (0) form a base pair\"\"\"\n",
    "\tglobal rna\n",
    "\tbp = ['UA', 'CG', 'GC', 'AU']\n",
    "\tif str(rna[i])+str(rna[j]) in bp:\n",
    "\t\treturn True\n",
    "\treturn False"
   ],
   "metadata": {
    "collapsed": false,
    "pycharm": {
     "name": "#%%\n"
    }
   }
  },
  {
   "cell_type": "code",
   "execution_count": 237,
   "outputs": [],
   "source": [
    "def Nussinov_matrix(rna:str) -> np.ndarray:\n",
    "\t\"\"\"\n",
    "\tGenerates the dynamic programming matrix N(i, j) for the Nussinov folding algorithm.\n",
    "\t Input: rna sequence\n",
    "\t Output: dynamic programming matrix N(i, j)\n",
    "\t\"\"\"\n",
    "\tN = np.empty((len(rna), len(rna)), dtype=float )\n",
    "\tN[:] = np.NAN\n",
    "\tN[range(len(rna)), range(len(rna))] = 0\n",
    "\tN[range(1, len(rna)), range(len(rna) - 1)] = 0\n",
    "\n",
    "\tn = len(rna)\n",
    "\n",
    "\tfor k in range(n-1):\n",
    "\t\tfor i in range(n-1-k):\n",
    "\t\t\tj = i + k\n",
    "\t\t\tif j-i >= 0:\n",
    "\t\t\t\top1 = N[i+1,j] # down\n",
    "\t\t\t\top2 = N[i,j-1] # left\n",
    "\t\t\t\top3 = N[i+1,j-1] + delta(i,j) # diagonal\n",
    "\t\t\t\top4 = max( [N[i,k] + N[k+1,j] for k in range(i,j)], default=0)\n",
    "\t\t\t\tN[i,j] = max(op1, op2,op3,op4)\n",
    "\n",
    "\treturn N"
   ],
   "metadata": {
    "collapsed": false,
    "pycharm": {
     "name": "#%%\n"
    }
   }
  },
  {
   "cell_type": "code",
   "execution_count": 238,
   "outputs": [
    {
     "name": "stdout",
     "output_type": "stream",
     "text": [
      "     A    U    C    G    G    A    G    C    A    U  ...     A     U     G  \\\n",
      "A  0.0  1.0  1.0  2.0  2.0  2.0  2.0  3.0  3.0  4.0  ...  13.0  13.0  14.0   \n",
      "U  0.0  0.0  0.0  1.0  1.0  2.0  2.0  3.0  3.0  4.0  ...  12.0  12.0  13.0   \n",
      "C  NaN  0.0  0.0  1.0  1.0  1.0  1.0  2.0  2.0  3.0  ...  12.0  12.0  13.0   \n",
      "G  NaN  NaN  0.0  0.0  0.0  0.0  0.0  1.0  1.0  2.0  ...  11.0  12.0  12.0   \n",
      "G  NaN  NaN  NaN  0.0  0.0  0.0  0.0  1.0  1.0  2.0  ...  11.0  11.0  12.0   \n",
      "A  NaN  NaN  NaN  NaN  0.0  0.0  0.0  1.0  1.0  2.0  ...  10.0  10.0  11.0   \n",
      "G  NaN  NaN  NaN  NaN  NaN  0.0  0.0  1.0  1.0  2.0  ...   9.0   9.0  10.0   \n",
      "C  NaN  NaN  NaN  NaN  NaN  NaN  0.0  0.0  0.0  1.0  ...   8.0   8.0   9.0   \n",
      "A  NaN  NaN  NaN  NaN  NaN  NaN  NaN  0.0  0.0  1.0  ...   8.0   8.0   9.0   \n",
      "U  NaN  NaN  NaN  NaN  NaN  NaN  NaN  NaN  0.0  0.0  ...   7.0   7.0   8.0   \n",
      "U  NaN  NaN  NaN  NaN  NaN  NaN  NaN  NaN  NaN  0.0  ...   7.0   7.0   8.0   \n",
      "U  NaN  NaN  NaN  NaN  NaN  NaN  NaN  NaN  NaN  NaN  ...   7.0   7.0   8.0   \n",
      "U  NaN  NaN  NaN  NaN  NaN  NaN  NaN  NaN  NaN  NaN  ...   7.0   7.0   8.0   \n",
      "U  NaN  NaN  NaN  NaN  NaN  NaN  NaN  NaN  NaN  NaN  ...   7.0   7.0   8.0   \n",
      "U  NaN  NaN  NaN  NaN  NaN  NaN  NaN  NaN  NaN  NaN  ...   7.0   7.0   8.0   \n",
      "G  NaN  NaN  NaN  NaN  NaN  NaN  NaN  NaN  NaN  NaN  ...   6.0   7.0   8.0   \n",
      "C  NaN  NaN  NaN  NaN  NaN  NaN  NaN  NaN  NaN  NaN  ...   5.0   6.0   7.0   \n",
      "U  NaN  NaN  NaN  NaN  NaN  NaN  NaN  NaN  NaN  NaN  ...   5.0   6.0   7.0   \n",
      "C  NaN  NaN  NaN  NaN  NaN  NaN  NaN  NaN  NaN  NaN  ...   4.0   5.0   6.0   \n",
      "C  NaN  NaN  NaN  NaN  NaN  NaN  NaN  NaN  NaN  NaN  ...   4.0   5.0   6.0   \n",
      "G  NaN  NaN  NaN  NaN  NaN  NaN  NaN  NaN  NaN  NaN  ...   4.0   5.0   6.0   \n",
      "A  NaN  NaN  NaN  NaN  NaN  NaN  NaN  NaN  NaN  NaN  ...   3.0   4.0   5.0   \n",
      "C  NaN  NaN  NaN  NaN  NaN  NaN  NaN  NaN  NaN  NaN  ...   3.0   4.0   5.0   \n",
      "G  NaN  NaN  NaN  NaN  NaN  NaN  NaN  NaN  NaN  NaN  ...   3.0   4.0   5.0   \n",
      "C  NaN  NaN  NaN  NaN  NaN  NaN  NaN  NaN  NaN  NaN  ...   2.0   3.0   4.0   \n",
      "A  NaN  NaN  NaN  NaN  NaN  NaN  NaN  NaN  NaN  NaN  ...   2.0   3.0   4.0   \n",
      "G  NaN  NaN  NaN  NaN  NaN  NaN  NaN  NaN  NaN  NaN  ...   2.0   2.0   3.0   \n",
      "C  NaN  NaN  NaN  NaN  NaN  NaN  NaN  NaN  NaN  NaN  ...   1.0   1.0   2.0   \n",
      "C  NaN  NaN  NaN  NaN  NaN  NaN  NaN  NaN  NaN  NaN  ...   1.0   1.0   2.0   \n",
      "U  NaN  NaN  NaN  NaN  NaN  NaN  NaN  NaN  NaN  NaN  ...   1.0   1.0   2.0   \n",
      "C  NaN  NaN  NaN  NaN  NaN  NaN  NaN  NaN  NaN  NaN  ...   0.0   1.0   2.0   \n",
      "A  NaN  NaN  NaN  NaN  NaN  NaN  NaN  NaN  NaN  NaN  ...   0.0   1.0   1.0   \n",
      "U  NaN  NaN  NaN  NaN  NaN  NaN  NaN  NaN  NaN  NaN  ...   0.0   0.0   0.0   \n",
      "G  NaN  NaN  NaN  NaN  NaN  NaN  NaN  NaN  NaN  NaN  ...   NaN   0.0   0.0   \n",
      "C  NaN  NaN  NaN  NaN  NaN  NaN  NaN  NaN  NaN  NaN  ...   NaN   NaN   0.0   \n",
      "U  NaN  NaN  NaN  NaN  NaN  NaN  NaN  NaN  NaN  NaN  ...   NaN   NaN   NaN   \n",
      "U  NaN  NaN  NaN  NaN  NaN  NaN  NaN  NaN  NaN  NaN  ...   NaN   NaN   NaN   \n",
      "U  NaN  NaN  NaN  NaN  NaN  NaN  NaN  NaN  NaN  NaN  ...   NaN   NaN   NaN   \n",
      "U  NaN  NaN  NaN  NaN  NaN  NaN  NaN  NaN  NaN  NaN  ...   NaN   NaN   NaN   \n",
      "U  NaN  NaN  NaN  NaN  NaN  NaN  NaN  NaN  NaN  NaN  ...   NaN   NaN   NaN   \n",
      "U  NaN  NaN  NaN  NaN  NaN  NaN  NaN  NaN  NaN  NaN  ...   NaN   NaN   NaN   \n",
      "\n",
      "      C     U     U     U     U     U    U  \n",
      "A  14.0  14.0  14.0  14.0  14.0  14.0  NaN  \n",
      "U  13.0  13.0  13.0  13.0  13.0  13.0  NaN  \n",
      "C  13.0  13.0  13.0  13.0  13.0  13.0  NaN  \n",
      "G  13.0  13.0  13.0  13.0  13.0  13.0  NaN  \n",
      "G  12.0  12.0  12.0  12.0  12.0  12.0  NaN  \n",
      "A  11.0  11.0  11.0  11.0  11.0  11.0  NaN  \n",
      "G  10.0  10.0  10.0  10.0  10.0  10.0  NaN  \n",
      "C   9.0   9.0   9.0   9.0   9.0   9.0  NaN  \n",
      "A   9.0   9.0   9.0   9.0   9.0   9.0  NaN  \n",
      "U   8.0   8.0   8.0   8.0   8.0   8.0  NaN  \n",
      "U   8.0   8.0   8.0   8.0   8.0   8.0  NaN  \n",
      "U   8.0   8.0   8.0   8.0   8.0   8.0  NaN  \n",
      "U   8.0   8.0   8.0   8.0   8.0   8.0  NaN  \n",
      "U   8.0   8.0   8.0   8.0   8.0   8.0  NaN  \n",
      "U   8.0   8.0   8.0   8.0   8.0   8.0  NaN  \n",
      "G   8.0   8.0   8.0   8.0   8.0   8.0  NaN  \n",
      "C   7.0   7.0   7.0   7.0   7.0   7.0  NaN  \n",
      "U   7.0   7.0   7.0   7.0   7.0   7.0  NaN  \n",
      "C   6.0   7.0   7.0   7.0   7.0   7.0  NaN  \n",
      "C   6.0   7.0   7.0   7.0   7.0   7.0  NaN  \n",
      "G   6.0   6.0   6.0   6.0   6.0   6.0  NaN  \n",
      "A   5.0   6.0   6.0   6.0   6.0   6.0  NaN  \n",
      "C   5.0   5.0   5.0   5.0   5.0   5.0  NaN  \n",
      "G   5.0   5.0   5.0   5.0   5.0   5.0  NaN  \n",
      "C   4.0   4.0   4.0   4.0   4.0   4.0  NaN  \n",
      "A   4.0   4.0   4.0   4.0   4.0   4.0  NaN  \n",
      "G   3.0   3.0   3.0   3.0   3.0   3.0  NaN  \n",
      "C   2.0   2.0   2.0   2.0   2.0   2.0  NaN  \n",
      "C   2.0   2.0   2.0   2.0   2.0   2.0  NaN  \n",
      "U   2.0   2.0   2.0   2.0   2.0   2.0  NaN  \n",
      "C   2.0   2.0   2.0   2.0   2.0   2.0  NaN  \n",
      "A   2.0   2.0   2.0   2.0   2.0   2.0  NaN  \n",
      "U   1.0   1.0   1.0   1.0   1.0   1.0  NaN  \n",
      "G   1.0   1.0   1.0   1.0   1.0   1.0  NaN  \n",
      "C   0.0   0.0   0.0   0.0   0.0   0.0  NaN  \n",
      "U   0.0   0.0   0.0   0.0   0.0   0.0  NaN  \n",
      "U   NaN   0.0   0.0   0.0   0.0   0.0  NaN  \n",
      "U   NaN   NaN   0.0   0.0   0.0   0.0  NaN  \n",
      "U   NaN   NaN   NaN   0.0   0.0   0.0  NaN  \n",
      "U   NaN   NaN   NaN   NaN   0.0   0.0  NaN  \n",
      "U   NaN   NaN   NaN   NaN   NaN   0.0  0.0  \n",
      "\n",
      "[41 rows x 41 columns]\n"
     ]
    }
   ],
   "source": [
    "rna = 'AUCGGAGCAUUUUUUGCUCCGACGCAGCCUCAUGCUUUUUU'\n",
    "N = Nussinov_matrix(rna)\n",
    "\n",
    "print(pd.DataFrame(N, index=[ _ for _ in rna ], columns=[ _ for _ in rna ]))"
   ],
   "metadata": {
    "collapsed": false,
    "pycharm": {
     "name": "#%%\n"
    }
   }
  },
  {
   "cell_type": "markdown",
   "source": [
    "#### (b) _(6 pts)_ Nussinov algorithm: Backtracking\n",
    "Given the RNA sequence and the completed dynamic programming matrix N(i, j) as\n",
    "input write a function that returns the list of all matched base pairs.\n"
   ],
   "metadata": {
    "collapsed": false
   }
  },
  {
   "cell_type": "code",
   "execution_count": 250,
   "outputs": [],
   "source": [
    "def backtracking(i,j, pairings):\n",
    "\tglobal N\n",
    "\tglobal rna\n",
    "\n",
    "\t# No base pairing is possible for sequences of length 2 or less\n",
    "\tif i < j:\n",
    "\t\tif N[i,j] == N[i+1,j]:\n",
    "\t\t\tbacktracking(i+1,j, pairings)\n",
    "\n",
    "\t\telif N[i,j] == N[i,j-1]:\n",
    "\t\t\tbacktracking(i,j-1, pairings)\n",
    "\n",
    "\t\telif N[i,j] == N[i+1,j-1] + delta(i,j):\n",
    "\t\t\tpairings.append((i,j))\n",
    "\t\t\tbacktracking(i+1,j-1, pairings)\n",
    "\t\telse:\n",
    "\t\t\t# Look for a k in the range i to j-1 for which N(i, j) = N(i, k) + N(k + 1, j).\n",
    "\t\t\tfor k in range(i+1,j-1):\n",
    "\t\t\t\tif N[i,j] == (N[i,k] + N[k+1,j]):\n",
    "\t\t \t\t\tbacktracking(i,k, pairings)\n",
    "\t\t \t\t\tbacktracking(k+1,j, pairings)\n",
    "\t\t \t\t\tbreak\n",
    "\treturn pairings\n"
   ],
   "metadata": {
    "collapsed": false,
    "pycharm": {
     "name": "#%%\n"
    }
   }
  },
  {
   "cell_type": "code",
   "execution_count": 251,
   "outputs": [
    {
     "name": "stdout",
     "output_type": "stream",
     "text": [
      "List of all matched base pairs in AUCGGAGCAUUUUUUGCUCCGACGCAGCCUCAUGCUUUUUU: \n",
      "[]\n"
     ]
    }
   ],
   "source": [
    "n = len(rna)\n",
    "pairings = []\n",
    "pairing = backtracking(0,n-1, pairings)\n",
    "print(f'List of all matched base pairs in {rna}: \\n{pairing}')"
   ],
   "metadata": {
    "collapsed": false,
    "pycharm": {
     "name": "#%%\n"
    }
   }
  },
  {
   "cell_type": "code",
   "execution_count": 252,
   "outputs": [],
   "source": [
    "pairings = [(0, 1), (2, 33), (3, 30), (4, 28), (5, 10), (6, 7), (8, 9), (14, 25), (15, 16), (17, 21), (19, 20), (22, 23), (26, 27), (31, 32)]"
   ],
   "metadata": {
    "collapsed": false,
    "pycharm": {
     "name": "#%%\n"
    }
   }
  },
  {
   "cell_type": "markdown",
   "source": [
    "#### (c) _(2 pts)_ Display matching base pairs\n",
    "To display the resulting base pairing use parentheses to produce an output as shown\n",
    "above. Use the completed code of the previous exercises to display the optimal base\n",
    "pairing for the sequence:\n",
    "\n",
    "AUCGGAGCAUUUUUUGCUCCGACGCAGCCUCAUGCUUUUUU\n",
    "\n",
    "How many base pairs are found?"
   ],
   "metadata": {
    "collapsed": false
   }
  },
  {
   "cell_type": "code",
   "execution_count": 253,
   "outputs": [
    {
     "name": "stdout",
     "output_type": "stream",
     "text": [
      "Found 14 base pairs.\n"
     ]
    }
   ],
   "source": [
    "print(f'Found {len(pairings)} base pairs.')"
   ],
   "metadata": {
    "collapsed": false,
    "pycharm": {
     "name": "#%%\n"
    }
   }
  },
  {
   "cell_type": "code",
   "execution_count": 254,
   "outputs": [],
   "source": [
    "def display(pairings, rna):\n",
    "\t\"\"\"Display pairings with ()\"\"\"\n",
    "\tdot = [\".\" for i in range(len(rna))]\n",
    "\tfor s in pairings:\n",
    "\t\tdot[min(s)] = \"(\"\n",
    "\t\tdot[max(s)] = \")\"\n",
    "\treturn \"\".join(dot)\n"
   ],
   "metadata": {
    "collapsed": false,
    "pycharm": {
     "name": "#%%\n"
    }
   }
  },
  {
   "cell_type": "code",
   "execution_count": 255,
   "outputs": [
    {
     "data": {
      "text/plain": "'()((((()())...(()(.())().)()).)()).......'"
     },
     "execution_count": 255,
     "metadata": {},
     "output_type": "execute_result"
    }
   ],
   "source": [
    "pairings = [(0, 1), (2, 33), (3, 30), (4, 28), (5, 10), (6, 7), (8, 9), (14, 25), (15, 16), (17, 21), (19, 20), (22, 23), (26, 27), (31, 32)]\n",
    "display(pairings, rna)\n",
    "\n"
   ],
   "metadata": {
    "collapsed": false,
    "pycharm": {
     "name": "#%%\n"
    }
   }
  },
  {
   "cell_type": "markdown",
   "source": [
    "### (d) _(1 pt)_ Modifications of the algorithm\n",
    "In the algorithm as described, the minimum hairpin loop consists of 1 base, e.g GUC\n",
    "where G and C are paired and the loop is formed by the single base U. Modify the\n",
    "algorithm so that a parameter h, indicating the minimum allowed loop length, can be\n",
    "given. The above algorithm corresponds to h = 1. In addition to h > 1 make sure\n",
    "your algorithm also works for h = 0."
   ],
   "metadata": {
    "collapsed": false,
    "pycharm": {
     "name": "#%% md\n"
    }
   }
  },
  {
   "cell_type": "code",
   "execution_count": 256,
   "outputs": [],
   "source": [
    "def Nussinov_matrix_H(rna:str,h:int=4) -> np.ndarray:\n",
    "\t\"\"\"\n",
    "\tGenerates the dynamic programming matrix N(i, j) for the Nussinov folding algorithm.\n",
    "\t Input: rna sequence\n",
    "\t Output: dynamic programming matrix N(i, j)\n",
    "\t\"\"\"\n",
    "\tN = np.zeros((len(rna), len(rna)), dtype=float )\n",
    "\tn = len(rna)\n",
    "\n",
    "\tfor k in range(n-1):\n",
    "\t\tfor i in range(n-1-k):\n",
    "\t\t\tj = i + k\n",
    "\t\t\tif j-i >= h:\n",
    "\t\t\t\top1 = N[i+1,j] # down\n",
    "\t\t\t\top2 = N[i,j-1] # left\n",
    "\t\t\t\top3 = N[i+1,j-1] + delta(i,j) # diagonal\n",
    "\t\t\t\top4 = max( [N[i,k] + N[k+1,j] for k in range(i,j)], default=0)\n",
    "\t\t\t\tN[i,j] = max(op1, op2,op3,op4)\n",
    "\n",
    "\treturn N"
   ],
   "metadata": {
    "collapsed": false,
    "pycharm": {
     "name": "#%%\n"
    }
   }
  },
  {
   "cell_type": "code",
   "execution_count": 257,
   "outputs": [],
   "source": [
    "rna = 'AUCGGAGCAUUUUUUGCUCCGACGCAGCCUCAUGCUUUUUU'\n",
    "n = len(rna)\n",
    "\n",
    "N = Nussinov_matrix_H(rna,4)\n",
    "pairings = []\n",
    "pairings = backtracking(1,n-1, pairings)"
   ],
   "metadata": {
    "collapsed": false,
    "pycharm": {
     "name": "#%%\n"
    }
   }
  },
  {
   "cell_type": "code",
   "execution_count": 258,
   "outputs": [],
   "source": [
    "N = Nussinov_matrix_H(rna,0)\n",
    "pairings = []\n",
    "pairings = backtracking(1,n-1, pairings)"
   ],
   "metadata": {
    "collapsed": false,
    "pycharm": {
     "name": "#%%\n"
    }
   }
  },
  {
   "cell_type": "code",
   "execution_count": 247,
   "outputs": [],
   "source": [],
   "metadata": {
    "collapsed": false,
    "pycharm": {
     "name": "#%%\n"
    }
   }
  }
 ],
 "metadata": {
  "kernelspec": {
   "display_name": "Python 3",
   "language": "python",
   "name": "python3"
  },
  "language_info": {
   "codemirror_mode": {
    "name": "ipython",
    "version": 2
   },
   "file_extension": ".py",
   "mimetype": "text/x-python",
   "name": "python",
   "nbconvert_exporter": "python",
   "pygments_lexer": "ipython2",
   "version": "2.7.6"
  }
 },
 "nbformat": 4,
 "nbformat_minor": 0
}